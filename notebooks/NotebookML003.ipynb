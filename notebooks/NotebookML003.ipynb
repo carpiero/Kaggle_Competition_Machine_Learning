{
 "cells": [
  {
   "cell_type": "markdown",
   "metadata": {},
   "source": [
    "<img src=\"../images/diamond.png\" alt=\"Drawing\" style=\"width: 200px;\"/>\n",
    "\n",
    "# **Diamond Datasheet** \n",
    "## **NotebookML 003**\n",
    "\n",
    "***\n",
    "\n",
    "## Machine Learning Model H20\n",
    "\n",
    "***"
   ]
  },
  {
   "cell_type": "code",
   "execution_count": 39,
   "metadata": {},
   "outputs": [],
   "source": [
    "from sklearn.metrics import r2_score, mean_squared_error\n",
    "from sklearn.model_selection import cross_val_score, train_test_split, RandomizedSearchCV , GridSearchCV\n",
    "import pandas as pd\n",
    "import numpy as np\n",
    "import h2o\n",
    "from h2o.automl import H2OAutoML\n",
    "\n",
    "X=pd.read_csv('../data/processed/X.csv')\n",
    "Y=pd.read_csv('../data/processed/Y.csv')\n",
    "X_predict=pd.read_csv('../data/processed/X_predict.csv')\n",
    "df_predict=pd.read_csv('../data/processed/df_predict.csv')"
   ]
  },
  {
   "cell_type": "code",
   "execution_count": 40,
   "metadata": {},
   "outputs": [
    {
     "name": "stdout",
     "output_type": "stream",
     "text": [
      "Checking whether there is an H2O instance running at http://localhost:54321 . connected.\n"
     ]
    },
    {
     "data": {
      "text/html": [
       "<div style=\"overflow:auto\"><table style=\"width:50%\"><tr><td>H2O_cluster_uptime:</td>\n",
       "<td>3 hours 5 mins</td></tr>\n",
       "<tr><td>H2O_cluster_timezone:</td>\n",
       "<td>Europe/Madrid</td></tr>\n",
       "<tr><td>H2O_data_parsing_timezone:</td>\n",
       "<td>UTC</td></tr>\n",
       "<tr><td>H2O_cluster_version:</td>\n",
       "<td>3.30.1.1</td></tr>\n",
       "<tr><td>H2O_cluster_version_age:</td>\n",
       "<td>2 months and 19 days </td></tr>\n",
       "<tr><td>H2O_cluster_name:</td>\n",
       "<td>H2O_from_python_carpiero_h4n8am</td></tr>\n",
       "<tr><td>H2O_cluster_total_nodes:</td>\n",
       "<td>1</td></tr>\n",
       "<tr><td>H2O_cluster_free_memory:</td>\n",
       "<td>3.342 Gb</td></tr>\n",
       "<tr><td>H2O_cluster_total_cores:</td>\n",
       "<td>4</td></tr>\n",
       "<tr><td>H2O_cluster_allowed_cores:</td>\n",
       "<td>4</td></tr>\n",
       "<tr><td>H2O_cluster_status:</td>\n",
       "<td>locked, healthy</td></tr>\n",
       "<tr><td>H2O_connection_url:</td>\n",
       "<td>http://localhost:54321</td></tr>\n",
       "<tr><td>H2O_connection_proxy:</td>\n",
       "<td>{\"http\": null, \"https\": null}</td></tr>\n",
       "<tr><td>H2O_internal_security:</td>\n",
       "<td>False</td></tr>\n",
       "<tr><td>H2O_API_Extensions:</td>\n",
       "<td>Amazon S3, XGBoost, Algos, AutoML, Core V3, TargetEncoder, Core V4</td></tr>\n",
       "<tr><td>Python_version:</td>\n",
       "<td>3.7.7 final</td></tr></table></div>"
      ],
      "text/plain": [
       "--------------------------  ------------------------------------------------------------------\n",
       "H2O_cluster_uptime:         3 hours 5 mins\n",
       "H2O_cluster_timezone:       Europe/Madrid\n",
       "H2O_data_parsing_timezone:  UTC\n",
       "H2O_cluster_version:        3.30.1.1\n",
       "H2O_cluster_version_age:    2 months and 19 days\n",
       "H2O_cluster_name:           H2O_from_python_carpiero_h4n8am\n",
       "H2O_cluster_total_nodes:    1\n",
       "H2O_cluster_free_memory:    3.342 Gb\n",
       "H2O_cluster_total_cores:    4\n",
       "H2O_cluster_allowed_cores:  4\n",
       "H2O_cluster_status:         locked, healthy\n",
       "H2O_connection_url:         http://localhost:54321\n",
       "H2O_connection_proxy:       {\"http\": null, \"https\": null}\n",
       "H2O_internal_security:      False\n",
       "H2O_API_Extensions:         Amazon S3, XGBoost, Algos, AutoML, Core V3, TargetEncoder, Core V4\n",
       "Python_version:             3.7.7 final\n",
       "--------------------------  ------------------------------------------------------------------"
      ]
     },
     "metadata": {},
     "output_type": "display_data"
    }
   ],
   "source": [
    "h2o.init()"
   ]
  },
  {
   "cell_type": "code",
   "execution_count": 37,
   "metadata": {},
   "outputs": [
    {
     "name": "stdout",
     "output_type": "stream",
     "text": [
      "(26756, 11)\n",
      "(6851, 11)\n",
      "(6690, 11)\n",
      "\n",
      "\n"
     ]
    }
   ],
   "source": [
    "X_train, X_test, Y_train, Y_test = train_test_split(X,Y, train_size=0.83)\n",
    "    \n",
    "X_train, X_validation, Y_train, Y_validation = train_test_split(X_train,Y_train, train_size=0.80)\n",
    "\n",
    "print(X_train.shape)\n",
    "print(X_test.shape)\n",
    "print(f'{X_validation.shape}\\n\\n')\n",
    "\n",
    "\n"
   ]
  },
  {
   "cell_type": "code",
   "execution_count": 4,
   "metadata": {},
   "outputs": [],
   "source": [
    "X_Y=pd.concat([X_train,Y_train], axis=1)\n"
   ]
  },
  {
   "cell_type": "code",
   "execution_count": 5,
   "metadata": {},
   "outputs": [
    {
     "data": {
      "text/plain": [
       "['carat',\n",
       " 'depth',\n",
       " 'table',\n",
       " 'x',\n",
       " 'y',\n",
       " 'z',\n",
       " 'cut_int',\n",
       " 'color_int',\n",
       " 'clarity_int',\n",
       " 'carat_sqr',\n",
       " 'high']"
      ]
     },
     "execution_count": 5,
     "metadata": {},
     "output_type": "execute_result"
    }
   ],
   "source": [
    "x= X.columns.to_list()\n",
    "y = \"price\"\n",
    "x"
   ]
  },
  {
   "cell_type": "code",
   "execution_count": 6,
   "metadata": {},
   "outputs": [
    {
     "name": "stdout",
     "output_type": "stream",
     "text": [
      "Parse progress: |█████████████████████████████████████████████████████████| 100%\n",
      "AutoML progress: |████████████████████████████████████████████████████████| 100%\n"
     ]
    }
   ],
   "source": [
    "# H2OAutoML(max_models=20,sort_metric='RMSE') 513.54\n",
    "# H2OAutoML(max_models=50,sort_metric='RMSE')\t514.594\n",
    "# H2OAutoML(max_models=100,max_runtime_secs=2000,sort_metric='RMSE') 513.786   #\n",
    "# H2OAutoML(max_models=200,sort_metric='RMSE')\n",
    "# H2OAutoML(max_models=400,max_runtime_secs=1000,sort_metric='RMSE')  516.046\n",
    "# H2OAutoML(max_models=50,max_runtime_secs=1000,sort_metric='RMSE') 512.375\n",
    "# H2OAutoML(max_models=20,max_runtime_secs=1000,sort_metric='RMSE') 519,203\n",
    "\n",
    "train_X_Y=h2o.H2OFrame(X_Y)\n",
    "aml = H2OAutoML(max_models=50,max_runtime_secs=500,sort_metric='RMSE')\n",
    "aml.train(x=x, y=y, training_frame=train_X_Y)\n"
   ]
  },
  {
   "cell_type": "code",
   "execution_count": 7,
   "metadata": {},
   "outputs": [
    {
     "data": {
      "text/html": [
       "<table>\n",
       "<thead>\n",
       "<tr><th>model_id                                           </th><th style=\"text-align: right;\">    rmse</th><th style=\"text-align: right;\">  mean_residual_deviance</th><th style=\"text-align: right;\">             mse</th><th style=\"text-align: right;\">     mae</th><th style=\"text-align: right;\">      rmsle</th></tr>\n",
       "</thead>\n",
       "<tbody>\n",
       "<tr><td>StackedEnsemble_AllModels_AutoML_20201030_105528   </td><td style=\"text-align: right;\"> 527.177</td><td style=\"text-align: right;\">        277916          </td><td style=\"text-align: right;\">277916          </td><td style=\"text-align: right;\"> 269.832</td><td style=\"text-align: right;\">  0.0946151</td></tr>\n",
       "<tr><td>StackedEnsemble_BestOfFamily_AutoML_20201030_105528</td><td style=\"text-align: right;\"> 530.609</td><td style=\"text-align: right;\">        281545          </td><td style=\"text-align: right;\">281545          </td><td style=\"text-align: right;\"> 270.262</td><td style=\"text-align: right;\">  0.0939368</td></tr>\n",
       "<tr><td>GBM_3_AutoML_20201030_105528                       </td><td style=\"text-align: right;\"> 536.642</td><td style=\"text-align: right;\">        287985          </td><td style=\"text-align: right;\">287985          </td><td style=\"text-align: right;\"> 275.35 </td><td style=\"text-align: right;\">  0.0955767</td></tr>\n",
       "<tr><td>GBM_1_AutoML_20201030_105528                       </td><td style=\"text-align: right;\"> 537.057</td><td style=\"text-align: right;\">        288430          </td><td style=\"text-align: right;\">288430          </td><td style=\"text-align: right;\"> 280.957</td><td style=\"text-align: right;\">nan        </td></tr>\n",
       "<tr><td>GBM_2_AutoML_20201030_105528                       </td><td style=\"text-align: right;\"> 539.229</td><td style=\"text-align: right;\">        290767          </td><td style=\"text-align: right;\">290767          </td><td style=\"text-align: right;\"> 278.255</td><td style=\"text-align: right;\">  0.0996879</td></tr>\n",
       "<tr><td>GBM_grid__1_AutoML_20201030_105528_model_2         </td><td style=\"text-align: right;\"> 539.527</td><td style=\"text-align: right;\">        291089          </td><td style=\"text-align: right;\">291089          </td><td style=\"text-align: right;\"> 273.773</td><td style=\"text-align: right;\">  0.0916264</td></tr>\n",
       "<tr><td>GBM_4_AutoML_20201030_105528                       </td><td style=\"text-align: right;\"> 541.096</td><td style=\"text-align: right;\">        292784          </td><td style=\"text-align: right;\">292784          </td><td style=\"text-align: right;\"> 273.688</td><td style=\"text-align: right;\">  0.0913205</td></tr>\n",
       "<tr><td>GBM_grid__1_AutoML_20201030_105528_model_4         </td><td style=\"text-align: right;\"> 546.522</td><td style=\"text-align: right;\">        298687          </td><td style=\"text-align: right;\">298687          </td><td style=\"text-align: right;\"> 274.739</td><td style=\"text-align: right;\">  0.0920384</td></tr>\n",
       "<tr><td>GBM_grid__1_AutoML_20201030_105528_model_3         </td><td style=\"text-align: right;\"> 548.699</td><td style=\"text-align: right;\">        301070          </td><td style=\"text-align: right;\">301070          </td><td style=\"text-align: right;\"> 290.115</td><td style=\"text-align: right;\">  0.108739 </td></tr>\n",
       "<tr><td>XGBoost_grid__1_AutoML_20201030_105528_model_4     </td><td style=\"text-align: right;\"> 552.654</td><td style=\"text-align: right;\">        305426          </td><td style=\"text-align: right;\">305426          </td><td style=\"text-align: right;\"> 280.005</td><td style=\"text-align: right;\">  0.0930759</td></tr>\n",
       "<tr><td>XGBoost_grid__1_AutoML_20201030_105528_model_9     </td><td style=\"text-align: right;\"> 554.12 </td><td style=\"text-align: right;\">        307049          </td><td style=\"text-align: right;\">307049          </td><td style=\"text-align: right;\"> 295.07 </td><td style=\"text-align: right;\">  0.108813 </td></tr>\n",
       "<tr><td>XGBoost_grid__1_AutoML_20201030_105528_model_7     </td><td style=\"text-align: right;\"> 557.063</td><td style=\"text-align: right;\">        310319          </td><td style=\"text-align: right;\">310319          </td><td style=\"text-align: right;\"> 297.739</td><td style=\"text-align: right;\">  0.109839 </td></tr>\n",
       "<tr><td>XGBoost_grid__1_AutoML_20201030_105528_model_5     </td><td style=\"text-align: right;\"> 557.225</td><td style=\"text-align: right;\">        310500          </td><td style=\"text-align: right;\">310500          </td><td style=\"text-align: right;\"> 283.685</td><td style=\"text-align: right;\">  0.0949199</td></tr>\n",
       "<tr><td>GBM_5_AutoML_20201030_105528                       </td><td style=\"text-align: right;\"> 561.852</td><td style=\"text-align: right;\">        315678          </td><td style=\"text-align: right;\">315678          </td><td style=\"text-align: right;\"> 283.702</td><td style=\"text-align: right;\">  0.0981567</td></tr>\n",
       "<tr><td>XGBoost_grid__1_AutoML_20201030_105528_model_3     </td><td style=\"text-align: right;\"> 562.651</td><td style=\"text-align: right;\">        316576          </td><td style=\"text-align: right;\">316576          </td><td style=\"text-align: right;\"> 304.762</td><td style=\"text-align: right;\">  0.113453 </td></tr>\n",
       "<tr><td>XGBoost_3_AutoML_20201030_105528                   </td><td style=\"text-align: right;\"> 563.327</td><td style=\"text-align: right;\">        317337          </td><td style=\"text-align: right;\">317337          </td><td style=\"text-align: right;\"> 299.857</td><td style=\"text-align: right;\">  0.111359 </td></tr>\n",
       "<tr><td>XGBoost_grid__1_AutoML_20201030_105528_model_10    </td><td style=\"text-align: right;\"> 564.695</td><td style=\"text-align: right;\">        318880          </td><td style=\"text-align: right;\">318880          </td><td style=\"text-align: right;\"> 287.212</td><td style=\"text-align: right;\">  0.0962147</td></tr>\n",
       "<tr><td>GBM_grid__1_AutoML_20201030_105528_model_5         </td><td style=\"text-align: right;\"> 565.951</td><td style=\"text-align: right;\">        320301          </td><td style=\"text-align: right;\">320301          </td><td style=\"text-align: right;\"> 293.495</td><td style=\"text-align: right;\">  0.101811 </td></tr>\n",
       "<tr><td>XGBoost_grid__1_AutoML_20201030_105528_model_2     </td><td style=\"text-align: right;\"> 566.272</td><td style=\"text-align: right;\">        320664          </td><td style=\"text-align: right;\">320664          </td><td style=\"text-align: right;\"> 287.301</td><td style=\"text-align: right;\">  0.0948745</td></tr>\n",
       "<tr><td>XGBoost_1_AutoML_20201030_105528                   </td><td style=\"text-align: right;\"> 569.182</td><td style=\"text-align: right;\">        323968          </td><td style=\"text-align: right;\">323968          </td><td style=\"text-align: right;\"> 289.709</td><td style=\"text-align: right;\">  0.0976298</td></tr>\n",
       "<tr><td>XGBoost_grid__1_AutoML_20201030_105528_model_6     </td><td style=\"text-align: right;\"> 569.77 </td><td style=\"text-align: right;\">        324637          </td><td style=\"text-align: right;\">324637          </td><td style=\"text-align: right;\"> 288.468</td><td style=\"text-align: right;\">  0.0951145</td></tr>\n",
       "<tr><td>XGBoost_grid__1_AutoML_20201030_105528_model_1     </td><td style=\"text-align: right;\"> 572.055</td><td style=\"text-align: right;\">        327246          </td><td style=\"text-align: right;\">327246          </td><td style=\"text-align: right;\"> 304.061</td><td style=\"text-align: right;\">  0.113766 </td></tr>\n",
       "<tr><td>XGBoost_2_AutoML_20201030_105528                   </td><td style=\"text-align: right;\"> 583.844</td><td style=\"text-align: right;\">        340873          </td><td style=\"text-align: right;\">340873          </td><td style=\"text-align: right;\"> 297.945</td><td style=\"text-align: right;\">  0.0970364</td></tr>\n",
       "<tr><td>DRF_1_AutoML_20201030_105528                       </td><td style=\"text-align: right;\"> 592.206</td><td style=\"text-align: right;\">        350708          </td><td style=\"text-align: right;\">350708          </td><td style=\"text-align: right;\"> 303.457</td><td style=\"text-align: right;\">  0.102931 </td></tr>\n",
       "<tr><td>XGBoost_grid__1_AutoML_20201030_105528_model_8     </td><td style=\"text-align: right;\"> 592.478</td><td style=\"text-align: right;\">        351031          </td><td style=\"text-align: right;\">351031          </td><td style=\"text-align: right;\"> 300.745</td><td style=\"text-align: right;\">  0.0986537</td></tr>\n",
       "<tr><td>XRT_1_AutoML_20201030_105528                       </td><td style=\"text-align: right;\"> 617.482</td><td style=\"text-align: right;\">        381284          </td><td style=\"text-align: right;\">381284          </td><td style=\"text-align: right;\"> 314.108</td><td style=\"text-align: right;\">  0.104698 </td></tr>\n",
       "<tr><td>DeepLearning_1_AutoML_20201030_105528              </td><td style=\"text-align: right;\"> 658.467</td><td style=\"text-align: right;\">        433579          </td><td style=\"text-align: right;\">433579          </td><td style=\"text-align: right;\"> 394    </td><td style=\"text-align: right;\">nan        </td></tr>\n",
       "<tr><td>DeepLearning_grid__1_AutoML_20201030_105528_model_1</td><td style=\"text-align: right;\"> 708.735</td><td style=\"text-align: right;\">        502306          </td><td style=\"text-align: right;\">502306          </td><td style=\"text-align: right;\"> 393.781</td><td style=\"text-align: right;\">nan        </td></tr>\n",
       "<tr><td>GBM_grid__1_AutoML_20201030_105528_model_1         </td><td style=\"text-align: right;\"> 828.798</td><td style=\"text-align: right;\">        686907          </td><td style=\"text-align: right;\">686907          </td><td style=\"text-align: right;\"> 455.486</td><td style=\"text-align: right;\">  0.163003 </td></tr>\n",
       "<tr><td>DeepLearning_grid__1_AutoML_20201030_105528_model_2</td><td style=\"text-align: right;\"> 928.769</td><td style=\"text-align: right;\">        862611          </td><td style=\"text-align: right;\">862611          </td><td style=\"text-align: right;\"> 507.268</td><td style=\"text-align: right;\">nan        </td></tr>\n",
       "<tr><td>DeepLearning_grid__2_AutoML_20201030_105528_model_1</td><td style=\"text-align: right;\">1124.32 </td><td style=\"text-align: right;\">             1.26409e+06</td><td style=\"text-align: right;\">     1.26409e+06</td><td style=\"text-align: right;\"> 613.245</td><td style=\"text-align: right;\">nan        </td></tr>\n",
       "<tr><td>GBM_grid__1_AutoML_20201030_105528_model_6         </td><td style=\"text-align: right;\">2005.01 </td><td style=\"text-align: right;\">             4.02005e+06</td><td style=\"text-align: right;\">     4.02005e+06</td><td style=\"text-align: right;\">1480.35 </td><td style=\"text-align: right;\">  0.713285 </td></tr>\n",
       "<tr><td>GLM_1_AutoML_20201030_105528                       </td><td style=\"text-align: right;\">4008.43 </td><td style=\"text-align: right;\">             1.60675e+07</td><td style=\"text-align: right;\">     1.60675e+07</td><td style=\"text-align: right;\">3047.39 </td><td style=\"text-align: right;\">  1.13149  </td></tr>\n",
       "</tbody>\n",
       "</table>"
      ]
     },
     "metadata": {},
     "output_type": "display_data"
    },
    {
     "data": {
      "text/plain": []
     },
     "execution_count": 7,
     "metadata": {},
     "output_type": "execute_result"
    }
   ],
   "source": [
    "lb = aml.leaderboard\n",
    "lb.head(rows=lb.nrows)"
   ]
  },
  {
   "cell_type": "code",
   "execution_count": 38,
   "metadata": {},
   "outputs": [
    {
     "name": "stdout",
     "output_type": "stream",
     "text": [
      "Parse progress: |█████████████████████████████████████████████████████████| 100%\n",
      "Parse progress: |█████████████████████████████████████████████████████████| 100%\n",
      "Parse progress: |█████████████████████████████████████████████████████████| 100%\n",
      "stackedensemble prediction progress: |████████████████████████████████████| 100%\n",
      "stackedensemble prediction progress: |████████████████████████████████████| 100%\n",
      "stackedensemble prediction progress: |████████████████████████████████████| 100%\n",
      "(26756,)\n",
      "(26756,)\n",
      " RMSE train = 447.81276410994514\n",
      " RMSE test = 449.57819581027417\n",
      " RMSE validation = 452.35172737795114\n",
      "\n",
      "\n",
      " RMSE proxy = 99.30101055456176\n",
      "\n",
      "\n"
     ]
    }
   ],
   "source": [
    "\n",
    "predictions_train = h2o.H2OFrame(X_train)\n",
    "predictions_test = h2o.H2OFrame(X_test)\n",
    "predictions_validation = h2o.H2OFrame(X_validation)\n",
    "\n",
    "\n",
    "predictions_train = aml.leader.predict(predictions_train)\n",
    "predictions_test = aml.leader.predict(predictions_test)\n",
    "predictions_validation = aml.leader.predict(predictions_validation)\n",
    "\n",
    "\n",
    "predictions_train=predictions_train.as_data_frame()\n",
    "predictions_test = predictions_test.as_data_frame()\n",
    "predictions_validation = predictions_validation.as_data_frame()\n",
    "\n",
    "\n",
    "predictions_train=predictions_train['predict'].array\n",
    "predictions_test = predictions_test['predict'].array\n",
    "predictions_validation = predictions_validation['predict'].array\n",
    "\n",
    "\n",
    "Y_train=Y_train['price'].array\n",
    "Y_validation=Y_validation['price'].array\n",
    "Y_test=Y_test['price'].array\n",
    "\n",
    "\n",
    "\n",
    "print( predictions_train.shape)\n",
    "print( Y_train.shape)\n",
    "\n",
    "strain=(mean_squared_error(Y_train, predictions_train,squared=False))\n",
    "stest=(mean_squared_error(Y_test, predictions_test,squared=False))\n",
    "svalidation=(mean_squared_error(Y_validation, predictions_validation,squared=False))\n",
    "\n",
    "proxy=(strain/(stest/2 + svalidation/2))*100\n",
    "\n",
    "print(f' RMSE train = {(mean_squared_error(Y_train, predictions_train,squared=False))}')\n",
    "print(f' RMSE test = {(mean_squared_error(Y_test, predictions_test,squared=False))}')\n",
    "print(f' RMSE validation = {(mean_squared_error(Y_validation, predictions_validation,squared=False))}\\n\\n')\n",
    "print(f' RMSE proxy = {proxy}\\n\\n')"
   ]
  },
  {
   "cell_type": "markdown",
   "metadata": {},
   "source": [
    "***\n",
    "\n",
    "### Final Predict\n",
    "\n",
    "***"
   ]
  },
  {
   "cell_type": "code",
   "execution_count": 21,
   "metadata": {},
   "outputs": [
    {
     "name": "stdout",
     "output_type": "stream",
     "text": [
      "Parse progress: |█████████████████████████████████████████████████████████| 100%\n",
      "stackedensemble prediction progress: |████████████████████████████████████| 100%\n"
     ]
    }
   ],
   "source": [
    "predict_X=h2o.H2OFrame(X_predict)\n",
    "predictions_competition= aml.leader.predict(predict_X)\n",
    "predictions_competition=predictions_competition.as_data_frame()\n"
   ]
  },
  {
   "cell_type": "code",
   "execution_count": 22,
   "metadata": {},
   "outputs": [],
   "source": [
    "\n",
    "submission = pd.DataFrame({'id': df_predict['id'], 'price': predictions_competition['predict']})\n",
    "submission['id'] = submission['id'].astype('int64')\n",
    "\n",
    "submission.to_csv(f'/home/carpiero/IRONHACK/kaggle/H2OAutoML(max_models=50,max_runtime_secs=500,so_526_336.csv', index=False)\n",
    "\n"
   ]
  },
  {
   "cell_type": "code",
   "execution_count": 41,
   "metadata": {},
   "outputs": [
    {
     "name": "stdout",
     "output_type": "stream",
     "text": [
      "H2O session _sid_8d87 closed.\n"
     ]
    }
   ],
   "source": [
    "h2o.cluster().shutdown()"
   ]
  },
  {
   "cell_type": "code",
   "execution_count": 31,
   "metadata": {},
   "outputs": [
    {
     "data": {
      "text/plain": [
       "count    13485.000000\n",
       "mean      3951.208307\n",
       "std       3959.686934\n",
       "min        345.780824\n",
       "25%        926.090826\n",
       "50%       2451.074238\n",
       "75%       5335.157959\n",
       "max      18193.464176\n",
       "Name: price, dtype: float64"
      ]
     },
     "execution_count": 31,
     "metadata": {},
     "output_type": "execute_result"
    }
   ],
   "source": [
    "# H2OAutoML(max_models=20,max_runtime_secs=1000,sort_metric='RMSE')  511.791\n",
    "# count    13485.000000\n",
    "# mean      3947.534876\n",
    "# std       3940.890099\n",
    "# min        342.779315\n",
    "# 25%        935.550702\n",
    "# 50%       2449.032989\n",
    "# 75%       5329.584411\n",
    "# max      18128.114212\n",
    "# Name: price, dtype: float64\n",
    "\n",
    "# H2OAutoML(max_models=20,max_runtime_secs=1000,sort_metric='RMSE')  514.349\n",
    "# count    13485.000000\n",
    "# mean      3945.590390\n",
    "# std       3957.416982\n",
    "# min        332.303338\n",
    "# 25%        929.447763\n",
    "# 50%       2447.357701\n",
    "# 75%       5315.242484\n",
    "# max      18172.341788\n",
    "# Name: price, dtype: float64\n",
    "\n",
    "\n",
    "\n",
    "submission['price'].describe()"
   ]
  },
  {
   "cell_type": "code",
   "execution_count": null,
   "metadata": {},
   "outputs": [],
   "source": []
  }
 ],
 "metadata": {
  "kernelspec": {
   "display_name": "Python [conda env:ml_env]",
   "language": "python",
   "name": "conda-env-ml_env-py"
  },
  "language_info": {
   "codemirror_mode": {
    "name": "ipython",
    "version": 3
   },
   "file_extension": ".py",
   "mimetype": "text/x-python",
   "name": "python",
   "nbconvert_exporter": "python",
   "pygments_lexer": "ipython3",
   "version": "3.7.7"
  }
 },
 "nbformat": 4,
 "nbformat_minor": 4
}
