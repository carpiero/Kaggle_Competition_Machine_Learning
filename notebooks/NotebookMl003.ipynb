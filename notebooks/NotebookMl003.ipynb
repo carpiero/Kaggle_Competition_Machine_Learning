{
 "cells": [
  {
   "cell_type": "code",
   "execution_count": 1,
   "metadata": {},
   "outputs": [],
   "source": [
    "from sklearn.model_selection import cross_val_score\n",
    "import pandas as pd\n",
    "import numpy as np\n",
    "import h2o\n",
    "from h2o.automl import H2OAutoML\n",
    "\n",
    "X=pd.read_csv('../data/processed/X.csv')\n",
    "Y=pd.read_csv('../data/processed/Y.csv')\n",
    "X_predict=pd.read_csv('../data/processed/X_predict.csv')\n",
    "df_predict=pd.read_csv('../data/processed/df_predict.csv')"
   ]
  },
  {
   "cell_type": "code",
   "execution_count": 2,
   "metadata": {},
   "outputs": [
    {
     "name": "stdout",
     "output_type": "stream",
     "text": [
      "Checking whether there is an H2O instance running at http://localhost:54321 ..... not found.\n",
      "Attempting to start a local H2O server...\n",
      "  Java Version: openjdk version \"11.0.1-internal\" 2018-10-16; OpenJDK Runtime Environment (build 11.0.1-internal+0-adhoc..src); OpenJDK 64-Bit Server VM (build 11.0.1-internal+0-adhoc..src, mixed mode)\n",
      "  Starting server from /home/carpiero/miniconda3/envs/ml_env/lib/python3.7/site-packages/h2o/backend/bin/h2o.jar\n",
      "  Ice root: /tmp/tmpt0th1fiw\n",
      "  JVM stdout: /tmp/tmpt0th1fiw/h2o_carpiero_started_from_python.out\n",
      "  JVM stderr: /tmp/tmpt0th1fiw/h2o_carpiero_started_from_python.err\n",
      "  Server is running at http://127.0.0.1:54321\n",
      "Connecting to H2O server at http://127.0.0.1:54321 ... successful.\n"
     ]
    },
    {
     "data": {
      "text/html": [
       "<div style=\"overflow:auto\"><table style=\"width:50%\"><tr><td>H2O_cluster_uptime:</td>\n",
       "<td>04 secs</td></tr>\n",
       "<tr><td>H2O_cluster_timezone:</td>\n",
       "<td>Europe/Madrid</td></tr>\n",
       "<tr><td>H2O_data_parsing_timezone:</td>\n",
       "<td>UTC</td></tr>\n",
       "<tr><td>H2O_cluster_version:</td>\n",
       "<td>3.30.1.1</td></tr>\n",
       "<tr><td>H2O_cluster_version_age:</td>\n",
       "<td>1 month </td></tr>\n",
       "<tr><td>H2O_cluster_name:</td>\n",
       "<td>H2O_from_python_carpiero_4a2081</td></tr>\n",
       "<tr><td>H2O_cluster_total_nodes:</td>\n",
       "<td>1</td></tr>\n",
       "<tr><td>H2O_cluster_free_memory:</td>\n",
       "<td>3.686 Gb</td></tr>\n",
       "<tr><td>H2O_cluster_total_cores:</td>\n",
       "<td>4</td></tr>\n",
       "<tr><td>H2O_cluster_allowed_cores:</td>\n",
       "<td>4</td></tr>\n",
       "<tr><td>H2O_cluster_status:</td>\n",
       "<td>accepting new members, healthy</td></tr>\n",
       "<tr><td>H2O_connection_url:</td>\n",
       "<td>http://127.0.0.1:54321</td></tr>\n",
       "<tr><td>H2O_connection_proxy:</td>\n",
       "<td>{\"http\": null, \"https\": null}</td></tr>\n",
       "<tr><td>H2O_internal_security:</td>\n",
       "<td>False</td></tr>\n",
       "<tr><td>H2O_API_Extensions:</td>\n",
       "<td>Amazon S3, XGBoost, Algos, AutoML, Core V3, TargetEncoder, Core V4</td></tr>\n",
       "<tr><td>Python_version:</td>\n",
       "<td>3.7.7 final</td></tr></table></div>"
      ],
      "text/plain": [
       "--------------------------  ------------------------------------------------------------------\n",
       "H2O_cluster_uptime:         04 secs\n",
       "H2O_cluster_timezone:       Europe/Madrid\n",
       "H2O_data_parsing_timezone:  UTC\n",
       "H2O_cluster_version:        3.30.1.1\n",
       "H2O_cluster_version_age:    1 month\n",
       "H2O_cluster_name:           H2O_from_python_carpiero_4a2081\n",
       "H2O_cluster_total_nodes:    1\n",
       "H2O_cluster_free_memory:    3.686 Gb\n",
       "H2O_cluster_total_cores:    4\n",
       "H2O_cluster_allowed_cores:  4\n",
       "H2O_cluster_status:         accepting new members, healthy\n",
       "H2O_connection_url:         http://127.0.0.1:54321\n",
       "H2O_connection_proxy:       {\"http\": null, \"https\": null}\n",
       "H2O_internal_security:      False\n",
       "H2O_API_Extensions:         Amazon S3, XGBoost, Algos, AutoML, Core V3, TargetEncoder, Core V4\n",
       "Python_version:             3.7.7 final\n",
       "--------------------------  ------------------------------------------------------------------"
      ]
     },
     "metadata": {},
     "output_type": "display_data"
    }
   ],
   "source": [
    "h2o.init()"
   ]
  },
  {
   "cell_type": "code",
   "execution_count": 3,
   "metadata": {},
   "outputs": [],
   "source": [
    "X_Y=pd.concat([X,Y], axis=1)\n"
   ]
  },
  {
   "cell_type": "code",
   "execution_count": 4,
   "metadata": {},
   "outputs": [
    {
     "data": {
      "text/plain": [
       "['carat',\n",
       " 'depth',\n",
       " 'table',\n",
       " 'x',\n",
       " 'y',\n",
       " 'z',\n",
       " 'cut_int',\n",
       " 'color_int',\n",
       " 'clarity_int']"
      ]
     },
     "execution_count": 4,
     "metadata": {},
     "output_type": "execute_result"
    }
   ],
   "source": [
    "x= X.columns.to_list()\n",
    "y = \"price\"\n",
    "x"
   ]
  },
  {
   "cell_type": "code",
   "execution_count": 35,
   "metadata": {},
   "outputs": [
    {
     "name": "stdout",
     "output_type": "stream",
     "text": [
      "Parse progress: |█████████████████████████████████████████████████████████| 100%\n",
      "AutoML progress: |████████████████████████████████████████████████████████| 100%\n"
     ]
    }
   ],
   "source": [
    "# H2OAutoML(max_models=20,sort_metric='RMSE') 513.54\n",
    "# H2OAutoML(max_models=50,sort_metric='RMSE')\t514.594\n",
    "# H2OAutoML(max_models=100,max_runtime_secs=2000,sort_metric='RMSE') 513.786   \n",
    "# H2OAutoML(max_models=200,sort_metric='RMSE')\n",
    "# H2OAutoML(max_models=400,max_runtime_secs=1000,sort_metric='RMSE')  516.046\n",
    "# H2OAutoML(max_models=50,max_runtime_secs=1000,sort_metric='RMSE') 512.375\n",
    "# H2OAutoML(max_models=20,max_runtime_secs=1000,sort_metric='RMSE') 519,203\n",
    "\n",
    "train_X_Y=h2o.H2OFrame(X_Y)\n",
    "aml = H2OAutoML(max_models=50,max_runtime_secs=1000,sort_metric='RMSE')\n",
    "aml.train(x=x, y=y, training_frame=train_X_Y)\n"
   ]
  },
  {
   "cell_type": "code",
   "execution_count": 36,
   "metadata": {},
   "outputs": [
    {
     "data": {
      "text/html": [
       "<table>\n",
       "<thead>\n",
       "<tr><th>model_id                                           </th><th style=\"text-align: right;\">    rmse</th><th style=\"text-align: right;\">  mean_residual_deviance</th><th style=\"text-align: right;\">             mse</th><th style=\"text-align: right;\">     mae</th><th style=\"text-align: right;\">      rmsle</th></tr>\n",
       "</thead>\n",
       "<tbody>\n",
       "<tr><td>StackedEnsemble_AllModels_AutoML_20200911_182627   </td><td style=\"text-align: right;\"> 515.103</td><td style=\"text-align: right;\">        265331          </td><td style=\"text-align: right;\">265331          </td><td style=\"text-align: right;\"> 263.687</td><td style=\"text-align: right;\">  0.0915423</td></tr>\n",
       "<tr><td>StackedEnsemble_BestOfFamily_AutoML_20200911_182627</td><td style=\"text-align: right;\"> 515.759</td><td style=\"text-align: right;\">        266008          </td><td style=\"text-align: right;\">266008          </td><td style=\"text-align: right;\"> 263.158</td><td style=\"text-align: right;\">  0.0906673</td></tr>\n",
       "<tr><td>GBM_3_AutoML_20200911_182627                       </td><td style=\"text-align: right;\"> 518.994</td><td style=\"text-align: right;\">        269355          </td><td style=\"text-align: right;\">269355          </td><td style=\"text-align: right;\"> 267.537</td><td style=\"text-align: right;\">  0.093399 </td></tr>\n",
       "<tr><td>GBM_2_AutoML_20200911_182627                       </td><td style=\"text-align: right;\"> 524.656</td><td style=\"text-align: right;\">        275264          </td><td style=\"text-align: right;\">275264          </td><td style=\"text-align: right;\"> 273.407</td><td style=\"text-align: right;\">  0.097571 </td></tr>\n",
       "<tr><td>GBM_4_AutoML_20200911_182627                       </td><td style=\"text-align: right;\"> 526.604</td><td style=\"text-align: right;\">        277312          </td><td style=\"text-align: right;\">277312          </td><td style=\"text-align: right;\"> 268.309</td><td style=\"text-align: right;\">  0.091631 </td></tr>\n",
       "<tr><td>GBM_grid__1_AutoML_20200911_182627_model_1         </td><td style=\"text-align: right;\"> 528.085</td><td style=\"text-align: right;\">        278874          </td><td style=\"text-align: right;\">278874          </td><td style=\"text-align: right;\"> 266.183</td><td style=\"text-align: right;\">  0.087984 </td></tr>\n",
       "<tr><td>GBM_1_AutoML_20200911_182627                       </td><td style=\"text-align: right;\"> 528.42 </td><td style=\"text-align: right;\">        279227          </td><td style=\"text-align: right;\">279227          </td><td style=\"text-align: right;\"> 277.115</td><td style=\"text-align: right;\">  0.101476 </td></tr>\n",
       "<tr><td>XGBoost_grid__1_AutoML_20200911_182627_model_2     </td><td style=\"text-align: right;\"> 540.224</td><td style=\"text-align: right;\">        291842          </td><td style=\"text-align: right;\">291842          </td><td style=\"text-align: right;\"> 275.159</td><td style=\"text-align: right;\">  0.0918175</td></tr>\n",
       "<tr><td>GBM_grid__1_AutoML_20200911_182627_model_3         </td><td style=\"text-align: right;\"> 542.836</td><td style=\"text-align: right;\">        294671          </td><td style=\"text-align: right;\">294671          </td><td style=\"text-align: right;\"> 289.84 </td><td style=\"text-align: right;\">  0.11363  </td></tr>\n",
       "<tr><td>XGBoost_3_AutoML_20200911_182627                   </td><td style=\"text-align: right;\"> 544.137</td><td style=\"text-align: right;\">        296085          </td><td style=\"text-align: right;\">296085          </td><td style=\"text-align: right;\"> 291.489</td><td style=\"text-align: right;\">  0.108901 </td></tr>\n",
       "<tr><td>GBM_5_AutoML_20200911_182627                       </td><td style=\"text-align: right;\"> 551.494</td><td style=\"text-align: right;\">        304146          </td><td style=\"text-align: right;\">304146          </td><td style=\"text-align: right;\"> 277.395</td><td style=\"text-align: right;\">  0.0943298</td></tr>\n",
       "<tr><td>XGBoost_grid__1_AutoML_20200911_182627_model_1     </td><td style=\"text-align: right;\"> 558.758</td><td style=\"text-align: right;\">        312211          </td><td style=\"text-align: right;\">312211          </td><td style=\"text-align: right;\"> 299.503</td><td style=\"text-align: right;\">  0.11198  </td></tr>\n",
       "<tr><td>DRF_1_AutoML_20200911_182627                       </td><td style=\"text-align: right;\"> 559.348</td><td style=\"text-align: right;\">        312870          </td><td style=\"text-align: right;\">312870          </td><td style=\"text-align: right;\"> 284.213</td><td style=\"text-align: right;\">  0.0959382</td></tr>\n",
       "<tr><td>XGBoost_2_AutoML_20200911_182627                   </td><td style=\"text-align: right;\"> 566.245</td><td style=\"text-align: right;\">        320633          </td><td style=\"text-align: right;\">320633          </td><td style=\"text-align: right;\"> 287.711</td><td style=\"text-align: right;\">  0.0945267</td></tr>\n",
       "<tr><td>XGBoost_grid__1_AutoML_20200911_182627_model_3     </td><td style=\"text-align: right;\"> 568.874</td><td style=\"text-align: right;\">        323618          </td><td style=\"text-align: right;\">323618          </td><td style=\"text-align: right;\"> 287.383</td><td style=\"text-align: right;\">  0.0942957</td></tr>\n",
       "<tr><td>XGBoost_1_AutoML_20200911_182627                   </td><td style=\"text-align: right;\"> 570.317</td><td style=\"text-align: right;\">        325261          </td><td style=\"text-align: right;\">325261          </td><td style=\"text-align: right;\"> 289.134</td><td style=\"text-align: right;\">  0.0959176</td></tr>\n",
       "<tr><td>GBM_grid__1_AutoML_20200911_182627_model_2         </td><td style=\"text-align: right;\"> 581.396</td><td style=\"text-align: right;\">        338021          </td><td style=\"text-align: right;\">338021          </td><td style=\"text-align: right;\"> 310.669</td><td style=\"text-align: right;\">  0.114502 </td></tr>\n",
       "<tr><td>XRT_1_AutoML_20200911_182627                       </td><td style=\"text-align: right;\"> 591.992</td><td style=\"text-align: right;\">        350455          </td><td style=\"text-align: right;\">350455          </td><td style=\"text-align: right;\"> 301.802</td><td style=\"text-align: right;\">  0.101349 </td></tr>\n",
       "<tr><td>DeepLearning_1_AutoML_20200911_182627              </td><td style=\"text-align: right;\"> 623.088</td><td style=\"text-align: right;\">        388239          </td><td style=\"text-align: right;\">388239          </td><td style=\"text-align: right;\"> 357.27 </td><td style=\"text-align: right;\">nan        </td></tr>\n",
       "<tr><td>DeepLearning_grid__1_AutoML_20200911_182627_model_1</td><td style=\"text-align: right;\"> 788.809</td><td style=\"text-align: right;\">        622220          </td><td style=\"text-align: right;\">622220          </td><td style=\"text-align: right;\"> 422.622</td><td style=\"text-align: right;\">nan        </td></tr>\n",
       "<tr><td>DeepLearning_grid__2_AutoML_20200911_182627_model_2</td><td style=\"text-align: right;\"> 828.34 </td><td style=\"text-align: right;\">        686148          </td><td style=\"text-align: right;\">686148          </td><td style=\"text-align: right;\"> 474.229</td><td style=\"text-align: right;\">  0.178511 </td></tr>\n",
       "<tr><td>DeepLearning_grid__2_AutoML_20200911_182627_model_1</td><td style=\"text-align: right;\">1265.1  </td><td style=\"text-align: right;\">             1.60049e+06</td><td style=\"text-align: right;\">     1.60049e+06</td><td style=\"text-align: right;\">1063.16 </td><td style=\"text-align: right;\">  0.702884 </td></tr>\n",
       "<tr><td>GBM_grid__1_AutoML_20200911_182627_model_4         </td><td style=\"text-align: right;\">1447.95 </td><td style=\"text-align: right;\">             2.09657e+06</td><td style=\"text-align: right;\">     2.09657e+06</td><td style=\"text-align: right;\"> 943.858</td><td style=\"text-align: right;\">  0.486847 </td></tr>\n",
       "<tr><td>GBM_grid__1_AutoML_20200911_182627_model_5         </td><td style=\"text-align: right;\">3600.16 </td><td style=\"text-align: right;\">             1.29611e+07</td><td style=\"text-align: right;\">     1.29611e+07</td><td style=\"text-align: right;\">2731.27 </td><td style=\"text-align: right;\">  1.05011  </td></tr>\n",
       "<tr><td>GLM_1_AutoML_20200911_182627                       </td><td style=\"text-align: right;\">3988.11 </td><td style=\"text-align: right;\">             1.5905e+07 </td><td style=\"text-align: right;\">     1.5905e+07 </td><td style=\"text-align: right;\">3030.91 </td><td style=\"text-align: right;\">  1.12826  </td></tr>\n",
       "</tbody>\n",
       "</table>"
      ]
     },
     "metadata": {},
     "output_type": "display_data"
    },
    {
     "data": {
      "text/plain": []
     },
     "execution_count": 36,
     "metadata": {},
     "output_type": "execute_result"
    }
   ],
   "source": [
    "lb = aml.leaderboard\n",
    "lb.head(rows=lb.nrows)"
   ]
  },
  {
   "cell_type": "code",
   "execution_count": 29,
   "metadata": {},
   "outputs": [
    {
     "name": "stdout",
     "output_type": "stream",
     "text": [
      "Parse progress: |█████████████████████████████████████████████████████████| 100%\n",
      "stackedensemble prediction progress: |████████████████████████████████████| 100%\n"
     ]
    }
   ],
   "source": [
    "predict_X=h2o.H2OFrame(X_predict)\n",
    "predictions_competition= aml.leader.predict(predict_X)\n",
    "predictions_competition=predictions_competition.as_data_frame()\n"
   ]
  },
  {
   "cell_type": "code",
   "execution_count": 30,
   "metadata": {},
   "outputs": [],
   "source": [
    "\n",
    "submission = pd.DataFrame({'id': df_predict['id'], 'price': predictions_competition['predict']})\n",
    "submission['id'] = submission['id'].astype('int64')\n",
    "# submission.loc[94,'price'] =20631\n",
    "submission.to_csv(f'/home/carpiero/IRONHACK/kaggle/H2OAutoML(max_models=100,max_runtime_secs=2000,so_513_786.csv', index=False)\n",
    "\n"
   ]
  },
  {
   "cell_type": "code",
   "execution_count": 55,
   "metadata": {},
   "outputs": [
    {
     "name": "stdout",
     "output_type": "stream",
     "text": [
      "H2O session _sid_ba7f closed.\n"
     ]
    }
   ],
   "source": [
    "h2o.cluster().shutdown()"
   ]
  },
  {
   "cell_type": "code",
   "execution_count": 31,
   "metadata": {},
   "outputs": [
    {
     "data": {
      "text/plain": [
       "count    13485.000000\n",
       "mean      3951.208307\n",
       "std       3959.686934\n",
       "min        345.780824\n",
       "25%        926.090826\n",
       "50%       2451.074238\n",
       "75%       5335.157959\n",
       "max      18193.464176\n",
       "Name: price, dtype: float64"
      ]
     },
     "execution_count": 31,
     "metadata": {},
     "output_type": "execute_result"
    }
   ],
   "source": [
    "# H2OAutoML(max_models=20,max_runtime_secs=1000,sort_metric='RMSE')  511.791\n",
    "# count    13485.000000\n",
    "# mean      3947.534876\n",
    "# std       3940.890099\n",
    "# min        342.779315\n",
    "# 25%        935.550702\n",
    "# 50%       2449.032989\n",
    "# 75%       5329.584411\n",
    "# max      18128.114212\n",
    "# Name: price, dtype: float64\n",
    "\n",
    "# H2OAutoML(max_models=20,max_runtime_secs=1000,sort_metric='RMSE')  514.349\n",
    "# count    13485.000000\n",
    "# mean      3945.590390\n",
    "# std       3957.416982\n",
    "# min        332.303338\n",
    "# 25%        929.447763\n",
    "# 50%       2447.357701\n",
    "# 75%       5315.242484\n",
    "# max      18172.341788\n",
    "# Name: price, dtype: float64\n",
    "\n",
    "# H2OAutoML(max_models=20,sort_metric='RMSE') 513.54\n",
    "# count    13485.000000\n",
    "# mean      3947.669040\n",
    "# std       3955.296976\n",
    "# min      -3632.844472\n",
    "# 25%        929.536782\n",
    "# 50%       2447.944121\n",
    "# 75%       5330.010441\n",
    "# max      18360.233323\n",
    "# Name: price, dtype: float64\n",
    "\n",
    "# H2OAutoML(max_models=50,sort_metric='RMSE')\t514.594\n",
    "# count    13485.000000\n",
    "# mean      3949.975678\n",
    "# std       3954.971628\n",
    "# min        342.490903\n",
    "# 25%        926.883552\n",
    "# 50%       2451.419051\n",
    "# 75%       5328.877249\n",
    "# max      18114.604913\n",
    "# Name: price, dtype: float64\n",
    "\n",
    "# H2OAutoML(max_models=100,max_runtime_secs=2000,sort_metric='RMSE') 513.786 \n",
    "# count    13485.000000\n",
    "# mean      3951.208307\n",
    "# std       3959.686934\n",
    "# min        345.780824\n",
    "# 25%        926.090826\n",
    "# 50%       2451.074238\n",
    "# 75%       5335.157959\n",
    "# max      18193.464176\n",
    "# Name: price, dtype: float64\n",
    "\n",
    "\n",
    "submission['price'].describe()"
   ]
  },
  {
   "cell_type": "code",
   "execution_count": null,
   "metadata": {},
   "outputs": [],
   "source": []
  }
 ],
 "metadata": {
  "kernelspec": {
   "display_name": "Python [conda env:ml_env]",
   "language": "python",
   "name": "conda-env-ml_env-py"
  },
  "language_info": {
   "codemirror_mode": {
    "name": "ipython",
    "version": 3
   },
   "file_extension": ".py",
   "mimetype": "text/x-python",
   "name": "python",
   "nbconvert_exporter": "python",
   "pygments_lexer": "ipython3",
   "version": "3.7.7"
  }
 },
 "nbformat": 4,
 "nbformat_minor": 4
}
