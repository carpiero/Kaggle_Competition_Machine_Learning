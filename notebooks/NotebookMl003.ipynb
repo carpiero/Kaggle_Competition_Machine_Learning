{
 "cells": [
  {
   "cell_type": "code",
   "execution_count": 11,
   "metadata": {},
   "outputs": [],
   "source": [
    "from sklearn.model_selection import cross_val_score\n",
    "import pandas as pd\n",
    "import numpy as np\n",
    "import h2o\n",
    "from h2o.automl import H2OAutoML\n",
    "\n",
    "X=pd.read_csv('../data/processed/X.csv')\n",
    "Y=pd.read_csv('../data/processed/Y.csv')\n",
    "X_predict=pd.read_csv('../data/processed/X_predict.csv')\n",
    "df_predict=pd.read_csv('../data/processed/df_predict.csv')"
   ]
  },
  {
   "cell_type": "code",
   "execution_count": 12,
   "metadata": {},
   "outputs": [
    {
     "name": "stdout",
     "output_type": "stream",
     "text": [
      "Checking whether there is an H2O instance running at http://localhost:54321 ..... not found.\n",
      "Attempting to start a local H2O server...\n",
      "  Java Version: openjdk version \"11.0.1-internal\" 2018-10-16; OpenJDK Runtime Environment (build 11.0.1-internal+0-adhoc..src); OpenJDK 64-Bit Server VM (build 11.0.1-internal+0-adhoc..src, mixed mode)\n",
      "  Starting server from /home/carpiero/miniconda3/envs/ml_env/lib/python3.7/site-packages/h2o/backend/bin/h2o.jar\n",
      "  Ice root: /tmp/tmpyitqwrgy\n",
      "  JVM stdout: /tmp/tmpyitqwrgy/h2o_carpiero_started_from_python.out\n",
      "  JVM stderr: /tmp/tmpyitqwrgy/h2o_carpiero_started_from_python.err\n",
      "  Server is running at http://127.0.0.1:54321\n",
      "Connecting to H2O server at http://127.0.0.1:54321 ... successful.\n"
     ]
    },
    {
     "data": {
      "text/html": [
       "<div style=\"overflow:auto\"><table style=\"width:50%\"><tr><td>H2O_cluster_uptime:</td>\n",
       "<td>05 secs</td></tr>\n",
       "<tr><td>H2O_cluster_timezone:</td>\n",
       "<td>Europe/Madrid</td></tr>\n",
       "<tr><td>H2O_data_parsing_timezone:</td>\n",
       "<td>UTC</td></tr>\n",
       "<tr><td>H2O_cluster_version:</td>\n",
       "<td>3.30.1.1</td></tr>\n",
       "<tr><td>H2O_cluster_version_age:</td>\n",
       "<td>30 days </td></tr>\n",
       "<tr><td>H2O_cluster_name:</td>\n",
       "<td>H2O_from_python_carpiero_jbnj0y</td></tr>\n",
       "<tr><td>H2O_cluster_total_nodes:</td>\n",
       "<td>1</td></tr>\n",
       "<tr><td>H2O_cluster_free_memory:</td>\n",
       "<td>3.686 Gb</td></tr>\n",
       "<tr><td>H2O_cluster_total_cores:</td>\n",
       "<td>4</td></tr>\n",
       "<tr><td>H2O_cluster_allowed_cores:</td>\n",
       "<td>4</td></tr>\n",
       "<tr><td>H2O_cluster_status:</td>\n",
       "<td>accepting new members, healthy</td></tr>\n",
       "<tr><td>H2O_connection_url:</td>\n",
       "<td>http://127.0.0.1:54321</td></tr>\n",
       "<tr><td>H2O_connection_proxy:</td>\n",
       "<td>{\"http\": null, \"https\": null}</td></tr>\n",
       "<tr><td>H2O_internal_security:</td>\n",
       "<td>False</td></tr>\n",
       "<tr><td>H2O_API_Extensions:</td>\n",
       "<td>Amazon S3, XGBoost, Algos, AutoML, Core V3, TargetEncoder, Core V4</td></tr>\n",
       "<tr><td>Python_version:</td>\n",
       "<td>3.7.7 final</td></tr></table></div>"
      ],
      "text/plain": [
       "--------------------------  ------------------------------------------------------------------\n",
       "H2O_cluster_uptime:         05 secs\n",
       "H2O_cluster_timezone:       Europe/Madrid\n",
       "H2O_data_parsing_timezone:  UTC\n",
       "H2O_cluster_version:        3.30.1.1\n",
       "H2O_cluster_version_age:    30 days\n",
       "H2O_cluster_name:           H2O_from_python_carpiero_jbnj0y\n",
       "H2O_cluster_total_nodes:    1\n",
       "H2O_cluster_free_memory:    3.686 Gb\n",
       "H2O_cluster_total_cores:    4\n",
       "H2O_cluster_allowed_cores:  4\n",
       "H2O_cluster_status:         accepting new members, healthy\n",
       "H2O_connection_url:         http://127.0.0.1:54321\n",
       "H2O_connection_proxy:       {\"http\": null, \"https\": null}\n",
       "H2O_internal_security:      False\n",
       "H2O_API_Extensions:         Amazon S3, XGBoost, Algos, AutoML, Core V3, TargetEncoder, Core V4\n",
       "Python_version:             3.7.7 final\n",
       "--------------------------  ------------------------------------------------------------------"
      ]
     },
     "metadata": {},
     "output_type": "display_data"
    }
   ],
   "source": [
    "h2o.init()"
   ]
  },
  {
   "cell_type": "code",
   "execution_count": 13,
   "metadata": {},
   "outputs": [],
   "source": [
    "X_Y=pd.concat([X,Y], axis=1)\n"
   ]
  },
  {
   "cell_type": "code",
   "execution_count": 14,
   "metadata": {},
   "outputs": [
    {
     "data": {
      "text/plain": [
       "['depth',\n",
       " 'table',\n",
       " 'x',\n",
       " 'y',\n",
       " 'z',\n",
       " 'cut_int',\n",
       " 'color_int',\n",
       " 'clarity_int',\n",
       " 'raw_density',\n",
       " 'carat_sqr']"
      ]
     },
     "execution_count": 14,
     "metadata": {},
     "output_type": "execute_result"
    }
   ],
   "source": [
    "x= X.columns.to_list()\n",
    "y = \"price\"\n",
    "x"
   ]
  },
  {
   "cell_type": "code",
   "execution_count": 15,
   "metadata": {},
   "outputs": [
    {
     "name": "stdout",
     "output_type": "stream",
     "text": [
      "Parse progress: |█████████████████████████████████████████████████████████| 100%\n",
      "AutoML progress: |████████████████████████████████████████████████████████| 100%\n"
     ]
    }
   ],
   "source": [
    "train_X_Y=h2o.H2OFrame(X_Y)\n",
    "aml = H2OAutoML(seed=32,sort_metric='RMSE')\n",
    "aml.train(x=x, y=y, training_frame=train_X_Y)\n"
   ]
  },
  {
   "cell_type": "code",
   "execution_count": 16,
   "metadata": {},
   "outputs": [
    {
     "data": {
      "text/html": [
       "<table>\n",
       "<thead>\n",
       "<tr><th>model_id                                           </th><th style=\"text-align: right;\">    rmse</th><th style=\"text-align: right;\">  mean_residual_deviance</th><th style=\"text-align: right;\">             mse</th><th style=\"text-align: right;\">     mae</th><th style=\"text-align: right;\">      rmsle</th></tr>\n",
       "</thead>\n",
       "<tbody>\n",
       "<tr><td>StackedEnsemble_AllModels_AutoML_20200909_143402   </td><td style=\"text-align: right;\"> 513.607</td><td style=\"text-align: right;\">        263792          </td><td style=\"text-align: right;\">263792          </td><td style=\"text-align: right;\"> 262.977</td><td style=\"text-align: right;\">  0.0929651</td></tr>\n",
       "<tr><td>StackedEnsemble_BestOfFamily_AutoML_20200909_143402</td><td style=\"text-align: right;\"> 515.491</td><td style=\"text-align: right;\">        265731          </td><td style=\"text-align: right;\">265731          </td><td style=\"text-align: right;\"> 263.022</td><td style=\"text-align: right;\">  0.092129 </td></tr>\n",
       "<tr><td>GBM_2_AutoML_20200909_143402                       </td><td style=\"text-align: right;\"> 523.048</td><td style=\"text-align: right;\">        273579          </td><td style=\"text-align: right;\">273579          </td><td style=\"text-align: right;\"> 271.171</td><td style=\"text-align: right;\">  0.0981662</td></tr>\n",
       "<tr><td>GBM_1_AutoML_20200909_143402                       </td><td style=\"text-align: right;\"> 523.266</td><td style=\"text-align: right;\">        273807          </td><td style=\"text-align: right;\">273807          </td><td style=\"text-align: right;\"> 274.913</td><td style=\"text-align: right;\">  0.101007 </td></tr>\n",
       "<tr><td>GBM_4_AutoML_20200909_143402                       </td><td style=\"text-align: right;\"> 524.566</td><td style=\"text-align: right;\">        275170          </td><td style=\"text-align: right;\">275170          </td><td style=\"text-align: right;\"> 264.794</td><td style=\"text-align: right;\">  0.0886634</td></tr>\n",
       "<tr><td>GBM_grid__1_AutoML_20200909_143402_model_6         </td><td style=\"text-align: right;\"> 524.627</td><td style=\"text-align: right;\">        275233          </td><td style=\"text-align: right;\">275233          </td><td style=\"text-align: right;\"> 275.194</td><td style=\"text-align: right;\">  0.101375 </td></tr>\n",
       "<tr><td>GBM_3_AutoML_20200909_143402                       </td><td style=\"text-align: right;\"> 524.812</td><td style=\"text-align: right;\">        275428          </td><td style=\"text-align: right;\">275428          </td><td style=\"text-align: right;\"> 268.657</td><td style=\"text-align: right;\">  0.0937804</td></tr>\n",
       "<tr><td>GBM_grid__1_AutoML_20200909_143402_model_5         </td><td style=\"text-align: right;\"> 525.39 </td><td style=\"text-align: right;\">        276034          </td><td style=\"text-align: right;\">276034          </td><td style=\"text-align: right;\"> 263.743</td><td style=\"text-align: right;\">  0.0877713</td></tr>\n",
       "<tr><td>GBM_grid__1_AutoML_20200909_143402_model_20        </td><td style=\"text-align: right;\"> 529.058</td><td style=\"text-align: right;\">        279902          </td><td style=\"text-align: right;\">279902          </td><td style=\"text-align: right;\"> 275.065</td><td style=\"text-align: right;\">  0.0985775</td></tr>\n",
       "<tr><td>GBM_grid__1_AutoML_20200909_143402_model_16        </td><td style=\"text-align: right;\"> 533.2  </td><td style=\"text-align: right;\">        284302          </td><td style=\"text-align: right;\">284302          </td><td style=\"text-align: right;\"> 282.456</td><td style=\"text-align: right;\">  0.105234 </td></tr>\n",
       "<tr><td>GBM_5_AutoML_20200909_143402                       </td><td style=\"text-align: right;\"> 534.874</td><td style=\"text-align: right;\">        286090          </td><td style=\"text-align: right;\">286090          </td><td style=\"text-align: right;\"> 270.212</td><td style=\"text-align: right;\">  0.0934857</td></tr>\n",
       "<tr><td>XGBoost_grid__1_AutoML_20200909_143402_model_15    </td><td style=\"text-align: right;\"> 536.798</td><td style=\"text-align: right;\">        288152          </td><td style=\"text-align: right;\">288152          </td><td style=\"text-align: right;\"> 270.985</td><td style=\"text-align: right;\">  0.0904097</td></tr>\n",
       "<tr><td>GBM_grid__1_AutoML_20200909_143402_model_1         </td><td style=\"text-align: right;\"> 536.922</td><td style=\"text-align: right;\">        288285          </td><td style=\"text-align: right;\">288285          </td><td style=\"text-align: right;\"> 285.261</td><td style=\"text-align: right;\">  0.106787 </td></tr>\n",
       "<tr><td>XGBoost_grid__1_AutoML_20200909_143402_model_9     </td><td style=\"text-align: right;\"> 540.458</td><td style=\"text-align: right;\">        292095          </td><td style=\"text-align: right;\">292095          </td><td style=\"text-align: right;\"> 272.286</td><td style=\"text-align: right;\">  0.0902096</td></tr>\n",
       "<tr><td>GBM_grid__1_AutoML_20200909_143402_model_13        </td><td style=\"text-align: right;\"> 541.423</td><td style=\"text-align: right;\">        293139          </td><td style=\"text-align: right;\">293139          </td><td style=\"text-align: right;\"> 290.581</td><td style=\"text-align: right;\">nan        </td></tr>\n",
       "<tr><td>GBM_grid__1_AutoML_20200909_143402_model_2         </td><td style=\"text-align: right;\"> 546.372</td><td style=\"text-align: right;\">        298523          </td><td style=\"text-align: right;\">298523          </td><td style=\"text-align: right;\"> 282.052</td><td style=\"text-align: right;\">  0.0972854</td></tr>\n",
       "<tr><td>GBM_grid__1_AutoML_20200909_143402_model_24        </td><td style=\"text-align: right;\"> 548.602</td><td style=\"text-align: right;\">        300964          </td><td style=\"text-align: right;\">300964          </td><td style=\"text-align: right;\"> 288.816</td><td style=\"text-align: right;\">  0.111382 </td></tr>\n",
       "<tr><td>XGBoost_grid__1_AutoML_20200909_143402_model_2     </td><td style=\"text-align: right;\"> 548.822</td><td style=\"text-align: right;\">        301205          </td><td style=\"text-align: right;\">301205          </td><td style=\"text-align: right;\"> 280.645</td><td style=\"text-align: right;\">  0.0963201</td></tr>\n",
       "<tr><td>XGBoost_grid__1_AutoML_20200909_143402_model_5     </td><td style=\"text-align: right;\"> 549.069</td><td style=\"text-align: right;\">        301477          </td><td style=\"text-align: right;\">301477          </td><td style=\"text-align: right;\"> 291.566</td><td style=\"text-align: right;\">  0.107633 </td></tr>\n",
       "<tr><td>GBM_grid__1_AutoML_20200909_143402_model_14        </td><td style=\"text-align: right;\"> 549.263</td><td style=\"text-align: right;\">        301689          </td><td style=\"text-align: right;\">301689          </td><td style=\"text-align: right;\"> 284.684</td><td style=\"text-align: right;\">  0.0989439</td></tr>\n",
       "<tr><td>XGBoost_grid__1_AutoML_20200909_143402_model_17    </td><td style=\"text-align: right;\"> 549.399</td><td style=\"text-align: right;\">        301839          </td><td style=\"text-align: right;\">301839          </td><td style=\"text-align: right;\"> 275.571</td><td style=\"text-align: right;\">  0.0909231</td></tr>\n",
       "<tr><td>XGBoost_grid__1_AutoML_20200909_143402_model_8     </td><td style=\"text-align: right;\"> 549.853</td><td style=\"text-align: right;\">        302338          </td><td style=\"text-align: right;\">302338          </td><td style=\"text-align: right;\"> 293.152</td><td style=\"text-align: right;\">nan        </td></tr>\n",
       "<tr><td>XGBoost_3_AutoML_20200909_143402                   </td><td style=\"text-align: right;\"> 550.145</td><td style=\"text-align: right;\">        302659          </td><td style=\"text-align: right;\">302659          </td><td style=\"text-align: right;\"> 292.313</td><td style=\"text-align: right;\">  0.109761 </td></tr>\n",
       "<tr><td>GBM_grid__1_AutoML_20200909_143402_model_23        </td><td style=\"text-align: right;\"> 550.423</td><td style=\"text-align: right;\">        302965          </td><td style=\"text-align: right;\">302965          </td><td style=\"text-align: right;\"> 290.883</td><td style=\"text-align: right;\">  0.110997 </td></tr>\n",
       "<tr><td>XGBoost_grid__1_AutoML_20200909_143402_model_6     </td><td style=\"text-align: right;\"> 550.517</td><td style=\"text-align: right;\">        303069          </td><td style=\"text-align: right;\">303069          </td><td style=\"text-align: right;\"> 279.444</td><td style=\"text-align: right;\">  0.0926392</td></tr>\n",
       "<tr><td>GBM_grid__1_AutoML_20200909_143402_model_8         </td><td style=\"text-align: right;\"> 550.659</td><td style=\"text-align: right;\">        303225          </td><td style=\"text-align: right;\">303225          </td><td style=\"text-align: right;\"> 288.801</td><td style=\"text-align: right;\">  0.107107 </td></tr>\n",
       "<tr><td>XGBoost_grid__1_AutoML_20200909_143402_model_1     </td><td style=\"text-align: right;\"> 552.173</td><td style=\"text-align: right;\">        304895          </td><td style=\"text-align: right;\">304895          </td><td style=\"text-align: right;\"> 296.963</td><td style=\"text-align: right;\">  0.110641 </td></tr>\n",
       "<tr><td>XGBoost_grid__1_AutoML_20200909_143402_model_12    </td><td style=\"text-align: right;\"> 552.357</td><td style=\"text-align: right;\">        305098          </td><td style=\"text-align: right;\">305098          </td><td style=\"text-align: right;\"> 275.676</td><td style=\"text-align: right;\">  0.0915864</td></tr>\n",
       "<tr><td>XGBoost_grid__1_AutoML_20200909_143402_model_10    </td><td style=\"text-align: right;\"> 555.358</td><td style=\"text-align: right;\">        308423          </td><td style=\"text-align: right;\">308423          </td><td style=\"text-align: right;\"> 284.126</td><td style=\"text-align: right;\">  0.0955129</td></tr>\n",
       "<tr><td>GBM_grid__1_AutoML_20200909_143402_model_17        </td><td style=\"text-align: right;\"> 555.493</td><td style=\"text-align: right;\">        308572          </td><td style=\"text-align: right;\">308572          </td><td style=\"text-align: right;\"> 286.379</td><td style=\"text-align: right;\">  0.0967025</td></tr>\n",
       "<tr><td>GBM_grid__1_AutoML_20200909_143402_model_11        </td><td style=\"text-align: right;\"> 556.649</td><td style=\"text-align: right;\">        309858          </td><td style=\"text-align: right;\">309858          </td><td style=\"text-align: right;\"> 299.924</td><td style=\"text-align: right;\">nan        </td></tr>\n",
       "<tr><td>XGBoost_grid__1_AutoML_20200909_143402_model_7     </td><td style=\"text-align: right;\"> 558.35 </td><td style=\"text-align: right;\">        311754          </td><td style=\"text-align: right;\">311754          </td><td style=\"text-align: right;\"> 302.563</td><td style=\"text-align: right;\">  0.114233 </td></tr>\n",
       "<tr><td>XRT_1_AutoML_20200909_143402                       </td><td style=\"text-align: right;\"> 558.573</td><td style=\"text-align: right;\">        312004          </td><td style=\"text-align: right;\">312004          </td><td style=\"text-align: right;\"> 283.001</td><td style=\"text-align: right;\">  0.09695  </td></tr>\n",
       "<tr><td>GBM_grid__1_AutoML_20200909_143402_model_21        </td><td style=\"text-align: right;\"> 561.072</td><td style=\"text-align: right;\">        314802          </td><td style=\"text-align: right;\">314802          </td><td style=\"text-align: right;\"> 294.639</td><td style=\"text-align: right;\">nan        </td></tr>\n",
       "<tr><td>DRF_1_AutoML_20200909_143402                       </td><td style=\"text-align: right;\"> 565.607</td><td style=\"text-align: right;\">        319911          </td><td style=\"text-align: right;\">319911          </td><td style=\"text-align: right;\"> 286.38 </td><td style=\"text-align: right;\">  0.0971466</td></tr>\n",
       "<tr><td>XGBoost_grid__1_AutoML_20200909_143402_model_14    </td><td style=\"text-align: right;\"> 565.748</td><td style=\"text-align: right;\">        320071          </td><td style=\"text-align: right;\">320071          </td><td style=\"text-align: right;\"> 288.323</td><td style=\"text-align: right;\">  0.0979701</td></tr>\n",
       "<tr><td>XGBoost_2_AutoML_20200909_143402                   </td><td style=\"text-align: right;\"> 571.891</td><td style=\"text-align: right;\">        327060          </td><td style=\"text-align: right;\">327060          </td><td style=\"text-align: right;\"> 288.929</td><td style=\"text-align: right;\">  0.0942692</td></tr>\n",
       "<tr><td>XGBoost_1_AutoML_20200909_143402                   </td><td style=\"text-align: right;\"> 574.822</td><td style=\"text-align: right;\">        330421          </td><td style=\"text-align: right;\">330421          </td><td style=\"text-align: right;\"> 293.657</td><td style=\"text-align: right;\">  0.0972363</td></tr>\n",
       "<tr><td>XGBoost_grid__1_AutoML_20200909_143402_model_4     </td><td style=\"text-align: right;\"> 577.6  </td><td style=\"text-align: right;\">        333621          </td><td style=\"text-align: right;\">333621          </td><td style=\"text-align: right;\"> 291.775</td><td style=\"text-align: right;\">  0.0957022</td></tr>\n",
       "<tr><td>GBM_grid__1_AutoML_20200909_143402_model_3         </td><td style=\"text-align: right;\"> 583.346</td><td style=\"text-align: right;\">        340293          </td><td style=\"text-align: right;\">340293          </td><td style=\"text-align: right;\"> 304.612</td><td style=\"text-align: right;\">  0.103593 </td></tr>\n",
       "<tr><td>GBM_grid__1_AutoML_20200909_143402_model_22        </td><td style=\"text-align: right;\"> 584.489</td><td style=\"text-align: right;\">        341628          </td><td style=\"text-align: right;\">341628          </td><td style=\"text-align: right;\"> 325.084</td><td style=\"text-align: right;\">nan        </td></tr>\n",
       "<tr><td>XGBoost_grid__1_AutoML_20200909_143402_model_3     </td><td style=\"text-align: right;\"> 602.772</td><td style=\"text-align: right;\">        363334          </td><td style=\"text-align: right;\">363334          </td><td style=\"text-align: right;\"> 304.02 </td><td style=\"text-align: right;\">  0.100511 </td></tr>\n",
       "<tr><td>XGBoost_grid__1_AutoML_20200909_143402_model_16    </td><td style=\"text-align: right;\"> 605.689</td><td style=\"text-align: right;\">        366860          </td><td style=\"text-align: right;\">366860          </td><td style=\"text-align: right;\"> 305.396</td><td style=\"text-align: right;\">  0.100931 </td></tr>\n",
       "<tr><td>GBM_grid__1_AutoML_20200909_143402_model_19        </td><td style=\"text-align: right;\"> 609.374</td><td style=\"text-align: right;\">        371337          </td><td style=\"text-align: right;\">371337          </td><td style=\"text-align: right;\"> 332.267</td><td style=\"text-align: right;\">  0.140654 </td></tr>\n",
       "<tr><td>GBM_grid__1_AutoML_20200909_143402_model_18        </td><td style=\"text-align: right;\"> 611.251</td><td style=\"text-align: right;\">        373628          </td><td style=\"text-align: right;\">373628          </td><td style=\"text-align: right;\"> 331.143</td><td style=\"text-align: right;\">  0.124297 </td></tr>\n",
       "<tr><td>DeepLearning_1_AutoML_20200909_143402              </td><td style=\"text-align: right;\"> 612.195</td><td style=\"text-align: right;\">        374782          </td><td style=\"text-align: right;\">374782          </td><td style=\"text-align: right;\"> 329.909</td><td style=\"text-align: right;\">nan        </td></tr>\n",
       "<tr><td>XGBoost_grid__1_AutoML_20200909_143402_model_13    </td><td style=\"text-align: right;\"> 616.103</td><td style=\"text-align: right;\">        379584          </td><td style=\"text-align: right;\">379584          </td><td style=\"text-align: right;\"> 313.261</td><td style=\"text-align: right;\">  0.104316 </td></tr>\n",
       "<tr><td>GBM_grid__1_AutoML_20200909_143402_model_4         </td><td style=\"text-align: right;\"> 618.245</td><td style=\"text-align: right;\">        382227          </td><td style=\"text-align: right;\">382227          </td><td style=\"text-align: right;\"> 340.106</td><td style=\"text-align: right;\">nan        </td></tr>\n",
       "<tr><td>GBM_grid__1_AutoML_20200909_143402_model_10        </td><td style=\"text-align: right;\"> 620.098</td><td style=\"text-align: right;\">        384521          </td><td style=\"text-align: right;\">384521          </td><td style=\"text-align: right;\"> 348.116</td><td style=\"text-align: right;\">  0.151744 </td></tr>\n",
       "<tr><td>GBM_grid__1_AutoML_20200909_143402_model_9         </td><td style=\"text-align: right;\"> 620.95 </td><td style=\"text-align: right;\">        385579          </td><td style=\"text-align: right;\">385579          </td><td style=\"text-align: right;\"> 344.385</td><td style=\"text-align: right;\">nan        </td></tr>\n",
       "<tr><td>GBM_grid__1_AutoML_20200909_143402_model_12        </td><td style=\"text-align: right;\"> 629.392</td><td style=\"text-align: right;\">        396134          </td><td style=\"text-align: right;\">396134          </td><td style=\"text-align: right;\"> 338.699</td><td style=\"text-align: right;\">  0.13376  </td></tr>\n",
       "<tr><td>XGBoost_grid__1_AutoML_20200909_143402_model_11    </td><td style=\"text-align: right;\"> 632.601</td><td style=\"text-align: right;\">        400184          </td><td style=\"text-align: right;\">400184          </td><td style=\"text-align: right;\"> 330.147</td><td style=\"text-align: right;\">  0.109145 </td></tr>\n",
       "<tr><td>GBM_grid__1_AutoML_20200909_143402_model_7         </td><td style=\"text-align: right;\"> 670.453</td><td style=\"text-align: right;\">        449507          </td><td style=\"text-align: right;\">449507          </td><td style=\"text-align: right;\"> 363.644</td><td style=\"text-align: right;\">nan        </td></tr>\n",
       "<tr><td>GBM_grid__1_AutoML_20200909_143402_model_15        </td><td style=\"text-align: right;\"> 680.123</td><td style=\"text-align: right;\">        462567          </td><td style=\"text-align: right;\">462567          </td><td style=\"text-align: right;\"> 368.284</td><td style=\"text-align: right;\">nan        </td></tr>\n",
       "<tr><td>DeepLearning_grid__2_AutoML_20200909_143402_model_1</td><td style=\"text-align: right;\"> 693.71 </td><td style=\"text-align: right;\">        481233          </td><td style=\"text-align: right;\">481233          </td><td style=\"text-align: right;\"> 395.479</td><td style=\"text-align: right;\">  0.18014  </td></tr>\n",
       "<tr><td>DeepLearning_grid__3_AutoML_20200909_143402_model_1</td><td style=\"text-align: right;\"> 801.511</td><td style=\"text-align: right;\">        642420          </td><td style=\"text-align: right;\">642420          </td><td style=\"text-align: right;\"> 484.285</td><td style=\"text-align: right;\">  0.220004 </td></tr>\n",
       "<tr><td>DeepLearning_grid__1_AutoML_20200909_143402_model_1</td><td style=\"text-align: right;\"> 912.7  </td><td style=\"text-align: right;\">        833021          </td><td style=\"text-align: right;\">833021          </td><td style=\"text-align: right;\"> 439.617</td><td style=\"text-align: right;\">nan        </td></tr>\n",
       "<tr><td>XGBoost_grid__1_AutoML_20200909_143402_model_18    </td><td style=\"text-align: right;\">1261.68 </td><td style=\"text-align: right;\">             1.59183e+06</td><td style=\"text-align: right;\">     1.59183e+06</td><td style=\"text-align: right;\"> 681.752</td><td style=\"text-align: right;\">  0.207475 </td></tr>\n",
       "<tr><td>GLM_1_AutoML_20200909_143402                       </td><td style=\"text-align: right;\">3988.11 </td><td style=\"text-align: right;\">             1.5905e+07 </td><td style=\"text-align: right;\">     1.5905e+07 </td><td style=\"text-align: right;\">3030.91 </td><td style=\"text-align: right;\">  1.12826  </td></tr>\n",
       "</tbody>\n",
       "</table>"
      ]
     },
     "metadata": {},
     "output_type": "display_data"
    },
    {
     "data": {
      "text/plain": []
     },
     "execution_count": 16,
     "metadata": {},
     "output_type": "execute_result"
    }
   ],
   "source": [
    "lb = aml.leaderboard\n",
    "lb.head(rows=lb.nrows)"
   ]
  },
  {
   "cell_type": "code",
   "execution_count": 17,
   "metadata": {},
   "outputs": [
    {
     "name": "stdout",
     "output_type": "stream",
     "text": [
      "Parse progress: |█████████████████████████████████████████████████████████| 100%\n",
      "stackedensemble prediction progress: |████████████████████████████████████| 100%\n"
     ]
    }
   ],
   "source": [
    "predict_X=h2o.H2OFrame(X_predict)\n",
    "predictions_competition= aml.leader.predict(predict_X)\n",
    "predictions_competition=predictions_competition.as_data_frame()\n"
   ]
  },
  {
   "cell_type": "code",
   "execution_count": 18,
   "metadata": {},
   "outputs": [],
   "source": [
    "\n",
    "submission = pd.DataFrame({'id': df_predict['id'], 'price': predictions_competition['predict']})\n",
    "submission['id'] = submission['id'].astype('int64')\n",
    "\n",
    "submission.to_csv('/home/carpiero/IRONHACK/kaggle/submission.csv', index=False)\n",
    "\n"
   ]
  },
  {
   "cell_type": "code",
   "execution_count": 19,
   "metadata": {},
   "outputs": [
    {
     "name": "stdout",
     "output_type": "stream",
     "text": [
      "H2O session _sid_81ff closed.\n"
     ]
    }
   ],
   "source": [
    "h2o.cluster().shutdown()"
   ]
  },
  {
   "cell_type": "code",
   "execution_count": 20,
   "metadata": {},
   "outputs": [
    {
     "data": {
      "text/html": [
       "<div>\n",
       "<style scoped>\n",
       "    .dataframe tbody tr th:only-of-type {\n",
       "        vertical-align: middle;\n",
       "    }\n",
       "\n",
       "    .dataframe tbody tr th {\n",
       "        vertical-align: top;\n",
       "    }\n",
       "\n",
       "    .dataframe thead th {\n",
       "        text-align: right;\n",
       "    }\n",
       "</style>\n",
       "<table border=\"1\" class=\"dataframe\">\n",
       "  <thead>\n",
       "    <tr style=\"text-align: right;\">\n",
       "      <th></th>\n",
       "      <th>id</th>\n",
       "      <th>price</th>\n",
       "    </tr>\n",
       "  </thead>\n",
       "  <tbody>\n",
       "    <tr>\n",
       "      <th>count</th>\n",
       "      <td>13485.000000</td>\n",
       "      <td>13485.000000</td>\n",
       "    </tr>\n",
       "    <tr>\n",
       "      <th>mean</th>\n",
       "      <td>6742.000000</td>\n",
       "      <td>3926.035001</td>\n",
       "    </tr>\n",
       "    <tr>\n",
       "      <th>std</th>\n",
       "      <td>3892.928525</td>\n",
       "      <td>3949.719538</td>\n",
       "    </tr>\n",
       "    <tr>\n",
       "      <th>min</th>\n",
       "      <td>0.000000</td>\n",
       "      <td>303.738858</td>\n",
       "    </tr>\n",
       "    <tr>\n",
       "      <th>25%</th>\n",
       "      <td>3371.000000</td>\n",
       "      <td>909.126631</td>\n",
       "    </tr>\n",
       "    <tr>\n",
       "      <th>50%</th>\n",
       "      <td>6742.000000</td>\n",
       "      <td>2428.563697</td>\n",
       "    </tr>\n",
       "    <tr>\n",
       "      <th>75%</th>\n",
       "      <td>10113.000000</td>\n",
       "      <td>5292.304159</td>\n",
       "    </tr>\n",
       "    <tr>\n",
       "      <th>max</th>\n",
       "      <td>13484.000000</td>\n",
       "      <td>18103.369519</td>\n",
       "    </tr>\n",
       "  </tbody>\n",
       "</table>\n",
       "</div>"
      ],
      "text/plain": [
       "                 id         price\n",
       "count  13485.000000  13485.000000\n",
       "mean    6742.000000   3926.035001\n",
       "std     3892.928525   3949.719538\n",
       "min        0.000000    303.738858\n",
       "25%     3371.000000    909.126631\n",
       "50%     6742.000000   2428.563697\n",
       "75%    10113.000000   5292.304159\n",
       "max    13484.000000  18103.369519"
      ]
     },
     "execution_count": 20,
     "metadata": {},
     "output_type": "execute_result"
    }
   ],
   "source": [
    "submission.describe()"
   ]
  },
  {
   "cell_type": "code",
   "execution_count": null,
   "metadata": {},
   "outputs": [],
   "source": []
  }
 ],
 "metadata": {
  "kernelspec": {
   "display_name": "Python [conda env:ml_env]",
   "language": "python",
   "name": "conda-env-ml_env-py"
  },
  "language_info": {
   "codemirror_mode": {
    "name": "ipython",
    "version": 3
   },
   "file_extension": ".py",
   "mimetype": "text/x-python",
   "name": "python",
   "nbconvert_exporter": "python",
   "pygments_lexer": "ipython3",
   "version": "3.7.7"
  }
 },
 "nbformat": 4,
 "nbformat_minor": 4
}
