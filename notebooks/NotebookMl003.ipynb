{
 "cells": [
  {
   "cell_type": "code",
   "execution_count": 59,
   "metadata": {},
   "outputs": [],
   "source": [
    "from sklearn.model_selection import cross_val_score\n",
    "import pandas as pd\n",
    "import numpy as np\n",
    "import h2o\n",
    "from h2o.automl import H2OAutoML\n",
    "\n",
    "X=pd.read_csv('../data/processed/X.csv')\n",
    "Y=pd.read_csv('../data/processed/Y.csv')\n",
    "X_predict=pd.read_csv('../data/processed/X_predict.csv')\n",
    "df_predict=pd.read_csv('../data/processed/df_predict.csv')"
   ]
  },
  {
   "cell_type": "code",
   "execution_count": 60,
   "metadata": {},
   "outputs": [
    {
     "name": "stdout",
     "output_type": "stream",
     "text": [
      "Checking whether there is an H2O instance running at http://localhost:54321 . connected.\n"
     ]
    },
    {
     "data": {
      "text/html": [
       "<div style=\"overflow:auto\"><table style=\"width:50%\"><tr><td>H2O_cluster_uptime:</td>\n",
       "<td>28 mins 38 secs</td></tr>\n",
       "<tr><td>H2O_cluster_timezone:</td>\n",
       "<td>Europe/Madrid</td></tr>\n",
       "<tr><td>H2O_data_parsing_timezone:</td>\n",
       "<td>UTC</td></tr>\n",
       "<tr><td>H2O_cluster_version:</td>\n",
       "<td>3.30.1.1</td></tr>\n",
       "<tr><td>H2O_cluster_version_age:</td>\n",
       "<td>29 days </td></tr>\n",
       "<tr><td>H2O_cluster_name:</td>\n",
       "<td>H2O_from_python_carpiero_5g7hq4</td></tr>\n",
       "<tr><td>H2O_cluster_total_nodes:</td>\n",
       "<td>1</td></tr>\n",
       "<tr><td>H2O_cluster_free_memory:</td>\n",
       "<td>3.344 Gb</td></tr>\n",
       "<tr><td>H2O_cluster_total_cores:</td>\n",
       "<td>4</td></tr>\n",
       "<tr><td>H2O_cluster_allowed_cores:</td>\n",
       "<td>4</td></tr>\n",
       "<tr><td>H2O_cluster_status:</td>\n",
       "<td>locked, healthy</td></tr>\n",
       "<tr><td>H2O_connection_url:</td>\n",
       "<td>http://localhost:54321</td></tr>\n",
       "<tr><td>H2O_connection_proxy:</td>\n",
       "<td>{\"http\": null, \"https\": null}</td></tr>\n",
       "<tr><td>H2O_internal_security:</td>\n",
       "<td>False</td></tr>\n",
       "<tr><td>H2O_API_Extensions:</td>\n",
       "<td>Amazon S3, XGBoost, Algos, AutoML, Core V3, TargetEncoder, Core V4</td></tr>\n",
       "<tr><td>Python_version:</td>\n",
       "<td>3.7.7 final</td></tr></table></div>"
      ],
      "text/plain": [
       "--------------------------  ------------------------------------------------------------------\n",
       "H2O_cluster_uptime:         28 mins 38 secs\n",
       "H2O_cluster_timezone:       Europe/Madrid\n",
       "H2O_data_parsing_timezone:  UTC\n",
       "H2O_cluster_version:        3.30.1.1\n",
       "H2O_cluster_version_age:    29 days\n",
       "H2O_cluster_name:           H2O_from_python_carpiero_5g7hq4\n",
       "H2O_cluster_total_nodes:    1\n",
       "H2O_cluster_free_memory:    3.344 Gb\n",
       "H2O_cluster_total_cores:    4\n",
       "H2O_cluster_allowed_cores:  4\n",
       "H2O_cluster_status:         locked, healthy\n",
       "H2O_connection_url:         http://localhost:54321\n",
       "H2O_connection_proxy:       {\"http\": null, \"https\": null}\n",
       "H2O_internal_security:      False\n",
       "H2O_API_Extensions:         Amazon S3, XGBoost, Algos, AutoML, Core V3, TargetEncoder, Core V4\n",
       "Python_version:             3.7.7 final\n",
       "--------------------------  ------------------------------------------------------------------"
      ]
     },
     "metadata": {},
     "output_type": "display_data"
    }
   ],
   "source": [
    "h2o.init()"
   ]
  },
  {
   "cell_type": "code",
   "execution_count": 61,
   "metadata": {},
   "outputs": [],
   "source": [
    "X_Y=pd.concat([X,Y], axis=1)\n"
   ]
  },
  {
   "cell_type": "code",
   "execution_count": 62,
   "metadata": {},
   "outputs": [],
   "source": [
    "x= X.columns.to_list()\n",
    "y = \"price\""
   ]
  },
  {
   "cell_type": "code",
   "execution_count": 63,
   "metadata": {},
   "outputs": [
    {
     "name": "stdout",
     "output_type": "stream",
     "text": [
      "Parse progress: |█████████████████████████████████████████████████████████| 100%\n",
      "AutoML progress: |████████████████████████████████████████████████████████| 100%\n"
     ]
    }
   ],
   "source": [
    "train_X_Y=h2o.H2OFrame(X_Y)\n",
    "aml = H2OAutoML(max_models=100, max_runtime_secs= 600, seed= 32,sort_metric='RMSE')\n",
    "aml.train(x=x, y=y, training_frame=train_X_Y)\n"
   ]
  },
  {
   "cell_type": "code",
   "execution_count": 64,
   "metadata": {},
   "outputs": [
    {
     "data": {
      "text/html": [
       "<table>\n",
       "<thead>\n",
       "<tr><th>model_id                                           </th><th style=\"text-align: right;\">    rmse</th><th style=\"text-align: right;\">  mean_residual_deviance</th><th style=\"text-align: right;\">             mse</th><th style=\"text-align: right;\">     mae</th><th style=\"text-align: right;\">      rmsle</th></tr>\n",
       "</thead>\n",
       "<tbody>\n",
       "<tr><td>StackedEnsemble_AllModels_AutoML_20200908_194059   </td><td style=\"text-align: right;\"> 513.971</td><td style=\"text-align: right;\">        264167          </td><td style=\"text-align: right;\">264167          </td><td style=\"text-align: right;\"> 260.895</td><td style=\"text-align: right;\">  0.0898133</td></tr>\n",
       "<tr><td>StackedEnsemble_BestOfFamily_AutoML_20200908_194059</td><td style=\"text-align: right;\"> 517.982</td><td style=\"text-align: right;\">        268305          </td><td style=\"text-align: right;\">268305          </td><td style=\"text-align: right;\"> 265.102</td><td style=\"text-align: right;\">  0.0935735</td></tr>\n",
       "<tr><td>GBM_3_AutoML_20200908_194059                       </td><td style=\"text-align: right;\"> 520.619</td><td style=\"text-align: right;\">        271044          </td><td style=\"text-align: right;\">271044          </td><td style=\"text-align: right;\"> 267.47 </td><td style=\"text-align: right;\">  0.0934392</td></tr>\n",
       "<tr><td>GBM_4_AutoML_20200908_194059                       </td><td style=\"text-align: right;\"> 521.61 </td><td style=\"text-align: right;\">        272077          </td><td style=\"text-align: right;\">272077          </td><td style=\"text-align: right;\"> 263.87 </td><td style=\"text-align: right;\">  0.08861  </td></tr>\n",
       "<tr><td>GBM_2_AutoML_20200908_194059                       </td><td style=\"text-align: right;\"> 525.515</td><td style=\"text-align: right;\">        276166          </td><td style=\"text-align: right;\">276166          </td><td style=\"text-align: right;\"> 272.697</td><td style=\"text-align: right;\">  0.0981969</td></tr>\n",
       "<tr><td>GBM_1_AutoML_20200908_194059                       </td><td style=\"text-align: right;\"> 526.061</td><td style=\"text-align: right;\">        276740          </td><td style=\"text-align: right;\">276740          </td><td style=\"text-align: right;\"> 274.816</td><td style=\"text-align: right;\">  0.100369 </td></tr>\n",
       "<tr><td>GBM_grid__1_AutoML_20200908_194059_model_6         </td><td style=\"text-align: right;\"> 528.418</td><td style=\"text-align: right;\">        279226          </td><td style=\"text-align: right;\">279226          </td><td style=\"text-align: right;\"> 266.354</td><td style=\"text-align: right;\">  0.0889   </td></tr>\n",
       "<tr><td>GBM_grid__1_AutoML_20200908_194059_model_3         </td><td style=\"text-align: right;\"> 530.39 </td><td style=\"text-align: right;\">        281313          </td><td style=\"text-align: right;\">281313          </td><td style=\"text-align: right;\"> 276.785</td><td style=\"text-align: right;\">  0.101318 </td></tr>\n",
       "<tr><td>GBM_grid__1_AutoML_20200908_194059_model_1         </td><td style=\"text-align: right;\"> 540.989</td><td style=\"text-align: right;\">        292669          </td><td style=\"text-align: right;\">292669          </td><td style=\"text-align: right;\"> 268.628</td><td style=\"text-align: right;\">  0.0891584</td></tr>\n",
       "<tr><td>GBM_grid__1_AutoML_20200908_194059_model_4         </td><td style=\"text-align: right;\"> 545.334</td><td style=\"text-align: right;\">        297389          </td><td style=\"text-align: right;\">297389          </td><td style=\"text-align: right;\"> 276.203</td><td style=\"text-align: right;\">  0.0930006</td></tr>\n",
       "<tr><td>GBM_5_AutoML_20200908_194059                       </td><td style=\"text-align: right;\"> 547.957</td><td style=\"text-align: right;\">        300256          </td><td style=\"text-align: right;\">300256          </td><td style=\"text-align: right;\"> 276.704</td><td style=\"text-align: right;\">  0.0937366</td></tr>\n",
       "<tr><td>XGBoost_3_AutoML_20200908_194059                   </td><td style=\"text-align: right;\"> 553.196</td><td style=\"text-align: right;\">        306026          </td><td style=\"text-align: right;\">306026          </td><td style=\"text-align: right;\"> 294.543</td><td style=\"text-align: right;\">  0.109572 </td></tr>\n",
       "<tr><td>XGBoost_grid__1_AutoML_20200908_194059_model_4     </td><td style=\"text-align: right;\"> 553.497</td><td style=\"text-align: right;\">        306359          </td><td style=\"text-align: right;\">306359          </td><td style=\"text-align: right;\"> 296.503</td><td style=\"text-align: right;\">  0.112249 </td></tr>\n",
       "<tr><td>XGBoost_grid__1_AutoML_20200908_194059_model_5     </td><td style=\"text-align: right;\"> 558.411</td><td style=\"text-align: right;\">        311823          </td><td style=\"text-align: right;\">311823          </td><td style=\"text-align: right;\"> 280.738</td><td style=\"text-align: right;\">  0.0935374</td></tr>\n",
       "<tr><td>XGBoost_grid__1_AutoML_20200908_194059_model_2     </td><td style=\"text-align: right;\"> 559.893</td><td style=\"text-align: right;\">        313480          </td><td style=\"text-align: right;\">313480          </td><td style=\"text-align: right;\"> 285.61 </td><td style=\"text-align: right;\">  0.095449 </td></tr>\n",
       "<tr><td>XGBoost_1_AutoML_20200908_194059                   </td><td style=\"text-align: right;\"> 564.542</td><td style=\"text-align: right;\">        318707          </td><td style=\"text-align: right;\">318707          </td><td style=\"text-align: right;\"> 287.809</td><td style=\"text-align: right;\">  0.0958503</td></tr>\n",
       "<tr><td>XGBoost_2_AutoML_20200908_194059                   </td><td style=\"text-align: right;\"> 566.127</td><td style=\"text-align: right;\">        320500          </td><td style=\"text-align: right;\">320500          </td><td style=\"text-align: right;\"> 289.866</td><td style=\"text-align: right;\">  0.0946689</td></tr>\n",
       "<tr><td>XRT_1_AutoML_20200908_194059                       </td><td style=\"text-align: right;\"> 572.293</td><td style=\"text-align: right;\">        327519          </td><td style=\"text-align: right;\">327519          </td><td style=\"text-align: right;\"> 292.168</td><td style=\"text-align: right;\">  0.0996969</td></tr>\n",
       "<tr><td>DRF_1_AutoML_20200908_194059                       </td><td style=\"text-align: right;\"> 577.169</td><td style=\"text-align: right;\">        333124          </td><td style=\"text-align: right;\">333124          </td><td style=\"text-align: right;\"> 292.876</td><td style=\"text-align: right;\">  0.099627 </td></tr>\n",
       "<tr><td>GBM_grid__1_AutoML_20200908_194059_model_2         </td><td style=\"text-align: right;\"> 586.692</td><td style=\"text-align: right;\">        344208          </td><td style=\"text-align: right;\">344208          </td><td style=\"text-align: right;\"> 325.204</td><td style=\"text-align: right;\">nan        </td></tr>\n",
       "<tr><td>GBM_grid__1_AutoML_20200908_194059_model_5         </td><td style=\"text-align: right;\"> 597.219</td><td style=\"text-align: right;\">        356670          </td><td style=\"text-align: right;\">356670          </td><td style=\"text-align: right;\"> 321.028</td><td style=\"text-align: right;\">  0.122561 </td></tr>\n",
       "<tr><td>DeepLearning_1_AutoML_20200908_194059              </td><td style=\"text-align: right;\"> 614.051</td><td style=\"text-align: right;\">        377059          </td><td style=\"text-align: right;\">377059          </td><td style=\"text-align: right;\"> 328.867</td><td style=\"text-align: right;\">nan        </td></tr>\n",
       "<tr><td>XGBoost_grid__1_AutoML_20200908_194059_model_1     </td><td style=\"text-align: right;\"> 654.053</td><td style=\"text-align: right;\">        427785          </td><td style=\"text-align: right;\">427785          </td><td style=\"text-align: right;\"> 334.168</td><td style=\"text-align: right;\">  0.108783 </td></tr>\n",
       "<tr><td>DeepLearning_grid__1_AutoML_20200908_194059_model_1</td><td style=\"text-align: right;\"> 666.164</td><td style=\"text-align: right;\">        443774          </td><td style=\"text-align: right;\">443774          </td><td style=\"text-align: right;\"> 382.234</td><td style=\"text-align: right;\">nan        </td></tr>\n",
       "<tr><td>XGBoost_grid__1_AutoML_20200908_194059_model_3     </td><td style=\"text-align: right;\"> 701.934</td><td style=\"text-align: right;\">        492711          </td><td style=\"text-align: right;\">492711          </td><td style=\"text-align: right;\"> 369.122</td><td style=\"text-align: right;\">  0.122656 </td></tr>\n",
       "<tr><td>DeepLearning_grid__2_AutoML_20200908_194059_model_2</td><td style=\"text-align: right;\"> 833.915</td><td style=\"text-align: right;\">        695414          </td><td style=\"text-align: right;\">695414          </td><td style=\"text-align: right;\"> 581.407</td><td style=\"text-align: right;\">  0.371215 </td></tr>\n",
       "<tr><td>DeepLearning_grid__2_AutoML_20200908_194059_model_1</td><td style=\"text-align: right;\">1125.19 </td><td style=\"text-align: right;\">             1.26605e+06</td><td style=\"text-align: right;\">     1.26605e+06</td><td style=\"text-align: right;\"> 954.647</td><td style=\"text-align: right;\">  0.641139 </td></tr>\n",
       "<tr><td>XGBoost_grid__1_AutoML_20200908_194059_model_6     </td><td style=\"text-align: right;\">1276.49 </td><td style=\"text-align: right;\">             1.62943e+06</td><td style=\"text-align: right;\">     1.62943e+06</td><td style=\"text-align: right;\"> 673.001</td><td style=\"text-align: right;\">  0.208657 </td></tr>\n",
       "<tr><td>GBM_grid__1_AutoML_20200908_194059_model_7         </td><td style=\"text-align: right;\">1561.96 </td><td style=\"text-align: right;\">             2.4397e+06 </td><td style=\"text-align: right;\">     2.4397e+06 </td><td style=\"text-align: right;\">1069.37 </td><td style=\"text-align: right;\">  0.548026 </td></tr>\n",
       "<tr><td>GLM_1_AutoML_20200908_194059                       </td><td style=\"text-align: right;\">3988.1  </td><td style=\"text-align: right;\">             1.5905e+07 </td><td style=\"text-align: right;\">     1.5905e+07 </td><td style=\"text-align: right;\">3030.91 </td><td style=\"text-align: right;\">  1.12826  </td></tr>\n",
       "</tbody>\n",
       "</table>"
      ]
     },
     "metadata": {},
     "output_type": "display_data"
    },
    {
     "data": {
      "text/plain": []
     },
     "execution_count": 64,
     "metadata": {},
     "output_type": "execute_result"
    }
   ],
   "source": [
    "lb = aml.leaderboard\n",
    "lb.head(rows=lb.nrows)"
   ]
  },
  {
   "cell_type": "code",
   "execution_count": 65,
   "metadata": {},
   "outputs": [
    {
     "name": "stdout",
     "output_type": "stream",
     "text": [
      "Parse progress: |█████████████████████████████████████████████████████████| 100%\n",
      "stackedensemble prediction progress: |████████████████████████████████████| 100%\n"
     ]
    }
   ],
   "source": [
    "predict_X=h2o.H2OFrame(X_predict)\n",
    "predictions_competition= aml.leader.predict(predict_X)\n",
    "predictions_competition=predictions_competition.as_data_frame()\n"
   ]
  },
  {
   "cell_type": "code",
   "execution_count": 66,
   "metadata": {},
   "outputs": [
    {
     "data": {
      "text/html": [
       "<div>\n",
       "<style scoped>\n",
       "    .dataframe tbody tr th:only-of-type {\n",
       "        vertical-align: middle;\n",
       "    }\n",
       "\n",
       "    .dataframe tbody tr th {\n",
       "        vertical-align: top;\n",
       "    }\n",
       "\n",
       "    .dataframe thead th {\n",
       "        text-align: right;\n",
       "    }\n",
       "</style>\n",
       "<table border=\"1\" class=\"dataframe\">\n",
       "  <thead>\n",
       "    <tr style=\"text-align: right;\">\n",
       "      <th></th>\n",
       "      <th>id</th>\n",
       "      <th>price</th>\n",
       "    </tr>\n",
       "  </thead>\n",
       "  <tbody>\n",
       "    <tr>\n",
       "      <th>0</th>\n",
       "      <td>0</td>\n",
       "      <td>2925.883844</td>\n",
       "    </tr>\n",
       "    <tr>\n",
       "      <th>1</th>\n",
       "      <td>1</td>\n",
       "      <td>5683.858634</td>\n",
       "    </tr>\n",
       "    <tr>\n",
       "      <th>2</th>\n",
       "      <td>2</td>\n",
       "      <td>9688.156861</td>\n",
       "    </tr>\n",
       "    <tr>\n",
       "      <th>3</th>\n",
       "      <td>3</td>\n",
       "      <td>3976.050817</td>\n",
       "    </tr>\n",
       "    <tr>\n",
       "      <th>4</th>\n",
       "      <td>4</td>\n",
       "      <td>1599.480311</td>\n",
       "    </tr>\n",
       "    <tr>\n",
       "      <th>...</th>\n",
       "      <td>...</td>\n",
       "      <td>...</td>\n",
       "    </tr>\n",
       "    <tr>\n",
       "      <th>13480</th>\n",
       "      <td>13480</td>\n",
       "      <td>1680.821144</td>\n",
       "    </tr>\n",
       "    <tr>\n",
       "      <th>13481</th>\n",
       "      <td>13481</td>\n",
       "      <td>2360.353642</td>\n",
       "    </tr>\n",
       "    <tr>\n",
       "      <th>13482</th>\n",
       "      <td>13482</td>\n",
       "      <td>3024.134867</td>\n",
       "    </tr>\n",
       "    <tr>\n",
       "      <th>13483</th>\n",
       "      <td>13483</td>\n",
       "      <td>2115.672773</td>\n",
       "    </tr>\n",
       "    <tr>\n",
       "      <th>13484</th>\n",
       "      <td>13484</td>\n",
       "      <td>842.753576</td>\n",
       "    </tr>\n",
       "  </tbody>\n",
       "</table>\n",
       "<p>13485 rows × 2 columns</p>\n",
       "</div>"
      ],
      "text/plain": [
       "          id        price\n",
       "0          0  2925.883844\n",
       "1          1  5683.858634\n",
       "2          2  9688.156861\n",
       "3          3  3976.050817\n",
       "4          4  1599.480311\n",
       "...      ...          ...\n",
       "13480  13480  1680.821144\n",
       "13481  13481  2360.353642\n",
       "13482  13482  3024.134867\n",
       "13483  13483  2115.672773\n",
       "13484  13484   842.753576\n",
       "\n",
       "[13485 rows x 2 columns]"
      ]
     },
     "execution_count": 66,
     "metadata": {},
     "output_type": "execute_result"
    }
   ],
   "source": [
    "\n",
    "submission = pd.DataFrame({'id': df_predict['id'], 'price': predictions_competition['predict']})\n",
    "submission['id'] = submission['id'].astype('int64')\n",
    "\n",
    "submission.to_csv('/home/carpiero/IRONHACK/kaggle/submission.csv', index=False)\n",
    "\n"
   ]
  },
  {
   "cell_type": "code",
   "execution_count": 71,
   "metadata": {},
   "outputs": [],
   "source": [
    "h2o.cluster().shutdown()"
   ]
  },
  {
   "cell_type": "code",
   "execution_count": 69,
   "metadata": {},
   "outputs": [
    {
     "data": {
      "text/html": [
       "<div>\n",
       "<style scoped>\n",
       "    .dataframe tbody tr th:only-of-type {\n",
       "        vertical-align: middle;\n",
       "    }\n",
       "\n",
       "    .dataframe tbody tr th {\n",
       "        vertical-align: top;\n",
       "    }\n",
       "\n",
       "    .dataframe thead th {\n",
       "        text-align: right;\n",
       "    }\n",
       "</style>\n",
       "<table border=\"1\" class=\"dataframe\">\n",
       "  <thead>\n",
       "    <tr style=\"text-align: right;\">\n",
       "      <th></th>\n",
       "      <th>id</th>\n",
       "      <th>price</th>\n",
       "    </tr>\n",
       "  </thead>\n",
       "  <tbody>\n",
       "    <tr>\n",
       "      <th>count</th>\n",
       "      <td>13485.000000</td>\n",
       "      <td>13485.000000</td>\n",
       "    </tr>\n",
       "    <tr>\n",
       "      <th>mean</th>\n",
       "      <td>6742.000000</td>\n",
       "      <td>3925.832887</td>\n",
       "    </tr>\n",
       "    <tr>\n",
       "      <th>std</th>\n",
       "      <td>3892.928525</td>\n",
       "      <td>3948.964209</td>\n",
       "    </tr>\n",
       "    <tr>\n",
       "      <th>min</th>\n",
       "      <td>0.000000</td>\n",
       "      <td>324.060421</td>\n",
       "    </tr>\n",
       "    <tr>\n",
       "      <th>25%</th>\n",
       "      <td>3371.000000</td>\n",
       "      <td>913.215152</td>\n",
       "    </tr>\n",
       "    <tr>\n",
       "      <th>50%</th>\n",
       "      <td>6742.000000</td>\n",
       "      <td>2430.916861</td>\n",
       "    </tr>\n",
       "    <tr>\n",
       "      <th>75%</th>\n",
       "      <td>10113.000000</td>\n",
       "      <td>5298.220727</td>\n",
       "    </tr>\n",
       "    <tr>\n",
       "      <th>max</th>\n",
       "      <td>13484.000000</td>\n",
       "      <td>18362.088564</td>\n",
       "    </tr>\n",
       "  </tbody>\n",
       "</table>\n",
       "</div>"
      ],
      "text/plain": [
       "                 id         price\n",
       "count  13485.000000  13485.000000\n",
       "mean    6742.000000   3925.832887\n",
       "std     3892.928525   3948.964209\n",
       "min        0.000000    324.060421\n",
       "25%     3371.000000    913.215152\n",
       "50%     6742.000000   2430.916861\n",
       "75%    10113.000000   5298.220727\n",
       "max    13484.000000  18362.088564"
      ]
     },
     "execution_count": 69,
     "metadata": {},
     "output_type": "execute_result"
    }
   ],
   "source": [
    "submission.describe()"
   ]
  },
  {
   "cell_type": "code",
   "execution_count": null,
   "metadata": {},
   "outputs": [],
   "source": []
  }
 ],
 "metadata": {
  "kernelspec": {
   "display_name": "Python [conda env:ml_env]",
   "language": "python",
   "name": "conda-env-ml_env-py"
  },
  "language_info": {
   "codemirror_mode": {
    "name": "ipython",
    "version": 3
   },
   "file_extension": ".py",
   "mimetype": "text/x-python",
   "name": "python",
   "nbconvert_exporter": "python",
   "pygments_lexer": "ipython3",
   "version": "3.7.7"
  }
 },
 "nbformat": 4,
 "nbformat_minor": 4
}
