{
 "cells": [
  {
   "cell_type": "code",
   "execution_count": 37,
   "metadata": {},
   "outputs": [],
   "source": [
    "from sklearn.model_selection import cross_val_score\n",
    "import pandas as pd\n",
    "import numpy as np\n",
    "import h2o\n",
    "from h2o.automl import H2OAutoML\n",
    "\n",
    "X=pd.read_csv('../data/processed/X.csv')\n",
    "Y=pd.read_csv('../data/processed/Y.csv')\n",
    "X_predict=pd.read_csv('../data/processed/X_predict.csv')\n",
    "df_predict=pd.read_csv('../data/processed/df_predict.csv')"
   ]
  },
  {
   "cell_type": "code",
   "execution_count": 38,
   "metadata": {},
   "outputs": [
    {
     "name": "stdout",
     "output_type": "stream",
     "text": [
      "Checking whether there is an H2O instance running at http://localhost:54321 . connected.\n"
     ]
    },
    {
     "data": {
      "text/html": [
       "<div style=\"overflow:auto\"><table style=\"width:50%\"><tr><td>H2O_cluster_uptime:</td>\n",
       "<td>44 mins 06 secs</td></tr>\n",
       "<tr><td>H2O_cluster_timezone:</td>\n",
       "<td>Europe/Madrid</td></tr>\n",
       "<tr><td>H2O_data_parsing_timezone:</td>\n",
       "<td>UTC</td></tr>\n",
       "<tr><td>H2O_cluster_version:</td>\n",
       "<td>3.30.1.1</td></tr>\n",
       "<tr><td>H2O_cluster_version_age:</td>\n",
       "<td>30 days </td></tr>\n",
       "<tr><td>H2O_cluster_name:</td>\n",
       "<td>H2O_from_python_carpiero_jhzrhb</td></tr>\n",
       "<tr><td>H2O_cluster_total_nodes:</td>\n",
       "<td>1</td></tr>\n",
       "<tr><td>H2O_cluster_free_memory:</td>\n",
       "<td>3.155 Gb</td></tr>\n",
       "<tr><td>H2O_cluster_total_cores:</td>\n",
       "<td>4</td></tr>\n",
       "<tr><td>H2O_cluster_allowed_cores:</td>\n",
       "<td>4</td></tr>\n",
       "<tr><td>H2O_cluster_status:</td>\n",
       "<td>locked, healthy</td></tr>\n",
       "<tr><td>H2O_connection_url:</td>\n",
       "<td>http://localhost:54321</td></tr>\n",
       "<tr><td>H2O_connection_proxy:</td>\n",
       "<td>{\"http\": null, \"https\": null}</td></tr>\n",
       "<tr><td>H2O_internal_security:</td>\n",
       "<td>False</td></tr>\n",
       "<tr><td>H2O_API_Extensions:</td>\n",
       "<td>Amazon S3, XGBoost, Algos, AutoML, Core V3, TargetEncoder, Core V4</td></tr>\n",
       "<tr><td>Python_version:</td>\n",
       "<td>3.7.7 final</td></tr></table></div>"
      ],
      "text/plain": [
       "--------------------------  ------------------------------------------------------------------\n",
       "H2O_cluster_uptime:         44 mins 06 secs\n",
       "H2O_cluster_timezone:       Europe/Madrid\n",
       "H2O_data_parsing_timezone:  UTC\n",
       "H2O_cluster_version:        3.30.1.1\n",
       "H2O_cluster_version_age:    30 days\n",
       "H2O_cluster_name:           H2O_from_python_carpiero_jhzrhb\n",
       "H2O_cluster_total_nodes:    1\n",
       "H2O_cluster_free_memory:    3.155 Gb\n",
       "H2O_cluster_total_cores:    4\n",
       "H2O_cluster_allowed_cores:  4\n",
       "H2O_cluster_status:         locked, healthy\n",
       "H2O_connection_url:         http://localhost:54321\n",
       "H2O_connection_proxy:       {\"http\": null, \"https\": null}\n",
       "H2O_internal_security:      False\n",
       "H2O_API_Extensions:         Amazon S3, XGBoost, Algos, AutoML, Core V3, TargetEncoder, Core V4\n",
       "Python_version:             3.7.7 final\n",
       "--------------------------  ------------------------------------------------------------------"
      ]
     },
     "metadata": {},
     "output_type": "display_data"
    }
   ],
   "source": [
    "h2o.init()"
   ]
  },
  {
   "cell_type": "code",
   "execution_count": 39,
   "metadata": {},
   "outputs": [],
   "source": [
    "X_Y=pd.concat([X,Y], axis=1)\n"
   ]
  },
  {
   "cell_type": "code",
   "execution_count": 40,
   "metadata": {},
   "outputs": [
    {
     "data": {
      "text/plain": [
       "['depth',\n",
       " 'table',\n",
       " 'x',\n",
       " 'y',\n",
       " 'z',\n",
       " 'cut_int',\n",
       " 'color_int',\n",
       " 'clarity_int',\n",
       " 'raw_density',\n",
       " 'carat_sqr']"
      ]
     },
     "execution_count": 40,
     "metadata": {},
     "output_type": "execute_result"
    }
   ],
   "source": [
    "x= X.columns.to_list()\n",
    "y = \"price\"\n",
    "x"
   ]
  },
  {
   "cell_type": "code",
   "execution_count": 41,
   "metadata": {},
   "outputs": [
    {
     "name": "stdout",
     "output_type": "stream",
     "text": [
      "Parse progress: |█████████████████████████████████████████████████████████| 100%\n",
      "AutoML progress: |████████████████████████████████████████████████████████| 100%\n"
     ]
    }
   ],
   "source": [
    "# H2OAutoML(max_models=50,sort_metric='RMSE') 511.999\t\n",
    "# H2OAutoML(max_models=100,sort_metric='RMSE')    \n",
    "\n",
    "\n",
    "\n",
    "train_X_Y=h2o.H2OFrame(X_Y)\n",
    "aml = H2OAutoML(max_models=50,sort_metric='RMSE')\n",
    "aml.train(x=x, y=y, training_frame=train_X_Y)\n"
   ]
  },
  {
   "cell_type": "code",
   "execution_count": 42,
   "metadata": {},
   "outputs": [
    {
     "data": {
      "text/html": [
       "<table>\n",
       "<thead>\n",
       "<tr><th>model_id                                           </th><th style=\"text-align: right;\">    rmse</th><th style=\"text-align: right;\">  mean_residual_deviance</th><th style=\"text-align: right;\">             mse</th><th style=\"text-align: right;\">     mae</th><th style=\"text-align: right;\">      rmsle</th></tr>\n",
       "</thead>\n",
       "<tbody>\n",
       "<tr><td>StackedEnsemble_AllModels_AutoML_20200909_215700   </td><td style=\"text-align: right;\"> 511.999</td><td style=\"text-align: right;\">        262143          </td><td style=\"text-align: right;\">262143          </td><td style=\"text-align: right;\"> 261.26 </td><td style=\"text-align: right;\">  0.0911196</td></tr>\n",
       "<tr><td>StackedEnsemble_BestOfFamily_AutoML_20200909_215700</td><td style=\"text-align: right;\"> 515.078</td><td style=\"text-align: right;\">        265305          </td><td style=\"text-align: right;\">265305          </td><td style=\"text-align: right;\"> 262.354</td><td style=\"text-align: right;\">  0.0913138</td></tr>\n",
       "<tr><td>GBM_3_AutoML_20200909_215700                       </td><td style=\"text-align: right;\"> 520.9  </td><td style=\"text-align: right;\">        271337          </td><td style=\"text-align: right;\">271337          </td><td style=\"text-align: right;\"> 267.944</td><td style=\"text-align: right;\">  0.0935657</td></tr>\n",
       "<tr><td>GBM_2_AutoML_20200909_215700                       </td><td style=\"text-align: right;\"> 521.427</td><td style=\"text-align: right;\">        271886          </td><td style=\"text-align: right;\">271886          </td><td style=\"text-align: right;\"> 271.786</td><td style=\"text-align: right;\">  0.0986588</td></tr>\n",
       "<tr><td>GBM_4_AutoML_20200909_215700                       </td><td style=\"text-align: right;\"> 525.29 </td><td style=\"text-align: right;\">        275930          </td><td style=\"text-align: right;\">275930          </td><td style=\"text-align: right;\"> 265.498</td><td style=\"text-align: right;\">  0.0890015</td></tr>\n",
       "<tr><td>GBM_1_AutoML_20200909_215700                       </td><td style=\"text-align: right;\"> 525.56 </td><td style=\"text-align: right;\">        276213          </td><td style=\"text-align: right;\">276213          </td><td style=\"text-align: right;\"> 274.994</td><td style=\"text-align: right;\">  0.102452 </td></tr>\n",
       "<tr><td>GBM_grid__1_AutoML_20200909_215700_model_7         </td><td style=\"text-align: right;\"> 530.082</td><td style=\"text-align: right;\">        280987          </td><td style=\"text-align: right;\">280987          </td><td style=\"text-align: right;\"> 282.352</td><td style=\"text-align: right;\">  0.10608  </td></tr>\n",
       "<tr><td>XGBoost_grid__1_AutoML_20200909_215700_model_16    </td><td style=\"text-align: right;\"> 536.679</td><td style=\"text-align: right;\">        288024          </td><td style=\"text-align: right;\">288024          </td><td style=\"text-align: right;\"> 272.348</td><td style=\"text-align: right;\">  0.0919831</td></tr>\n",
       "<tr><td>GBM_5_AutoML_20200909_215700                       </td><td style=\"text-align: right;\"> 536.758</td><td style=\"text-align: right;\">        288109          </td><td style=\"text-align: right;\">288109          </td><td style=\"text-align: right;\"> 271.401</td><td style=\"text-align: right;\">  0.093916 </td></tr>\n",
       "<tr><td>XGBoost_grid__1_AutoML_20200909_215700_model_7     </td><td style=\"text-align: right;\"> 541.529</td><td style=\"text-align: right;\">        293254          </td><td style=\"text-align: right;\">293254          </td><td style=\"text-align: right;\"> 279.109</td><td style=\"text-align: right;\">  0.0975334</td></tr>\n",
       "<tr><td>GBM_grid__1_AutoML_20200909_215700_model_6         </td><td style=\"text-align: right;\"> 541.774</td><td style=\"text-align: right;\">        293519          </td><td style=\"text-align: right;\">293519          </td><td style=\"text-align: right;\"> 275.509</td><td style=\"text-align: right;\">  0.0958379</td></tr>\n",
       "<tr><td>XGBoost_grid__1_AutoML_20200909_215700_model_9     </td><td style=\"text-align: right;\"> 541.795</td><td style=\"text-align: right;\">        293542          </td><td style=\"text-align: right;\">293542          </td><td style=\"text-align: right;\"> 275.32 </td><td style=\"text-align: right;\">  0.0911325</td></tr>\n",
       "<tr><td>XGBoost_grid__1_AutoML_20200909_215700_model_8     </td><td style=\"text-align: right;\"> 543.217</td><td style=\"text-align: right;\">        295085          </td><td style=\"text-align: right;\">295085          </td><td style=\"text-align: right;\"> 284.86 </td><td style=\"text-align: right;\">  0.0996487</td></tr>\n",
       "<tr><td>GBM_grid__1_AutoML_20200909_215700_model_1         </td><td style=\"text-align: right;\"> 545.118</td><td style=\"text-align: right;\">        297154          </td><td style=\"text-align: right;\">297154          </td><td style=\"text-align: right;\"> 294.23 </td><td style=\"text-align: right;\">nan        </td></tr>\n",
       "<tr><td>XGBoost_grid__1_AutoML_20200909_215700_model_10    </td><td style=\"text-align: right;\"> 545.347</td><td style=\"text-align: right;\">        297404          </td><td style=\"text-align: right;\">297404          </td><td style=\"text-align: right;\"> 274.169</td><td style=\"text-align: right;\">  0.0915605</td></tr>\n",
       "<tr><td>XGBoost_grid__1_AutoML_20200909_215700_model_1     </td><td style=\"text-align: right;\"> 545.9  </td><td style=\"text-align: right;\">        298007          </td><td style=\"text-align: right;\">298007          </td><td style=\"text-align: right;\"> 279.407</td><td style=\"text-align: right;\">  0.0954146</td></tr>\n",
       "<tr><td>GBM_grid__1_AutoML_20200909_215700_model_2         </td><td style=\"text-align: right;\"> 547.367</td><td style=\"text-align: right;\">        299611          </td><td style=\"text-align: right;\">299611          </td><td style=\"text-align: right;\"> 289.279</td><td style=\"text-align: right;\">  0.108419 </td></tr>\n",
       "<tr><td>XGBoost_grid__1_AutoML_20200909_215700_model_13    </td><td style=\"text-align: right;\"> 548.273</td><td style=\"text-align: right;\">        300603          </td><td style=\"text-align: right;\">300603          </td><td style=\"text-align: right;\"> 279.639</td><td style=\"text-align: right;\">  0.0920961</td></tr>\n",
       "<tr><td>XGBoost_grid__1_AutoML_20200909_215700_model_3     </td><td style=\"text-align: right;\"> 548.998</td><td style=\"text-align: right;\">        301399          </td><td style=\"text-align: right;\">301399          </td><td style=\"text-align: right;\"> 276.579</td><td style=\"text-align: right;\">  0.0939669</td></tr>\n",
       "<tr><td>XGBoost_grid__1_AutoML_20200909_215700_model_12    </td><td style=\"text-align: right;\"> 549.214</td><td style=\"text-align: right;\">        301636          </td><td style=\"text-align: right;\">301636          </td><td style=\"text-align: right;\"> 294.249</td><td style=\"text-align: right;\">  0.110816 </td></tr>\n",
       "<tr><td>XGBoost_3_AutoML_20200909_215700                   </td><td style=\"text-align: right;\"> 549.227</td><td style=\"text-align: right;\">        301650          </td><td style=\"text-align: right;\">301650          </td><td style=\"text-align: right;\"> 293.848</td><td style=\"text-align: right;\">  0.110361 </td></tr>\n",
       "<tr><td>GBM_grid__1_AutoML_20200909_215700_model_3         </td><td style=\"text-align: right;\"> 549.936</td><td style=\"text-align: right;\">        302430          </td><td style=\"text-align: right;\">302430          </td><td style=\"text-align: right;\"> 279.847</td><td style=\"text-align: right;\">nan        </td></tr>\n",
       "<tr><td>XGBoost_grid__1_AutoML_20200909_215700_model_5     </td><td style=\"text-align: right;\"> 552.568</td><td style=\"text-align: right;\">        305332          </td><td style=\"text-align: right;\">305332          </td><td style=\"text-align: right;\"> 276.626</td><td style=\"text-align: right;\">  0.091881 </td></tr>\n",
       "<tr><td>XGBoost_grid__1_AutoML_20200909_215700_model_14    </td><td style=\"text-align: right;\"> 553.093</td><td style=\"text-align: right;\">        305912          </td><td style=\"text-align: right;\">305912          </td><td style=\"text-align: right;\"> 295.033</td><td style=\"text-align: right;\">  0.110212 </td></tr>\n",
       "<tr><td>GBM_grid__1_AutoML_20200909_215700_model_10        </td><td style=\"text-align: right;\"> 557.002</td><td style=\"text-align: right;\">        310252          </td><td style=\"text-align: right;\">310252          </td><td style=\"text-align: right;\"> 298.782</td><td style=\"text-align: right;\">  0.118145 </td></tr>\n",
       "<tr><td>DRF_1_AutoML_20200909_215700                       </td><td style=\"text-align: right;\"> 559.423</td><td style=\"text-align: right;\">        312955          </td><td style=\"text-align: right;\">312955          </td><td style=\"text-align: right;\"> 283.791</td><td style=\"text-align: right;\">  0.0972369</td></tr>\n",
       "<tr><td>XRT_1_AutoML_20200909_215700                       </td><td style=\"text-align: right;\"> 562.168</td><td style=\"text-align: right;\">        316032          </td><td style=\"text-align: right;\">316032          </td><td style=\"text-align: right;\"> 285.274</td><td style=\"text-align: right;\">  0.0975463</td></tr>\n",
       "<tr><td>XGBoost_grid__1_AutoML_20200909_215700_model_4     </td><td style=\"text-align: right;\"> 563.341</td><td style=\"text-align: right;\">        317353          </td><td style=\"text-align: right;\">317353          </td><td style=\"text-align: right;\"> 283.28 </td><td style=\"text-align: right;\">  0.0941158</td></tr>\n",
       "<tr><td>XGBoost_2_AutoML_20200909_215700                   </td><td style=\"text-align: right;\"> 567.957</td><td style=\"text-align: right;\">        322576          </td><td style=\"text-align: right;\">322576          </td><td style=\"text-align: right;\"> 287.259</td><td style=\"text-align: right;\">  0.0937489</td></tr>\n",
       "<tr><td>XGBoost_1_AutoML_20200909_215700                   </td><td style=\"text-align: right;\"> 569.268</td><td style=\"text-align: right;\">        324067          </td><td style=\"text-align: right;\">324067          </td><td style=\"text-align: right;\"> 288.655</td><td style=\"text-align: right;\">  0.0975752</td></tr>\n",
       "<tr><td>XGBoost_grid__1_AutoML_20200909_215700_model_17    </td><td style=\"text-align: right;\"> 572.981</td><td style=\"text-align: right;\">        328308          </td><td style=\"text-align: right;\">328308          </td><td style=\"text-align: right;\"> 288.043</td><td style=\"text-align: right;\">  0.0944216</td></tr>\n",
       "<tr><td>XGBoost_grid__1_AutoML_20200909_215700_model_6     </td><td style=\"text-align: right;\"> 581.109</td><td style=\"text-align: right;\">        337688          </td><td style=\"text-align: right;\">337688          </td><td style=\"text-align: right;\"> 291.758</td><td style=\"text-align: right;\">  0.0968752</td></tr>\n",
       "<tr><td>GBM_grid__1_AutoML_20200909_215700_model_5         </td><td style=\"text-align: right;\"> 584.69 </td><td style=\"text-align: right;\">        341863          </td><td style=\"text-align: right;\">341863          </td><td style=\"text-align: right;\"> 317.991</td><td style=\"text-align: right;\">nan        </td></tr>\n",
       "<tr><td>GBM_grid__1_AutoML_20200909_215700_model_9         </td><td style=\"text-align: right;\"> 586.552</td><td style=\"text-align: right;\">        344044          </td><td style=\"text-align: right;\">344044          </td><td style=\"text-align: right;\"> 312.251</td><td style=\"text-align: right;\">nan        </td></tr>\n",
       "<tr><td>XGBoost_grid__1_AutoML_20200909_215700_model_11    </td><td style=\"text-align: right;\"> 586.844</td><td style=\"text-align: right;\">        344386          </td><td style=\"text-align: right;\">344386          </td><td style=\"text-align: right;\"> 296.229</td><td style=\"text-align: right;\">  0.0990112</td></tr>\n",
       "<tr><td>XGBoost_grid__1_AutoML_20200909_215700_model_18    </td><td style=\"text-align: right;\"> 597.59 </td><td style=\"text-align: right;\">        357114          </td><td style=\"text-align: right;\">357114          </td><td style=\"text-align: right;\"> 300.587</td><td style=\"text-align: right;\">  0.10048  </td></tr>\n",
       "<tr><td>GBM_grid__1_AutoML_20200909_215700_model_8         </td><td style=\"text-align: right;\"> 598.279</td><td style=\"text-align: right;\">        357938          </td><td style=\"text-align: right;\">357938          </td><td style=\"text-align: right;\"> 328.095</td><td style=\"text-align: right;\">nan        </td></tr>\n",
       "<tr><td>XGBoost_grid__1_AutoML_20200909_215700_model_15    </td><td style=\"text-align: right;\"> 598.392</td><td style=\"text-align: right;\">        358073          </td><td style=\"text-align: right;\">358073          </td><td style=\"text-align: right;\"> 307.749</td><td style=\"text-align: right;\">  0.100975 </td></tr>\n",
       "<tr><td>DeepLearning_grid__1_AutoML_20200909_215700_model_3</td><td style=\"text-align: right;\"> 600.303</td><td style=\"text-align: right;\">        360364          </td><td style=\"text-align: right;\">360364          </td><td style=\"text-align: right;\"> 346.222</td><td style=\"text-align: right;\">nan        </td></tr>\n",
       "<tr><td>GBM_grid__1_AutoML_20200909_215700_model_4         </td><td style=\"text-align: right;\"> 600.799</td><td style=\"text-align: right;\">        360960          </td><td style=\"text-align: right;\">360960          </td><td style=\"text-align: right;\"> 327.95 </td><td style=\"text-align: right;\">nan        </td></tr>\n",
       "<tr><td>DeepLearning_grid__1_AutoML_20200909_215700_model_1</td><td style=\"text-align: right;\"> 611.977</td><td style=\"text-align: right;\">        374516          </td><td style=\"text-align: right;\">374516          </td><td style=\"text-align: right;\"> 339.411</td><td style=\"text-align: right;\">nan        </td></tr>\n",
       "<tr><td>DeepLearning_grid__1_AutoML_20200909_215700_model_4</td><td style=\"text-align: right;\"> 622.421</td><td style=\"text-align: right;\">        387408          </td><td style=\"text-align: right;\">387408          </td><td style=\"text-align: right;\"> 317.629</td><td style=\"text-align: right;\">nan        </td></tr>\n",
       "<tr><td>DeepLearning_1_AutoML_20200909_215700              </td><td style=\"text-align: right;\"> 628.682</td><td style=\"text-align: right;\">        395241          </td><td style=\"text-align: right;\">395241          </td><td style=\"text-align: right;\"> 356.942</td><td style=\"text-align: right;\">nan        </td></tr>\n",
       "<tr><td>DeepLearning_grid__2_AutoML_20200909_215700_model_3</td><td style=\"text-align: right;\"> 645.635</td><td style=\"text-align: right;\">        416845          </td><td style=\"text-align: right;\">416845          </td><td style=\"text-align: right;\"> 368.661</td><td style=\"text-align: right;\">  0.186938 </td></tr>\n",
       "<tr><td>XGBoost_grid__1_AutoML_20200909_215700_model_2     </td><td style=\"text-align: right;\"> 674.239</td><td style=\"text-align: right;\">        454598          </td><td style=\"text-align: right;\">454598          </td><td style=\"text-align: right;\"> 350.261</td><td style=\"text-align: right;\">  0.116176 </td></tr>\n",
       "<tr><td>DeepLearning_grid__1_AutoML_20200909_215700_model_2</td><td style=\"text-align: right;\"> 714.16 </td><td style=\"text-align: right;\">        510025          </td><td style=\"text-align: right;\">510025          </td><td style=\"text-align: right;\"> 457.065</td><td style=\"text-align: right;\">nan        </td></tr>\n",
       "<tr><td>DeepLearning_grid__3_AutoML_20200909_215700_model_2</td><td style=\"text-align: right;\"> 836.479</td><td style=\"text-align: right;\">        699696          </td><td style=\"text-align: right;\">699696          </td><td style=\"text-align: right;\"> 486.349</td><td style=\"text-align: right;\">  0.276505 </td></tr>\n",
       "<tr><td>DeepLearning_grid__3_AutoML_20200909_215700_model_3</td><td style=\"text-align: right;\"> 849.336</td><td style=\"text-align: right;\">        721372          </td><td style=\"text-align: right;\">721372          </td><td style=\"text-align: right;\"> 549.462</td><td style=\"text-align: right;\">nan        </td></tr>\n",
       "<tr><td>DeepLearning_grid__2_AutoML_20200909_215700_model_2</td><td style=\"text-align: right;\"> 850.15 </td><td style=\"text-align: right;\">        722755          </td><td style=\"text-align: right;\">722755          </td><td style=\"text-align: right;\"> 513.688</td><td style=\"text-align: right;\">nan        </td></tr>\n",
       "<tr><td>DeepLearning_grid__2_AutoML_20200909_215700_model_1</td><td style=\"text-align: right;\">1195.84 </td><td style=\"text-align: right;\">             1.43004e+06</td><td style=\"text-align: right;\">     1.43004e+06</td><td style=\"text-align: right;\"> 999.96 </td><td style=\"text-align: right;\">  0.642421 </td></tr>\n",
       "<tr><td>DeepLearning_grid__3_AutoML_20200909_215700_model_1</td><td style=\"text-align: right;\">1231.56 </td><td style=\"text-align: right;\">             1.51674e+06</td><td style=\"text-align: right;\">     1.51674e+06</td><td style=\"text-align: right;\"> 984.467</td><td style=\"text-align: right;\">  0.604269 </td></tr>\n",
       "<tr><td>GLM_1_AutoML_20200909_215700                       </td><td style=\"text-align: right;\">3988.13 </td><td style=\"text-align: right;\">             1.59052e+07</td><td style=\"text-align: right;\">     1.59052e+07</td><td style=\"text-align: right;\">3030.92 </td><td style=\"text-align: right;\">  1.12826  </td></tr>\n",
       "</tbody>\n",
       "</table>"
      ]
     },
     "metadata": {},
     "output_type": "display_data"
    },
    {
     "data": {
      "text/plain": []
     },
     "execution_count": 42,
     "metadata": {},
     "output_type": "execute_result"
    }
   ],
   "source": [
    "lb = aml.leaderboard\n",
    "lb.head(rows=lb.nrows)"
   ]
  },
  {
   "cell_type": "code",
   "execution_count": 43,
   "metadata": {},
   "outputs": [
    {
     "name": "stdout",
     "output_type": "stream",
     "text": [
      "Parse progress: |█████████████████████████████████████████████████████████| 100%\n",
      "stackedensemble prediction progress: |████████████████████████████████████| 100%\n"
     ]
    }
   ],
   "source": [
    "predict_X=h2o.H2OFrame(X_predict)\n",
    "predictions_competition= aml.leader.predict(predict_X)\n",
    "predictions_competition=predictions_competition.as_data_frame()\n"
   ]
  },
  {
   "cell_type": "code",
   "execution_count": 44,
   "metadata": {},
   "outputs": [],
   "source": [
    "\n",
    "submission = pd.DataFrame({'id': df_predict['id'], 'price': predictions_competition['predict']})\n",
    "submission['id'] = submission['id'].astype('int64')\n",
    "\n",
    "submission.to_csv('/home/carpiero/IRONHACK/kaggle/submission.csv', index=False)\n",
    "\n"
   ]
  },
  {
   "cell_type": "code",
   "execution_count": 45,
   "metadata": {},
   "outputs": [
    {
     "name": "stdout",
     "output_type": "stream",
     "text": [
      "H2O session _sid_b54f closed.\n"
     ]
    }
   ],
   "source": [
    "h2o.cluster().shutdown()"
   ]
  },
  {
   "cell_type": "code",
   "execution_count": 46,
   "metadata": {},
   "outputs": [
    {
     "data": {
      "text/html": [
       "<div>\n",
       "<style scoped>\n",
       "    .dataframe tbody tr th:only-of-type {\n",
       "        vertical-align: middle;\n",
       "    }\n",
       "\n",
       "    .dataframe tbody tr th {\n",
       "        vertical-align: top;\n",
       "    }\n",
       "\n",
       "    .dataframe thead th {\n",
       "        text-align: right;\n",
       "    }\n",
       "</style>\n",
       "<table border=\"1\" class=\"dataframe\">\n",
       "  <thead>\n",
       "    <tr style=\"text-align: right;\">\n",
       "      <th></th>\n",
       "      <th>id</th>\n",
       "      <th>price</th>\n",
       "    </tr>\n",
       "  </thead>\n",
       "  <tbody>\n",
       "    <tr>\n",
       "      <th>count</th>\n",
       "      <td>13485.000000</td>\n",
       "      <td>13485.000000</td>\n",
       "    </tr>\n",
       "    <tr>\n",
       "      <th>mean</th>\n",
       "      <td>6742.000000</td>\n",
       "      <td>3921.360566</td>\n",
       "    </tr>\n",
       "    <tr>\n",
       "      <th>std</th>\n",
       "      <td>3892.928525</td>\n",
       "      <td>3949.109941</td>\n",
       "    </tr>\n",
       "    <tr>\n",
       "      <th>min</th>\n",
       "      <td>0.000000</td>\n",
       "      <td>323.138704</td>\n",
       "    </tr>\n",
       "    <tr>\n",
       "      <th>25%</th>\n",
       "      <td>3371.000000</td>\n",
       "      <td>907.615455</td>\n",
       "    </tr>\n",
       "    <tr>\n",
       "      <th>50%</th>\n",
       "      <td>6742.000000</td>\n",
       "      <td>2415.677939</td>\n",
       "    </tr>\n",
       "    <tr>\n",
       "      <th>75%</th>\n",
       "      <td>10113.000000</td>\n",
       "      <td>5292.805321</td>\n",
       "    </tr>\n",
       "    <tr>\n",
       "      <th>max</th>\n",
       "      <td>13484.000000</td>\n",
       "      <td>18080.673047</td>\n",
       "    </tr>\n",
       "  </tbody>\n",
       "</table>\n",
       "</div>"
      ],
      "text/plain": [
       "                 id         price\n",
       "count  13485.000000  13485.000000\n",
       "mean    6742.000000   3921.360566\n",
       "std     3892.928525   3949.109941\n",
       "min        0.000000    323.138704\n",
       "25%     3371.000000    907.615455\n",
       "50%     6742.000000   2415.677939\n",
       "75%    10113.000000   5292.805321\n",
       "max    13484.000000  18080.673047"
      ]
     },
     "execution_count": 46,
     "metadata": {},
     "output_type": "execute_result"
    }
   ],
   "source": [
    "submission.describe()"
   ]
  },
  {
   "cell_type": "code",
   "execution_count": null,
   "metadata": {},
   "outputs": [],
   "source": []
  }
 ],
 "metadata": {
  "kernelspec": {
   "display_name": "Python [conda env:ml_env]",
   "language": "python",
   "name": "conda-env-ml_env-py"
  },
  "language_info": {
   "codemirror_mode": {
    "name": "ipython",
    "version": 3
   },
   "file_extension": ".py",
   "mimetype": "text/x-python",
   "name": "python",
   "nbconvert_exporter": "python",
   "pygments_lexer": "ipython3",
   "version": "3.7.7"
  }
 },
 "nbformat": 4,
 "nbformat_minor": 4
}
