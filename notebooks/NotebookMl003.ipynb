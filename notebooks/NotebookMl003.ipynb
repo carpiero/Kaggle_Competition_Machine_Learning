{
 "cells": [
  {
   "cell_type": "code",
   "execution_count": 30,
   "metadata": {},
   "outputs": [],
   "source": [
    "from sklearn.model_selection import cross_val_score\n",
    "import pandas as pd\n",
    "import numpy as np\n",
    "import h2o\n",
    "from h2o.automl import H2OAutoML\n",
    "\n",
    "X=pd.read_csv('../data/processed/X.csv')\n",
    "Y=pd.read_csv('../data/processed/Y.csv')\n",
    "X_predict=pd.read_csv('../data/processed/X_predict.csv')\n",
    "df_predict=pd.read_csv('../data/processed/df_predict.csv')"
   ]
  },
  {
   "cell_type": "code",
   "execution_count": 31,
   "metadata": {},
   "outputs": [
    {
     "name": "stdout",
     "output_type": "stream",
     "text": [
      "Checking whether there is an H2O instance running at http://localhost:54321 ..... not found.\n",
      "Attempting to start a local H2O server...\n",
      "  Java Version: openjdk version \"11.0.1-internal\" 2018-10-16; OpenJDK Runtime Environment (build 11.0.1-internal+0-adhoc..src); OpenJDK 64-Bit Server VM (build 11.0.1-internal+0-adhoc..src, mixed mode)\n",
      "  Starting server from /home/carpiero/miniconda3/envs/ml_env/lib/python3.7/site-packages/h2o/backend/bin/h2o.jar\n",
      "  Ice root: /tmp/tmp38ufmk3m\n",
      "  JVM stdout: /tmp/tmp38ufmk3m/h2o_carpiero_started_from_python.out\n",
      "  JVM stderr: /tmp/tmp38ufmk3m/h2o_carpiero_started_from_python.err\n",
      "  Server is running at http://127.0.0.1:54321\n",
      "Connecting to H2O server at http://127.0.0.1:54321 ... successful.\n"
     ]
    },
    {
     "data": {
      "text/html": [
       "<div style=\"overflow:auto\"><table style=\"width:50%\"><tr><td>H2O_cluster_uptime:</td>\n",
       "<td>04 secs</td></tr>\n",
       "<tr><td>H2O_cluster_timezone:</td>\n",
       "<td>Europe/Madrid</td></tr>\n",
       "<tr><td>H2O_data_parsing_timezone:</td>\n",
       "<td>UTC</td></tr>\n",
       "<tr><td>H2O_cluster_version:</td>\n",
       "<td>3.30.1.1</td></tr>\n",
       "<tr><td>H2O_cluster_version_age:</td>\n",
       "<td>30 days </td></tr>\n",
       "<tr><td>H2O_cluster_name:</td>\n",
       "<td>H2O_from_python_carpiero_ldi8hv</td></tr>\n",
       "<tr><td>H2O_cluster_total_nodes:</td>\n",
       "<td>1</td></tr>\n",
       "<tr><td>H2O_cluster_free_memory:</td>\n",
       "<td>3.686 Gb</td></tr>\n",
       "<tr><td>H2O_cluster_total_cores:</td>\n",
       "<td>4</td></tr>\n",
       "<tr><td>H2O_cluster_allowed_cores:</td>\n",
       "<td>4</td></tr>\n",
       "<tr><td>H2O_cluster_status:</td>\n",
       "<td>accepting new members, healthy</td></tr>\n",
       "<tr><td>H2O_connection_url:</td>\n",
       "<td>http://127.0.0.1:54321</td></tr>\n",
       "<tr><td>H2O_connection_proxy:</td>\n",
       "<td>{\"http\": null, \"https\": null}</td></tr>\n",
       "<tr><td>H2O_internal_security:</td>\n",
       "<td>False</td></tr>\n",
       "<tr><td>H2O_API_Extensions:</td>\n",
       "<td>Amazon S3, XGBoost, Algos, AutoML, Core V3, TargetEncoder, Core V4</td></tr>\n",
       "<tr><td>Python_version:</td>\n",
       "<td>3.7.7 final</td></tr></table></div>"
      ],
      "text/plain": [
       "--------------------------  ------------------------------------------------------------------\n",
       "H2O_cluster_uptime:         04 secs\n",
       "H2O_cluster_timezone:       Europe/Madrid\n",
       "H2O_data_parsing_timezone:  UTC\n",
       "H2O_cluster_version:        3.30.1.1\n",
       "H2O_cluster_version_age:    30 days\n",
       "H2O_cluster_name:           H2O_from_python_carpiero_ldi8hv\n",
       "H2O_cluster_total_nodes:    1\n",
       "H2O_cluster_free_memory:    3.686 Gb\n",
       "H2O_cluster_total_cores:    4\n",
       "H2O_cluster_allowed_cores:  4\n",
       "H2O_cluster_status:         accepting new members, healthy\n",
       "H2O_connection_url:         http://127.0.0.1:54321\n",
       "H2O_connection_proxy:       {\"http\": null, \"https\": null}\n",
       "H2O_internal_security:      False\n",
       "H2O_API_Extensions:         Amazon S3, XGBoost, Algos, AutoML, Core V3, TargetEncoder, Core V4\n",
       "Python_version:             3.7.7 final\n",
       "--------------------------  ------------------------------------------------------------------"
      ]
     },
     "metadata": {},
     "output_type": "display_data"
    }
   ],
   "source": [
    "h2o.init()"
   ]
  },
  {
   "cell_type": "code",
   "execution_count": 32,
   "metadata": {},
   "outputs": [],
   "source": [
    "X_Y=pd.concat([X,Y], axis=1)\n"
   ]
  },
  {
   "cell_type": "code",
   "execution_count": 33,
   "metadata": {},
   "outputs": [
    {
     "data": {
      "text/plain": [
       "['depth',\n",
       " 'table',\n",
       " 'x',\n",
       " 'y',\n",
       " 'z',\n",
       " 'cut_int',\n",
       " 'color_int',\n",
       " 'clarity_int',\n",
       " 'raw_density',\n",
       " 'carat_sqr']"
      ]
     },
     "execution_count": 33,
     "metadata": {},
     "output_type": "execute_result"
    }
   ],
   "source": [
    "x= X.columns.to_list()\n",
    "y = \"price\"\n",
    "x"
   ]
  },
  {
   "cell_type": "code",
   "execution_count": 34,
   "metadata": {},
   "outputs": [
    {
     "name": "stdout",
     "output_type": "stream",
     "text": [
      "Parse progress: |█████████████████████████████████████████████████████████| 100%\n",
      "AutoML progress: |████████████████████████████████████████████████████████| 100%\n"
     ]
    }
   ],
   "source": [
    "# H2OAutoML(max_models=50,sort_metric='RMSE') 511.999\t\n",
    "# H2OAutoML(max_models=100,sort_metric='RMSE')    \n",
    "# H2OAutoML(max_models=200,sort_metric='RMSE')\n",
    "# H2OAutoML(max_models=400,max_runtime_secs=1000,sort_metric='RMSE')  516.046\n",
    "# H2OAutoML(max_models=50,max_runtime_secs=1000,sort_metric='RMSE') 512.375\n",
    "# H2OAutoML(max_models=20,max_runtime_secs=1000,sort_metric='RMSE') 513,651\n",
    "\n",
    "train_X_Y=h2o.H2OFrame(X_Y)\n",
    "aml = H2OAutoML(max_models=20,max_runtime_secs=1000,sort_metric='RMSE')\n",
    "aml.train(x=x, y=y, training_frame=train_X_Y)\n"
   ]
  },
  {
   "cell_type": "code",
   "execution_count": 36,
   "metadata": {},
   "outputs": [
    {
     "data": {
      "text/html": [
       "<table>\n",
       "<thead>\n",
       "<tr><th>model_id                                           </th><th style=\"text-align: right;\">    rmse</th><th style=\"text-align: right;\">  mean_residual_deviance</th><th style=\"text-align: right;\">             mse</th><th style=\"text-align: right;\">     mae</th><th style=\"text-align: right;\">      rmsle</th></tr>\n",
       "</thead>\n",
       "<tbody>\n",
       "<tr><td>StackedEnsemble_AllModels_AutoML_20200910_142928   </td><td style=\"text-align: right;\"> 513.651</td><td style=\"text-align: right;\">        263837          </td><td style=\"text-align: right;\">263837          </td><td style=\"text-align: right;\"> 262.097</td><td style=\"text-align: right;\">  0.0914283</td></tr>\n",
       "<tr><td>StackedEnsemble_BestOfFamily_AutoML_20200910_142928</td><td style=\"text-align: right;\"> 518.074</td><td style=\"text-align: right;\">        268401          </td><td style=\"text-align: right;\">268401          </td><td style=\"text-align: right;\"> 267.929</td><td style=\"text-align: right;\">  0.0966308</td></tr>\n",
       "<tr><td>GBM_2_AutoML_20200910_142928                       </td><td style=\"text-align: right;\"> 522.062</td><td style=\"text-align: right;\">        272549          </td><td style=\"text-align: right;\">272549          </td><td style=\"text-align: right;\"> 271.672</td><td style=\"text-align: right;\">  0.0981279</td></tr>\n",
       "<tr><td>GBM_grid__1_AutoML_20200910_142928_model_1         </td><td style=\"text-align: right;\"> 522.96 </td><td style=\"text-align: right;\">        273487          </td><td style=\"text-align: right;\">273487          </td><td style=\"text-align: right;\"> 264.349</td><td style=\"text-align: right;\">  0.0887019</td></tr>\n",
       "<tr><td>GBM_1_AutoML_20200910_142928                       </td><td style=\"text-align: right;\"> 525.877</td><td style=\"text-align: right;\">        276546          </td><td style=\"text-align: right;\">276546          </td><td style=\"text-align: right;\"> 276.711</td><td style=\"text-align: right;\">  0.102055 </td></tr>\n",
       "<tr><td>GBM_4_AutoML_20200910_142928                       </td><td style=\"text-align: right;\"> 525.924</td><td style=\"text-align: right;\">        276596          </td><td style=\"text-align: right;\">276596          </td><td style=\"text-align: right;\"> 266.836</td><td style=\"text-align: right;\">  0.0890773</td></tr>\n",
       "<tr><td>GBM_3_AutoML_20200910_142928                       </td><td style=\"text-align: right;\"> 533.603</td><td style=\"text-align: right;\">        284732          </td><td style=\"text-align: right;\">284732          </td><td style=\"text-align: right;\"> 275.268</td><td style=\"text-align: right;\">  0.0962902</td></tr>\n",
       "<tr><td>XGBoost_grid__1_AutoML_20200910_142928_model_1     </td><td style=\"text-align: right;\"> 543.82 </td><td style=\"text-align: right;\">        295741          </td><td style=\"text-align: right;\">295741          </td><td style=\"text-align: right;\"> 288.861</td><td style=\"text-align: right;\">  0.106659 </td></tr>\n",
       "<tr><td>GBM_5_AutoML_20200910_142928                       </td><td style=\"text-align: right;\"> 543.934</td><td style=\"text-align: right;\">        295864          </td><td style=\"text-align: right;\">295864          </td><td style=\"text-align: right;\"> 274.98 </td><td style=\"text-align: right;\">  0.0954681</td></tr>\n",
       "<tr><td>XGBoost_3_AutoML_20200910_142928                   </td><td style=\"text-align: right;\"> 547.254</td><td style=\"text-align: right;\">        299487          </td><td style=\"text-align: right;\">299487          </td><td style=\"text-align: right;\"> 292.555</td><td style=\"text-align: right;\">  0.109636 </td></tr>\n",
       "<tr><td>XGBoost_grid__1_AutoML_20200910_142928_model_2     </td><td style=\"text-align: right;\"> 547.757</td><td style=\"text-align: right;\">        300038          </td><td style=\"text-align: right;\">300038          </td><td style=\"text-align: right;\"> 275.028</td><td style=\"text-align: right;\">  0.0911799</td></tr>\n",
       "<tr><td>XGBoost_grid__1_AutoML_20200910_142928_model_3     </td><td style=\"text-align: right;\"> 550.593</td><td style=\"text-align: right;\">        303152          </td><td style=\"text-align: right;\">303152          </td><td style=\"text-align: right;\"> 278.567</td><td style=\"text-align: right;\">  0.0927497</td></tr>\n",
       "<tr><td>XGBoost_2_AutoML_20200910_142928                   </td><td style=\"text-align: right;\"> 558.249</td><td style=\"text-align: right;\">        311642          </td><td style=\"text-align: right;\">311642          </td><td style=\"text-align: right;\"> 283.502</td><td style=\"text-align: right;\">  0.0933075</td></tr>\n",
       "<tr><td>GBM_grid__1_AutoML_20200910_142928_model_2         </td><td style=\"text-align: right;\"> 573.293</td><td style=\"text-align: right;\">        328665          </td><td style=\"text-align: right;\">328665          </td><td style=\"text-align: right;\"> 318.598</td><td style=\"text-align: right;\">nan        </td></tr>\n",
       "<tr><td>DRF_1_AutoML_20200910_142928                       </td><td style=\"text-align: right;\"> 588.389</td><td style=\"text-align: right;\">        346202          </td><td style=\"text-align: right;\">346202          </td><td style=\"text-align: right;\"> 299.256</td><td style=\"text-align: right;\">  0.101569 </td></tr>\n",
       "<tr><td>XRT_1_AutoML_20200910_142928                       </td><td style=\"text-align: right;\"> 598.059</td><td style=\"text-align: right;\">        357675          </td><td style=\"text-align: right;\">357675          </td><td style=\"text-align: right;\"> 304.716</td><td style=\"text-align: right;\">  0.102928 </td></tr>\n",
       "<tr><td>DeepLearning_1_AutoML_20200910_142928              </td><td style=\"text-align: right;\"> 622.461</td><td style=\"text-align: right;\">        387457          </td><td style=\"text-align: right;\">387457          </td><td style=\"text-align: right;\"> 345.343</td><td style=\"text-align: right;\">nan        </td></tr>\n",
       "<tr><td>DeepLearning_grid__1_AutoML_20200910_142928_model_1</td><td style=\"text-align: right;\"> 670.097</td><td style=\"text-align: right;\">        449030          </td><td style=\"text-align: right;\">449030          </td><td style=\"text-align: right;\"> 392.109</td><td style=\"text-align: right;\">nan        </td></tr>\n",
       "<tr><td>XGBoost_1_AutoML_20200910_142928                   </td><td style=\"text-align: right;\"> 720.527</td><td style=\"text-align: right;\">        519159          </td><td style=\"text-align: right;\">519159          </td><td style=\"text-align: right;\"> 383.996</td><td style=\"text-align: right;\">  0.123967 </td></tr>\n",
       "<tr><td>XGBoost_grid__1_AutoML_20200910_142928_model_4     </td><td style=\"text-align: right;\"> 803.732</td><td style=\"text-align: right;\">        645985          </td><td style=\"text-align: right;\">645985          </td><td style=\"text-align: right;\"> 429.222</td><td style=\"text-align: right;\">  0.140049 </td></tr>\n",
       "<tr><td>DeepLearning_grid__2_AutoML_20200910_142928_model_1</td><td style=\"text-align: right;\"> 856.125</td><td style=\"text-align: right;\">        732951          </td><td style=\"text-align: right;\">732951          </td><td style=\"text-align: right;\"> 568.342</td><td style=\"text-align: right;\">nan        </td></tr>\n",
       "<tr><td>GLM_1_AutoML_20200910_142928                       </td><td style=\"text-align: right;\">3988.13 </td><td style=\"text-align: right;\">             1.59052e+07</td><td style=\"text-align: right;\">     1.59052e+07</td><td style=\"text-align: right;\">3030.92 </td><td style=\"text-align: right;\">  1.12826  </td></tr>\n",
       "</tbody>\n",
       "</table>"
      ]
     },
     "metadata": {},
     "output_type": "display_data"
    },
    {
     "data": {
      "text/plain": []
     },
     "execution_count": 36,
     "metadata": {},
     "output_type": "execute_result"
    }
   ],
   "source": [
    "lb = aml.leaderboard\n",
    "lb.head(rows=lb.nrows)"
   ]
  },
  {
   "cell_type": "code",
   "execution_count": 26,
   "metadata": {},
   "outputs": [
    {
     "name": "stdout",
     "output_type": "stream",
     "text": [
      "Parse progress: |█████████████████████████████████████████████████████████| 100%\n",
      "stackedensemble prediction progress: |████████████████████████████████████| 100%\n"
     ]
    }
   ],
   "source": [
    "predict_X=h2o.H2OFrame(X_predict)\n",
    "predictions_competition= aml.leader.predict(predict_X)\n",
    "predictions_competition=predictions_competition.as_data_frame()\n"
   ]
  },
  {
   "cell_type": "code",
   "execution_count": 27,
   "metadata": {},
   "outputs": [],
   "source": [
    "\n",
    "submission = pd.DataFrame({'id': df_predict['id'], 'price': predictions_competition['predict']})\n",
    "submission['id'] = submission['id'].astype('int64')\n",
    "\n",
    "submission.to_csv('/home/carpiero/IRONHACK/kaggle/submission.csv', index=False)\n",
    "\n"
   ]
  },
  {
   "cell_type": "code",
   "execution_count": 28,
   "metadata": {},
   "outputs": [
    {
     "name": "stdout",
     "output_type": "stream",
     "text": [
      "H2O session _sid_8364 closed.\n"
     ]
    }
   ],
   "source": [
    "h2o.cluster().shutdown()"
   ]
  },
  {
   "cell_type": "code",
   "execution_count": 29,
   "metadata": {},
   "outputs": [
    {
     "data": {
      "text/html": [
       "<div>\n",
       "<style scoped>\n",
       "    .dataframe tbody tr th:only-of-type {\n",
       "        vertical-align: middle;\n",
       "    }\n",
       "\n",
       "    .dataframe tbody tr th {\n",
       "        vertical-align: top;\n",
       "    }\n",
       "\n",
       "    .dataframe thead th {\n",
       "        text-align: right;\n",
       "    }\n",
       "</style>\n",
       "<table border=\"1\" class=\"dataframe\">\n",
       "  <thead>\n",
       "    <tr style=\"text-align: right;\">\n",
       "      <th></th>\n",
       "      <th>id</th>\n",
       "      <th>price</th>\n",
       "    </tr>\n",
       "  </thead>\n",
       "  <tbody>\n",
       "    <tr>\n",
       "      <th>count</th>\n",
       "      <td>13485.000000</td>\n",
       "      <td>13485.000000</td>\n",
       "    </tr>\n",
       "    <tr>\n",
       "      <th>mean</th>\n",
       "      <td>6742.000000</td>\n",
       "      <td>4350.812358</td>\n",
       "    </tr>\n",
       "    <tr>\n",
       "      <th>std</th>\n",
       "      <td>3892.928525</td>\n",
       "      <td>3422.831532</td>\n",
       "    </tr>\n",
       "    <tr>\n",
       "      <th>min</th>\n",
       "      <td>0.000000</td>\n",
       "      <td>878.985531</td>\n",
       "    </tr>\n",
       "    <tr>\n",
       "      <th>25%</th>\n",
       "      <td>3371.000000</td>\n",
       "      <td>1865.688443</td>\n",
       "    </tr>\n",
       "    <tr>\n",
       "      <th>50%</th>\n",
       "      <td>6742.000000</td>\n",
       "      <td>3088.094167</td>\n",
       "    </tr>\n",
       "    <tr>\n",
       "      <th>75%</th>\n",
       "      <td>10113.000000</td>\n",
       "      <td>5431.912224</td>\n",
       "    </tr>\n",
       "    <tr>\n",
       "      <th>max</th>\n",
       "      <td>13484.000000</td>\n",
       "      <td>18118.032304</td>\n",
       "    </tr>\n",
       "  </tbody>\n",
       "</table>\n",
       "</div>"
      ],
      "text/plain": [
       "                 id         price\n",
       "count  13485.000000  13485.000000\n",
       "mean    6742.000000   4350.812358\n",
       "std     3892.928525   3422.831532\n",
       "min        0.000000    878.985531\n",
       "25%     3371.000000   1865.688443\n",
       "50%     6742.000000   3088.094167\n",
       "75%    10113.000000   5431.912224\n",
       "max    13484.000000  18118.032304"
      ]
     },
     "execution_count": 29,
     "metadata": {},
     "output_type": "execute_result"
    }
   ],
   "source": [
    "submission.describe()"
   ]
  },
  {
   "cell_type": "code",
   "execution_count": null,
   "metadata": {},
   "outputs": [],
   "source": []
  }
 ],
 "metadata": {
  "kernelspec": {
   "display_name": "Python [conda env:ml_env]",
   "language": "python",
   "name": "conda-env-ml_env-py"
  },
  "language_info": {
   "codemirror_mode": {
    "name": "ipython",
    "version": 3
   },
   "file_extension": ".py",
   "mimetype": "text/x-python",
   "name": "python",
   "nbconvert_exporter": "python",
   "pygments_lexer": "ipython3",
   "version": "3.7.7"
  }
 },
 "nbformat": 4,
 "nbformat_minor": 4
}
