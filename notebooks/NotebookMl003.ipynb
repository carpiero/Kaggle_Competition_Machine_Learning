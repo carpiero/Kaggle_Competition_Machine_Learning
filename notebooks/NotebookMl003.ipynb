{
 "cells": [
  {
   "cell_type": "markdown",
   "metadata": {},
   "source": [
    "<img src=\"../images/diamond.png\" alt=\"Drawing\" style=\"width: 150px;\"/>\n",
    "\n",
    "# **Diamond Datasheet** \n",
    "## **NotebookML 003**\n",
    "\n",
    "***\n",
    "\n",
    "## Machine Learning Model H20\n",
    "\n",
    "***"
   ]
  },
  {
   "cell_type": "code",
   "execution_count": 15,
   "metadata": {},
   "outputs": [],
   "source": [
    "from sklearn.model_selection import cross_val_score\n",
    "import pandas as pd\n",
    "import numpy as np\n",
    "import h2o\n",
    "from h2o.automl import H2OAutoML\n",
    "\n",
    "X=pd.read_csv('../data/processed/X.csv')\n",
    "Y=pd.read_csv('../data/processed/Y.csv')\n",
    "X_predict=pd.read_csv('../data/processed/X_predict.csv')\n",
    "df_predict=pd.read_csv('../data/processed/df_predict.csv')"
   ]
  },
  {
   "cell_type": "code",
   "execution_count": 16,
   "metadata": {},
   "outputs": [
    {
     "name": "stdout",
     "output_type": "stream",
     "text": [
      "Checking whether there is an H2O instance running at http://localhost:54321 ..... not found.\n",
      "Attempting to start a local H2O server...\n",
      "  Java Version: openjdk version \"11.0.1-internal\" 2018-10-16; OpenJDK Runtime Environment (build 11.0.1-internal+0-adhoc..src); OpenJDK 64-Bit Server VM (build 11.0.1-internal+0-adhoc..src, mixed mode)\n",
      "  Starting server from /home/carpiero/miniconda3/envs/ml_env/lib/python3.7/site-packages/h2o/backend/bin/h2o.jar\n",
      "  Ice root: /tmp/tmpiyt_5jr_\n",
      "  JVM stdout: /tmp/tmpiyt_5jr_/h2o_carpiero_started_from_python.out\n",
      "  JVM stderr: /tmp/tmpiyt_5jr_/h2o_carpiero_started_from_python.err\n",
      "  Server is running at http://127.0.0.1:54321\n",
      "Connecting to H2O server at http://127.0.0.1:54321 ... successful.\n"
     ]
    },
    {
     "data": {
      "text/html": [
       "<div style=\"overflow:auto\"><table style=\"width:50%\"><tr><td>H2O_cluster_uptime:</td>\n",
       "<td>02 secs</td></tr>\n",
       "<tr><td>H2O_cluster_timezone:</td>\n",
       "<td>Europe/Madrid</td></tr>\n",
       "<tr><td>H2O_data_parsing_timezone:</td>\n",
       "<td>UTC</td></tr>\n",
       "<tr><td>H2O_cluster_version:</td>\n",
       "<td>3.30.1.1</td></tr>\n",
       "<tr><td>H2O_cluster_version_age:</td>\n",
       "<td>1 month and 7 days </td></tr>\n",
       "<tr><td>H2O_cluster_name:</td>\n",
       "<td>H2O_from_python_carpiero_v71y74</td></tr>\n",
       "<tr><td>H2O_cluster_total_nodes:</td>\n",
       "<td>1</td></tr>\n",
       "<tr><td>H2O_cluster_free_memory:</td>\n",
       "<td>3.686 Gb</td></tr>\n",
       "<tr><td>H2O_cluster_total_cores:</td>\n",
       "<td>4</td></tr>\n",
       "<tr><td>H2O_cluster_allowed_cores:</td>\n",
       "<td>4</td></tr>\n",
       "<tr><td>H2O_cluster_status:</td>\n",
       "<td>accepting new members, healthy</td></tr>\n",
       "<tr><td>H2O_connection_url:</td>\n",
       "<td>http://127.0.0.1:54321</td></tr>\n",
       "<tr><td>H2O_connection_proxy:</td>\n",
       "<td>{\"http\": null, \"https\": null}</td></tr>\n",
       "<tr><td>H2O_internal_security:</td>\n",
       "<td>False</td></tr>\n",
       "<tr><td>H2O_API_Extensions:</td>\n",
       "<td>Amazon S3, XGBoost, Algos, AutoML, Core V3, TargetEncoder, Core V4</td></tr>\n",
       "<tr><td>Python_version:</td>\n",
       "<td>3.7.7 final</td></tr></table></div>"
      ],
      "text/plain": [
       "--------------------------  ------------------------------------------------------------------\n",
       "H2O_cluster_uptime:         02 secs\n",
       "H2O_cluster_timezone:       Europe/Madrid\n",
       "H2O_data_parsing_timezone:  UTC\n",
       "H2O_cluster_version:        3.30.1.1\n",
       "H2O_cluster_version_age:    1 month and 7 days\n",
       "H2O_cluster_name:           H2O_from_python_carpiero_v71y74\n",
       "H2O_cluster_total_nodes:    1\n",
       "H2O_cluster_free_memory:    3.686 Gb\n",
       "H2O_cluster_total_cores:    4\n",
       "H2O_cluster_allowed_cores:  4\n",
       "H2O_cluster_status:         accepting new members, healthy\n",
       "H2O_connection_url:         http://127.0.0.1:54321\n",
       "H2O_connection_proxy:       {\"http\": null, \"https\": null}\n",
       "H2O_internal_security:      False\n",
       "H2O_API_Extensions:         Amazon S3, XGBoost, Algos, AutoML, Core V3, TargetEncoder, Core V4\n",
       "Python_version:             3.7.7 final\n",
       "--------------------------  ------------------------------------------------------------------"
      ]
     },
     "metadata": {},
     "output_type": "display_data"
    }
   ],
   "source": [
    "h2o.init()"
   ]
  },
  {
   "cell_type": "code",
   "execution_count": 17,
   "metadata": {},
   "outputs": [],
   "source": [
    "X_Y=pd.concat([X,Y], axis=1)\n"
   ]
  },
  {
   "cell_type": "code",
   "execution_count": 18,
   "metadata": {},
   "outputs": [
    {
     "data": {
      "text/plain": [
       "['carat',\n",
       " 'depth',\n",
       " 'table',\n",
       " 'x',\n",
       " 'y',\n",
       " 'z',\n",
       " 'cut_int',\n",
       " 'color_int',\n",
       " 'clarity_int',\n",
       " 'carat_sqr',\n",
       " 'high']"
      ]
     },
     "execution_count": 18,
     "metadata": {},
     "output_type": "execute_result"
    }
   ],
   "source": [
    "x= X.columns.to_list()\n",
    "y = \"price\"\n",
    "x"
   ]
  },
  {
   "cell_type": "code",
   "execution_count": 19,
   "metadata": {},
   "outputs": [
    {
     "name": "stdout",
     "output_type": "stream",
     "text": [
      "Parse progress: |█████████████████████████████████████████████████████████| 100%\n",
      "AutoML progress: |████████████████████████████████████████████████████████| 100%\n"
     ]
    }
   ],
   "source": [
    "# H2OAutoML(max_models=20,sort_metric='RMSE') 513.54\n",
    "# H2OAutoML(max_models=50,sort_metric='RMSE')\t514.594\n",
    "# H2OAutoML(max_models=100,max_runtime_secs=2000,sort_metric='RMSE') 513.786   \n",
    "# H2OAutoML(max_models=200,sort_metric='RMSE')\n",
    "# H2OAutoML(max_models=400,max_runtime_secs=1000,sort_metric='RMSE')  516.046\n",
    "# H2OAutoML(max_models=50,max_runtime_secs=1000,sort_metric='RMSE') 512.375\n",
    "# H2OAutoML(max_models=20,max_runtime_secs=1000,sort_metric='RMSE') 519,203\n",
    "\n",
    "train_X_Y=h2o.H2OFrame(X_Y)\n",
    "aml = H2OAutoML(max_models=50,max_runtime_secs=500,sort_metric='RMSE')\n",
    "aml.train(x=x, y=y, training_frame=train_X_Y)\n"
   ]
  },
  {
   "cell_type": "code",
   "execution_count": 20,
   "metadata": {},
   "outputs": [
    {
     "data": {
      "text/html": [
       "<table>\n",
       "<thead>\n",
       "<tr><th>model_id                                           </th><th style=\"text-align: right;\">    rmse</th><th style=\"text-align: right;\">  mean_residual_deviance</th><th style=\"text-align: right;\">             mse</th><th style=\"text-align: right;\">     mae</th><th style=\"text-align: right;\">      rmsle</th></tr>\n",
       "</thead>\n",
       "<tbody>\n",
       "<tr><td>StackedEnsemble_AllModels_AutoML_20200917_185944   </td><td style=\"text-align: right;\"> 526.336</td><td style=\"text-align: right;\">        277030          </td><td style=\"text-align: right;\">277030          </td><td style=\"text-align: right;\"> 268.419</td><td style=\"text-align: right;\">  0.0936599</td></tr>\n",
       "<tr><td>StackedEnsemble_BestOfFamily_AutoML_20200917_185944</td><td style=\"text-align: right;\"> 528.772</td><td style=\"text-align: right;\">        279600          </td><td style=\"text-align: right;\">279600          </td><td style=\"text-align: right;\"> 269.229</td><td style=\"text-align: right;\">  0.0941852</td></tr>\n",
       "<tr><td>GBM_3_AutoML_20200917_185944                       </td><td style=\"text-align: right;\"> 551.392</td><td style=\"text-align: right;\">        304033          </td><td style=\"text-align: right;\">304033          </td><td style=\"text-align: right;\"> 299.298</td><td style=\"text-align: right;\">  0.124871 </td></tr>\n",
       "<tr><td>XGBoost_2_AutoML_20200917_185944                   </td><td style=\"text-align: right;\"> 552.558</td><td style=\"text-align: right;\">        305320          </td><td style=\"text-align: right;\">305320          </td><td style=\"text-align: right;\"> 280.996</td><td style=\"text-align: right;\">  0.0923525</td></tr>\n",
       "<tr><td>XGBoost_3_AutoML_20200917_185944                   </td><td style=\"text-align: right;\"> 555.153</td><td style=\"text-align: right;\">        308195          </td><td style=\"text-align: right;\">308195          </td><td style=\"text-align: right;\"> 298.666</td><td style=\"text-align: right;\">  0.111447 </td></tr>\n",
       "<tr><td>XGBoost_grid__1_AutoML_20200917_185944_model_1     </td><td style=\"text-align: right;\"> 562.785</td><td style=\"text-align: right;\">        316726          </td><td style=\"text-align: right;\">316726          </td><td style=\"text-align: right;\"> 304.605</td><td style=\"text-align: right;\">  0.115257 </td></tr>\n",
       "<tr><td>GBM_grid__1_AutoML_20200917_185944_model_1         </td><td style=\"text-align: right;\"> 567.28 </td><td style=\"text-align: right;\">        321806          </td><td style=\"text-align: right;\">321806          </td><td style=\"text-align: right;\"> 297.31 </td><td style=\"text-align: right;\">  0.111213 </td></tr>\n",
       "<tr><td>GBM_1_AutoML_20200917_185944                       </td><td style=\"text-align: right;\"> 569.587</td><td style=\"text-align: right;\">        324429          </td><td style=\"text-align: right;\">324429          </td><td style=\"text-align: right;\"> 310.913</td><td style=\"text-align: right;\">  0.131545 </td></tr>\n",
       "<tr><td>XGBoost_grid__1_AutoML_20200917_185944_model_2     </td><td style=\"text-align: right;\"> 576.759</td><td style=\"text-align: right;\">        332651          </td><td style=\"text-align: right;\">332651          </td><td style=\"text-align: right;\"> 295.77 </td><td style=\"text-align: right;\">  0.0972869</td></tr>\n",
       "<tr><td>GBM_4_AutoML_20200917_185944                       </td><td style=\"text-align: right;\"> 577.679</td><td style=\"text-align: right;\">        333713          </td><td style=\"text-align: right;\">333713          </td><td style=\"text-align: right;\"> 330.163</td><td style=\"text-align: right;\">  0.154632 </td></tr>\n",
       "<tr><td>GBM_grid__1_AutoML_20200917_185944_model_2         </td><td style=\"text-align: right;\"> 580.113</td><td style=\"text-align: right;\">        336531          </td><td style=\"text-align: right;\">336531          </td><td style=\"text-align: right;\"> 309.427</td><td style=\"text-align: right;\">nan        </td></tr>\n",
       "<tr><td>GBM_grid__1_AutoML_20200917_185944_model_3         </td><td style=\"text-align: right;\"> 599.197</td><td style=\"text-align: right;\">        359037          </td><td style=\"text-align: right;\">359037          </td><td style=\"text-align: right;\"> 317.001</td><td style=\"text-align: right;\">  0.130011 </td></tr>\n",
       "<tr><td>GBM_2_AutoML_20200917_185944                       </td><td style=\"text-align: right;\"> 619.857</td><td style=\"text-align: right;\">        384222          </td><td style=\"text-align: right;\">384222          </td><td style=\"text-align: right;\"> 366.884</td><td style=\"text-align: right;\">  0.189807 </td></tr>\n",
       "<tr><td>XGBoost_1_AutoML_20200917_185944                   </td><td style=\"text-align: right;\"> 630.353</td><td style=\"text-align: right;\">        397344          </td><td style=\"text-align: right;\">397344          </td><td style=\"text-align: right;\"> 323.838</td><td style=\"text-align: right;\">  0.105131 </td></tr>\n",
       "<tr><td>XRT_1_AutoML_20200917_185944                       </td><td style=\"text-align: right;\"> 642.99 </td><td style=\"text-align: right;\">        413436          </td><td style=\"text-align: right;\">413436          </td><td style=\"text-align: right;\"> 330.126</td><td style=\"text-align: right;\">  0.110322 </td></tr>\n",
       "<tr><td>DeepLearning_1_AutoML_20200917_185944              </td><td style=\"text-align: right;\"> 644.632</td><td style=\"text-align: right;\">        415550          </td><td style=\"text-align: right;\">415550          </td><td style=\"text-align: right;\"> 362.035</td><td style=\"text-align: right;\">nan        </td></tr>\n",
       "<tr><td>GBM_5_AutoML_20200917_185944                       </td><td style=\"text-align: right;\"> 685.882</td><td style=\"text-align: right;\">        470434          </td><td style=\"text-align: right;\">470434          </td><td style=\"text-align: right;\"> 396.481</td><td style=\"text-align: right;\">  0.19779  </td></tr>\n",
       "<tr><td>DRF_1_AutoML_20200917_185944                       </td><td style=\"text-align: right;\"> 707.156</td><td style=\"text-align: right;\">        500070          </td><td style=\"text-align: right;\">500070          </td><td style=\"text-align: right;\"> 351.488</td><td style=\"text-align: right;\">  0.121313 </td></tr>\n",
       "<tr><td>DeepLearning_grid__1_AutoML_20200917_185944_model_1</td><td style=\"text-align: right;\"> 761.063</td><td style=\"text-align: right;\">        579217          </td><td style=\"text-align: right;\">579217          </td><td style=\"text-align: right;\"> 436.691</td><td style=\"text-align: right;\">nan        </td></tr>\n",
       "<tr><td>DeepLearning_grid__3_AutoML_20200917_185944_model_1</td><td style=\"text-align: right;\"> 808.606</td><td style=\"text-align: right;\">        653844          </td><td style=\"text-align: right;\">653844          </td><td style=\"text-align: right;\"> 492.752</td><td style=\"text-align: right;\">  0.256839 </td></tr>\n",
       "<tr><td>DeepLearning_grid__2_AutoML_20200917_185944_model_1</td><td style=\"text-align: right;\"> 864.271</td><td style=\"text-align: right;\">        746964          </td><td style=\"text-align: right;\">746964          </td><td style=\"text-align: right;\"> 494.565</td><td style=\"text-align: right;\">  0.264862 </td></tr>\n",
       "<tr><td>DeepLearning_grid__1_AutoML_20200917_185944_model_2</td><td style=\"text-align: right;\">1164.7  </td><td style=\"text-align: right;\">             1.35653e+06</td><td style=\"text-align: right;\">     1.35653e+06</td><td style=\"text-align: right;\"> 774.644</td><td style=\"text-align: right;\">nan        </td></tr>\n",
       "<tr><td>GLM_1_AutoML_20200917_185944                       </td><td style=\"text-align: right;\">3987.55 </td><td style=\"text-align: right;\">             1.59006e+07</td><td style=\"text-align: right;\">     1.59006e+07</td><td style=\"text-align: right;\">3030.41 </td><td style=\"text-align: right;\">  1.12797  </td></tr>\n",
       "</tbody>\n",
       "</table>"
      ]
     },
     "metadata": {},
     "output_type": "display_data"
    },
    {
     "data": {
      "text/plain": []
     },
     "execution_count": 20,
     "metadata": {},
     "output_type": "execute_result"
    }
   ],
   "source": [
    "lb = aml.leaderboard\n",
    "lb.head(rows=lb.nrows)"
   ]
  },
  {
   "cell_type": "code",
   "execution_count": 21,
   "metadata": {},
   "outputs": [
    {
     "name": "stdout",
     "output_type": "stream",
     "text": [
      "Parse progress: |█████████████████████████████████████████████████████████| 100%\n",
      "stackedensemble prediction progress: |████████████████████████████████████| 100%\n"
     ]
    }
   ],
   "source": [
    "predict_X=h2o.H2OFrame(X_predict)\n",
    "predictions_competition= aml.leader.predict(predict_X)\n",
    "predictions_competition=predictions_competition.as_data_frame()\n"
   ]
  },
  {
   "cell_type": "code",
   "execution_count": 22,
   "metadata": {},
   "outputs": [],
   "source": [
    "\n",
    "submission = pd.DataFrame({'id': df_predict['id'], 'price': predictions_competition['predict']})\n",
    "submission['id'] = submission['id'].astype('int64')\n",
    "\n",
    "submission.to_csv(f'/home/carpiero/IRONHACK/kaggle/H2OAutoML(max_models=50,max_runtime_secs=500,so_526_336.csv', index=False)\n",
    "\n"
   ]
  },
  {
   "cell_type": "code",
   "execution_count": 23,
   "metadata": {},
   "outputs": [
    {
     "name": "stdout",
     "output_type": "stream",
     "text": [
      "H2O session _sid_bf3e closed.\n"
     ]
    }
   ],
   "source": [
    "h2o.cluster().shutdown()"
   ]
  },
  {
   "cell_type": "code",
   "execution_count": 31,
   "metadata": {},
   "outputs": [
    {
     "data": {
      "text/plain": [
       "count    13485.000000\n",
       "mean      3951.208307\n",
       "std       3959.686934\n",
       "min        345.780824\n",
       "25%        926.090826\n",
       "50%       2451.074238\n",
       "75%       5335.157959\n",
       "max      18193.464176\n",
       "Name: price, dtype: float64"
      ]
     },
     "execution_count": 31,
     "metadata": {},
     "output_type": "execute_result"
    }
   ],
   "source": [
    "# H2OAutoML(max_models=20,max_runtime_secs=1000,sort_metric='RMSE')  511.791\n",
    "# count    13485.000000\n",
    "# mean      3947.534876\n",
    "# std       3940.890099\n",
    "# min        342.779315\n",
    "# 25%        935.550702\n",
    "# 50%       2449.032989\n",
    "# 75%       5329.584411\n",
    "# max      18128.114212\n",
    "# Name: price, dtype: float64\n",
    "\n",
    "# H2OAutoML(max_models=20,max_runtime_secs=1000,sort_metric='RMSE')  514.349\n",
    "# count    13485.000000\n",
    "# mean      3945.590390\n",
    "# std       3957.416982\n",
    "# min        332.303338\n",
    "# 25%        929.447763\n",
    "# 50%       2447.357701\n",
    "# 75%       5315.242484\n",
    "# max      18172.341788\n",
    "# Name: price, dtype: float64\n",
    "\n",
    "\n",
    "\n",
    "submission['price'].describe()"
   ]
  },
  {
   "cell_type": "code",
   "execution_count": null,
   "metadata": {},
   "outputs": [],
   "source": []
  }
 ],
 "metadata": {
  "kernelspec": {
   "display_name": "Python [conda env:ml_env]",
   "language": "python",
   "name": "conda-env-ml_env-py"
  },
  "language_info": {
   "codemirror_mode": {
    "name": "ipython",
    "version": 3
   },
   "file_extension": ".py",
   "mimetype": "text/x-python",
   "name": "python",
   "nbconvert_exporter": "python",
   "pygments_lexer": "ipython3",
   "version": "3.7.7"
  }
 },
 "nbformat": 4,
 "nbformat_minor": 4
}
