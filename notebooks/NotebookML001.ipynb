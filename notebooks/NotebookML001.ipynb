{
 "cells": [
  {
   "cell_type": "code",
   "execution_count": 1,
   "metadata": {},
   "outputs": [],
   "source": [
    "\n",
    "import pandas as pd\n",
    "\n",
    "import matplotlib.pyplot as plt\n",
    "import seaborn as sns\n",
    "import numpy as np\n",
    "plt.style.use('seaborn')\n",
    "%matplotlib inline\n"
   ]
  },
  {
   "cell_type": "code",
   "execution_count": 2,
   "metadata": {},
   "outputs": [],
   "source": [
    "df=pd.read_csv(f'../data/raw/diamonds_train.csv')\n",
    "dfpredict=pd.read_csv(f'../data/raw/diamonds_predict.csv')\n"
   ]
  },
  {
   "cell_type": "code",
   "execution_count": 3,
   "metadata": {},
   "outputs": [
    {
     "name": "stdout",
     "output_type": "stream",
     "text": [
      "(40455, 11)\n",
      "(13485, 11)\n"
     ]
    },
    {
     "data": {
      "text/plain": [
       "1    40455\n",
       "0    13485\n",
       "Name: df_original, dtype: int64"
      ]
     },
     "execution_count": 3,
     "metadata": {},
     "output_type": "execute_result"
    }
   ],
   "source": [
    "df['df_original']=1\n",
    "dfpredict['df_original']=0\n",
    "print(df.shape)\n",
    "print(dfpredict.shape)\n",
    "\n",
    "df=pd.concat([df,dfpredict], axis=0)\n",
    "df['df_original'].value_counts()\n"
   ]
  },
  {
   "cell_type": "code",
   "execution_count": 4,
   "metadata": {},
   "outputs": [
    {
     "name": "stdout",
     "output_type": "stream",
     "text": [
      "<class 'pandas.core.frame.DataFrame'>\n",
      "Int64Index: 53940 entries, 0 to 13484\n",
      "Data columns (total 12 columns):\n",
      " #   Column       Non-Null Count  Dtype  \n",
      "---  ------       --------------  -----  \n",
      " 0   carat        53940 non-null  float64\n",
      " 1   cut          53940 non-null  object \n",
      " 2   color        53940 non-null  object \n",
      " 3   clarity      53940 non-null  object \n",
      " 4   depth        53940 non-null  float64\n",
      " 5   table        53940 non-null  float64\n",
      " 6   price        40455 non-null  float64\n",
      " 7   x            53940 non-null  float64\n",
      " 8   y            53940 non-null  float64\n",
      " 9   z            53940 non-null  float64\n",
      " 10  df_original  53940 non-null  int64  \n",
      " 11  id           13485 non-null  float64\n",
      "dtypes: float64(8), int64(1), object(3)\n",
      "memory usage: 13.9 MB\n",
      "None\n"
     ]
    },
    {
     "data": {
      "text/html": [
       "<div>\n",
       "<style scoped>\n",
       "    .dataframe tbody tr th:only-of-type {\n",
       "        vertical-align: middle;\n",
       "    }\n",
       "\n",
       "    .dataframe tbody tr th {\n",
       "        vertical-align: top;\n",
       "    }\n",
       "\n",
       "    .dataframe thead th {\n",
       "        text-align: right;\n",
       "    }\n",
       "</style>\n",
       "<table border=\"1\" class=\"dataframe\">\n",
       "  <thead>\n",
       "    <tr style=\"text-align: right;\">\n",
       "      <th></th>\n",
       "      <th>carat</th>\n",
       "      <th>depth</th>\n",
       "      <th>table</th>\n",
       "      <th>price</th>\n",
       "      <th>x</th>\n",
       "      <th>y</th>\n",
       "      <th>z</th>\n",
       "      <th>df_original</th>\n",
       "      <th>id</th>\n",
       "    </tr>\n",
       "  </thead>\n",
       "  <tbody>\n",
       "    <tr>\n",
       "      <th>count</th>\n",
       "      <td>53940.000000</td>\n",
       "      <td>53940.000000</td>\n",
       "      <td>53940.000000</td>\n",
       "      <td>40455.000000</td>\n",
       "      <td>53940.000000</td>\n",
       "      <td>53940.000000</td>\n",
       "      <td>53940.000000</td>\n",
       "      <td>53940.000000</td>\n",
       "      <td>13485.000000</td>\n",
       "    </tr>\n",
       "    <tr>\n",
       "      <th>mean</th>\n",
       "      <td>0.797940</td>\n",
       "      <td>61.749405</td>\n",
       "      <td>57.457184</td>\n",
       "      <td>3928.444469</td>\n",
       "      <td>5.731157</td>\n",
       "      <td>5.734526</td>\n",
       "      <td>3.538734</td>\n",
       "      <td>0.750000</td>\n",
       "      <td>6742.000000</td>\n",
       "    </tr>\n",
       "    <tr>\n",
       "      <th>std</th>\n",
       "      <td>0.474011</td>\n",
       "      <td>1.432621</td>\n",
       "      <td>2.234491</td>\n",
       "      <td>3992.416147</td>\n",
       "      <td>1.121761</td>\n",
       "      <td>1.142135</td>\n",
       "      <td>0.705699</td>\n",
       "      <td>0.433017</td>\n",
       "      <td>3892.928525</td>\n",
       "    </tr>\n",
       "    <tr>\n",
       "      <th>min</th>\n",
       "      <td>0.200000</td>\n",
       "      <td>43.000000</td>\n",
       "      <td>43.000000</td>\n",
       "      <td>326.000000</td>\n",
       "      <td>0.000000</td>\n",
       "      <td>0.000000</td>\n",
       "      <td>0.000000</td>\n",
       "      <td>0.000000</td>\n",
       "      <td>0.000000</td>\n",
       "    </tr>\n",
       "    <tr>\n",
       "      <th>25%</th>\n",
       "      <td>0.400000</td>\n",
       "      <td>61.000000</td>\n",
       "      <td>56.000000</td>\n",
       "      <td>945.000000</td>\n",
       "      <td>4.710000</td>\n",
       "      <td>4.720000</td>\n",
       "      <td>2.910000</td>\n",
       "      <td>0.750000</td>\n",
       "      <td>3371.000000</td>\n",
       "    </tr>\n",
       "    <tr>\n",
       "      <th>50%</th>\n",
       "      <td>0.700000</td>\n",
       "      <td>61.800000</td>\n",
       "      <td>57.000000</td>\n",
       "      <td>2397.000000</td>\n",
       "      <td>5.700000</td>\n",
       "      <td>5.710000</td>\n",
       "      <td>3.530000</td>\n",
       "      <td>1.000000</td>\n",
       "      <td>6742.000000</td>\n",
       "    </tr>\n",
       "    <tr>\n",
       "      <th>75%</th>\n",
       "      <td>1.040000</td>\n",
       "      <td>62.500000</td>\n",
       "      <td>59.000000</td>\n",
       "      <td>5331.000000</td>\n",
       "      <td>6.540000</td>\n",
       "      <td>6.540000</td>\n",
       "      <td>4.040000</td>\n",
       "      <td>1.000000</td>\n",
       "      <td>10113.000000</td>\n",
       "    </tr>\n",
       "    <tr>\n",
       "      <th>max</th>\n",
       "      <td>5.010000</td>\n",
       "      <td>79.000000</td>\n",
       "      <td>95.000000</td>\n",
       "      <td>18823.000000</td>\n",
       "      <td>10.740000</td>\n",
       "      <td>58.900000</td>\n",
       "      <td>31.800000</td>\n",
       "      <td>1.000000</td>\n",
       "      <td>13484.000000</td>\n",
       "    </tr>\n",
       "  </tbody>\n",
       "</table>\n",
       "</div>"
      ],
      "text/plain": [
       "              carat         depth         table         price             x  \\\n",
       "count  53940.000000  53940.000000  53940.000000  40455.000000  53940.000000   \n",
       "mean       0.797940     61.749405     57.457184   3928.444469      5.731157   \n",
       "std        0.474011      1.432621      2.234491   3992.416147      1.121761   \n",
       "min        0.200000     43.000000     43.000000    326.000000      0.000000   \n",
       "25%        0.400000     61.000000     56.000000    945.000000      4.710000   \n",
       "50%        0.700000     61.800000     57.000000   2397.000000      5.700000   \n",
       "75%        1.040000     62.500000     59.000000   5331.000000      6.540000   \n",
       "max        5.010000     79.000000     95.000000  18823.000000     10.740000   \n",
       "\n",
       "                  y             z   df_original            id  \n",
       "count  53940.000000  53940.000000  53940.000000  13485.000000  \n",
       "mean       5.734526      3.538734      0.750000   6742.000000  \n",
       "std        1.142135      0.705699      0.433017   3892.928525  \n",
       "min        0.000000      0.000000      0.000000      0.000000  \n",
       "25%        4.720000      2.910000      0.750000   3371.000000  \n",
       "50%        5.710000      3.530000      1.000000   6742.000000  \n",
       "75%        6.540000      4.040000      1.000000  10113.000000  \n",
       "max       58.900000     31.800000      1.000000  13484.000000  "
      ]
     },
     "execution_count": 4,
     "metadata": {},
     "output_type": "execute_result"
    }
   ],
   "source": [
    "print(df.info(memory_usage='deep'))\n",
    "df.describe()"
   ]
  },
  {
   "cell_type": "code",
   "execution_count": 5,
   "metadata": {},
   "outputs": [
    {
     "name": "stdout",
     "output_type": "stream",
     "text": [
      "<class 'pandas.core.frame.DataFrame'>\n",
      "Int64Index: 53940 entries, 0 to 13484\n",
      "Data columns (total 12 columns):\n",
      " #   Column       Non-Null Count  Dtype   \n",
      "---  ------       --------------  -----   \n",
      " 0   carat        53940 non-null  float64 \n",
      " 1   cut          53940 non-null  category\n",
      " 2   color        53940 non-null  category\n",
      " 3   clarity      53940 non-null  category\n",
      " 4   depth        53940 non-null  float64 \n",
      " 5   table        53940 non-null  float64 \n",
      " 6   price        40455 non-null  float64 \n",
      " 7   x            53940 non-null  float64 \n",
      " 8   y            53940 non-null  float64 \n",
      " 9   z            53940 non-null  float64 \n",
      " 10  df_original  53940 non-null  int64   \n",
      " 11  id           13485 non-null  float64 \n",
      "dtypes: category(3), float64(8), int64(1)\n",
      "memory usage: 4.3 MB\n"
     ]
    }
   ],
   "source": [
    "df['cut'] = df['cut'].astype('category')\n",
    "df['color'] = df['color'].astype('category')\n",
    "df['clarity'] = df['clarity'].astype('category')\n",
    "df.info(memory_usage='deep')"
   ]
  },
  {
   "cell_type": "code",
   "execution_count": 6,
   "metadata": {},
   "outputs": [],
   "source": [
    "df['cut_int']=''\n",
    "\n",
    "df.loc[df['cut']=='Fair','cut_int']=1\n",
    "df.loc[df['cut']=='Good','cut_int']=2\n",
    "df.loc[df['cut']=='Very Good','cut_int']=3\n",
    "df.loc[df['cut']=='Premium','cut_int']=4\n",
    "df.loc[df['cut']=='Ideal','cut_int']=5\n",
    "\n",
    "df['cut_int'] = df['cut_int'].astype('int64')\n",
    "\n",
    "df['color_int']=''\n",
    "\n",
    "df.loc[df['color']=='J','color_int']=1\n",
    "df.loc[df['color']=='I','color_int']=2\n",
    "df.loc[df['color']=='H','color_int']=3\n",
    "df.loc[df['color']=='G','color_int']=4\n",
    "df.loc[df['color']=='F','color_int']=5\n",
    "df.loc[df['color']=='E','color_int']=6\n",
    "df.loc[df['color']=='D','color_int']=7\n",
    "\n",
    "\n",
    "df['color_int'] = df['color_int'].astype('int64')\n",
    "\n",
    "df['clarity_int']=''\n",
    "\n",
    "df.loc[df['clarity']=='I1','clarity_int']=1\n",
    "df.loc[df['clarity']=='SI2','clarity_int']=2\n",
    "df.loc[df['clarity']=='SI1','clarity_int']=3\n",
    "df.loc[df['clarity']=='VS2','clarity_int']=4\n",
    "df.loc[df['clarity']=='VS1','clarity_int']=5\n",
    "df.loc[df['clarity']=='VVS2','clarity_int']=6\n",
    "df.loc[df['clarity']=='VVS1','clarity_int']=7\n",
    "df.loc[df['clarity']=='IF','clarity_int']=8\n",
    "\n",
    "\n",
    "df['clarity_int'] = df['clarity_int'].astype('int64')"
   ]
  },
  {
   "cell_type": "code",
   "execution_count": 7,
   "metadata": {},
   "outputs": [],
   "source": [
    "df['cut_color_clarity_score'] = df.apply(lambda new: 3*new['cut_int']+3*new['color_int']+4*new['clarity_int'], axis=1)"
   ]
  },
  {
   "cell_type": "code",
   "execution_count": 8,
   "metadata": {},
   "outputs": [],
   "source": [
    "df['raw_density'] = (df['carat']*0.2)/(df['x']*df['y']*df['z']/3/1000)\n",
    "df['raw_density'] = np.where(df['raw_density']==float('Inf'),0,df['raw_density'])\n"
   ]
  },
  {
   "cell_type": "code",
   "execution_count": 9,
   "metadata": {},
   "outputs": [
    {
     "data": {
      "text/plain": [
       "regular    45820\n",
       "good        6800\n",
       "bad         1320\n",
       "Name: marketing_carat, dtype: int64"
      ]
     },
     "execution_count": 9,
     "metadata": {},
     "output_type": "execute_result"
    }
   ],
   "source": [
    "def marketing_carat(x):\n",
    "    h=0.09\n",
    "    for z in range(1,6):\n",
    "        if (z-h)<=x<(z):             #bad 0.91 a 0.99  good  1.00 a 1.04\n",
    "            y='bad'\n",
    "            break\n",
    "        elif (z)<=x<=(z+h-0.05):\n",
    "            y='good'\n",
    "            break\n",
    "        else:\n",
    "            y='regular'\n",
    "    return y\n",
    "\n",
    "df['marketing_carat']=df.apply(lambda x: marketing_carat(x['carat']), axis=1) \n",
    "    \n",
    "df['marketing_carat_int']=''\n",
    "\n",
    "df.loc[df['marketing_carat']=='bad','marketing_carat_int']=1\n",
    "df.loc[df['marketing_carat']=='regular','marketing_carat_int']=2\n",
    "df.loc[df['marketing_carat']=='good','marketing_carat_int']=3\n",
    "\n",
    "\n",
    "\n",
    "df['marketing_carat_int'] = df['marketing_carat_int'].astype('int64')    \n",
    "df['marketing_carat'].value_counts()\n"
   ]
  },
  {
   "cell_type": "code",
   "execution_count": 10,
   "metadata": {},
   "outputs": [],
   "source": [
    "df['carat_sqr']=df['carat']**4\n",
    "\n",
    "# df['carat_sqr'] = np.where(df['carat_sqr']==float('Inf'),0,df['carat_sqr'])"
   ]
  },
  {
   "cell_type": "code",
   "execution_count": 11,
   "metadata": {},
   "outputs": [],
   "source": [
    "\n",
    "# sns.set(font_scale=1)\n",
    "# dft=df.corr(method='spearman')\n",
    "# mask = np.triu(np.ones_like(dft, dtype=np.bool))\n",
    "# f, ax = plt.subplots(figsize=(20, 10))\n",
    "# cmap = sns.diverging_palette(220, 10, as_cmap=True)\n",
    "# sns.heatmap(dft, mask=mask, cmap=cmap, vmax=.3, center=0,\n",
    "#             square=True, linewidths=.5, cbar_kws={\"shrink\": .5}, annot=True)\n",
    "\n",
    "# plt.show()"
   ]
  },
  {
   "cell_type": "code",
   "execution_count": 12,
   "metadata": {},
   "outputs": [],
   "source": [
    "dfd=pd.get_dummies(df)"
   ]
  },
  {
   "cell_type": "code",
   "execution_count": 13,
   "metadata": {},
   "outputs": [],
   "source": [
    "df.to_parquet('../data/processed/df.parquet')\n",
    "dfd.to_parquet('../data/processed/dfd.parquet')"
   ]
  },
  {
   "cell_type": "code",
   "execution_count": 14,
   "metadata": {},
   "outputs": [
    {
     "data": {
      "text/plain": [
       "1    40455\n",
       "0    13485\n",
       "Name: df_original, dtype: int64"
      ]
     },
     "execution_count": 14,
     "metadata": {},
     "output_type": "execute_result"
    }
   ],
   "source": [
    "df['df_original'].value_counts()"
   ]
  },
  {
   "cell_type": "code",
   "execution_count": null,
   "metadata": {},
   "outputs": [],
   "source": []
  },
  {
   "cell_type": "code",
   "execution_count": null,
   "metadata": {},
   "outputs": [],
   "source": []
  }
 ],
 "metadata": {
  "kernelspec": {
   "display_name": "Python [conda env:ml_env]",
   "language": "python",
   "name": "conda-env-ml_env-py"
  },
  "language_info": {
   "codemirror_mode": {
    "name": "ipython",
    "version": 3
   },
   "file_extension": ".py",
   "mimetype": "text/x-python",
   "name": "python",
   "nbconvert_exporter": "python",
   "pygments_lexer": "ipython3",
   "version": "3.7.7"
  }
 },
 "nbformat": 4,
 "nbformat_minor": 4
}
