{
 "cells": [
  {
   "cell_type": "code",
   "execution_count": 532,
   "metadata": {},
   "outputs": [],
   "source": [
    "\n",
    "import pandas as pd\n",
    "\n",
    "import matplotlib.pyplot as plt\n",
    "import seaborn as sns\n",
    "import numpy as np\n",
    "plt.style.use('seaborn')\n",
    "%matplotlib inline\n",
    "df=pd.read_csv(f'../data/raw/diamonds_train.csv')"
   ]
  },
  {
   "cell_type": "code",
   "execution_count": 533,
   "metadata": {},
   "outputs": [
    {
     "name": "stdout",
     "output_type": "stream",
     "text": [
      "<class 'pandas.core.frame.DataFrame'>\n",
      "RangeIndex: 40455 entries, 0 to 40454\n",
      "Data columns (total 10 columns):\n",
      " #   Column   Non-Null Count  Dtype  \n",
      "---  ------   --------------  -----  \n",
      " 0   carat    40455 non-null  float64\n",
      " 1   cut      40455 non-null  object \n",
      " 2   color    40455 non-null  object \n",
      " 3   clarity  40455 non-null  object \n",
      " 4   depth    40455 non-null  float64\n",
      " 5   table    40455 non-null  float64\n",
      " 6   price    40455 non-null  int64  \n",
      " 7   x        40455 non-null  float64\n",
      " 8   y        40455 non-null  float64\n",
      " 9   z        40455 non-null  float64\n",
      "dtypes: float64(6), int64(1), object(3)\n",
      "memory usage: 9.5 MB\n"
     ]
    }
   ],
   "source": [
    "df.info(memory_usage='deep')"
   ]
  },
  {
   "cell_type": "code",
   "execution_count": 534,
   "metadata": {},
   "outputs": [
    {
     "name": "stdout",
     "output_type": "stream",
     "text": [
      "<class 'pandas.core.frame.DataFrame'>\n",
      "RangeIndex: 40455 entries, 0 to 40454\n",
      "Data columns (total 10 columns):\n",
      " #   Column   Non-Null Count  Dtype   \n",
      "---  ------   --------------  -----   \n",
      " 0   carat    40455 non-null  float64 \n",
      " 1   cut      40455 non-null  category\n",
      " 2   color    40455 non-null  category\n",
      " 3   clarity  40455 non-null  category\n",
      " 4   depth    40455 non-null  float64 \n",
      " 5   table    40455 non-null  float64 \n",
      " 6   price    40455 non-null  int64   \n",
      " 7   x        40455 non-null  float64 \n",
      " 8   y        40455 non-null  float64 \n",
      " 9   z        40455 non-null  float64 \n",
      "dtypes: category(3), float64(6), int64(1)\n",
      "memory usage: 2.3 MB\n"
     ]
    }
   ],
   "source": [
    "df['cut'] = df['cut'].astype('category')\n",
    "df['color'] = df['color'].astype('category')\n",
    "df['clarity'] = df['clarity'].astype('category')\n",
    "df.info(memory_usage='deep')"
   ]
  },
  {
   "cell_type": "code",
   "execution_count": 535,
   "metadata": {},
   "outputs": [],
   "source": [
    "df['cut_int']=''\n",
    "\n",
    "df.loc[df['cut']=='Fair','cut_int']=1\n",
    "\n",
    "df.loc[df['cut']=='Good','cut_int']=2\n",
    "\n",
    "df.loc[df['cut']=='Very Good','cut_int']=3\n",
    "\n",
    "df.loc[df['cut']=='Premium','cut_int']=4\n",
    "\n",
    "df.loc[df['cut']=='Ideal','cut_int']=5\n",
    "\n",
    "df['cut_int'] = df['cut_int'].astype('int64')\n",
    "\n",
    "df['color_int']=''\n",
    "\n",
    "df.loc[df['color']=='J','color_int']=1\n",
    "df.loc[df['color']=='I','color_int']=2\n",
    "df.loc[df['color']=='H','color_int']=3\n",
    "df.loc[df['color']=='G','color_int']=4\n",
    "df.loc[df['color']=='F','color_int']=5\n",
    "df.loc[df['color']=='E','color_int']=6\n",
    "df.loc[df['color']=='D','color_int']=7\n",
    "\n",
    "\n",
    "df['color_int'] = df['color_int'].astype('int64')\n",
    "\n",
    "df['clarity_int']=''\n",
    "\n",
    "df.loc[df['clarity']=='I1','clarity_int']=1\n",
    "df.loc[df['clarity']=='SI2','clarity_int']=2\n",
    "df.loc[df['clarity']=='SI1','clarity_int']=3\n",
    "df.loc[df['clarity']=='VS2','clarity_int']=4\n",
    "df.loc[df['clarity']=='VS1','clarity_int']=5\n",
    "df.loc[df['clarity']=='VVS2','clarity_int']=6\n",
    "df.loc[df['clarity']=='VVS1','clarity_int']=7\n",
    "df.loc[df['clarity']=='IF','clarity_int']=8\n",
    "\n",
    "\n",
    "df['clarity_int'] = df['clarity_int'].astype('int64')"
   ]
  },
  {
   "cell_type": "code",
   "execution_count": 536,
   "metadata": {},
   "outputs": [],
   "source": [
    "df['cut_color_clarity_score'] = df.apply(lambda new: 3*new['cut_int']+3*new['color_int']+4*new['clarity_int'], axis=1)"
   ]
  },
  {
   "cell_type": "code",
   "execution_count": 537,
   "metadata": {},
   "outputs": [],
   "source": [
    "df['raw_density'] = (df['carat']*0.2)/(df['x']*df['y']*df['z']/3/1000)"
   ]
  },
  {
   "cell_type": "code",
   "execution_count": 538,
   "metadata": {},
   "outputs": [],
   "source": [
    "def marketing_carat(x):\n",
    "    h=0.05\n",
    "    for z in range(1,6):\n",
    "        if (z-h)<=x<(z):\n",
    "            y='bad'\n",
    "            break\n",
    "        elif (z)<=x<(z+h):\n",
    "            y='good'\n",
    "            break\n",
    "        else:\n",
    "            y='regular'\n",
    "    return y\n",
    "\n",
    "df['marketing_carat']=df.apply(lambda x: marketing_carat(x['carat']), axis=1) \n",
    "    \n",
    "df['marketing_carat_int']=''\n",
    "\n",
    "df.loc[df['marketing_carat']=='bad','marketing_carat_int']=0\n",
    "df.loc[df['marketing_carat']=='regular','marketing_carat_int']=1\n",
    "df.loc[df['marketing_carat']=='good','marketing_carat_int']=2\n",
    "\n",
    "\n",
    "\n",
    "df['marketing_carat_int'] = df['marketing_carat_int'].astype('int64')    \n",
    "\n"
   ]
  },
  {
   "cell_type": "markdown",
   "metadata": {},
   "source": [
    "## PRUEBAS FILAS"
   ]
  },
  {
   "cell_type": "code",
   "execution_count": 539,
   "metadata": {},
   "outputs": [],
   "source": [
    "\n",
    "df=df.drop_duplicates(subset=df.columns, keep='first')"
   ]
  },
  {
   "cell_type": "code",
   "execution_count": 540,
   "metadata": {},
   "outputs": [],
   "source": [
    "filter_xyz=(df['x']<0.2) | (df['y']<0.2) | (df['z']<0.2)\n",
    "df=df.loc[~filter_xyz].reset_index()\n",
    "df=df.drop(columns=['index'],axis=1)"
   ]
  },
  {
   "cell_type": "code",
   "execution_count": 541,
   "metadata": {},
   "outputs": [],
   "source": [
    "df['depth_calc'] = df['z'] / ((df['x'] + df['y'])/2)*100\n",
    "df['rest']=df['depth_calc'] - df['depth'] \n",
    "\n",
    "filter_rest=(df['rest']<-1) | (df['rest']>1)\n",
    "df=df.loc[~filter_rest].reset_index()\n",
    "df=df.drop(columns=['index','depth_calc','rest'],axis=1)\n",
    "\n",
    "\n",
    "\n",
    "\n"
   ]
  },
  {
   "cell_type": "code",
   "execution_count": 543,
   "metadata": {},
   "outputs": [],
   "source": [
    "\n",
    "# sns.set(font_scale=1)\n",
    "# dft=df.corr(method='spearman')\n",
    "# mask = np.triu(np.ones_like(dft, dtype=np.bool))\n",
    "# f, ax = plt.subplots(figsize=(20, 10))\n",
    "# cmap = sns.diverging_palette(220, 10, as_cmap=True)\n",
    "# sns.heatmap(dft, mask=mask, cmap=cmap, vmax=.3, center=0,\n",
    "#             square=True, linewidths=.5, cbar_kws={\"shrink\": .5}, annot=True)\n",
    "\n",
    "# plt.show()"
   ]
  },
  {
   "cell_type": "code",
   "execution_count": 544,
   "metadata": {},
   "outputs": [],
   "source": [
    "dfd=pd.get_dummies(df)"
   ]
  },
  {
   "cell_type": "code",
   "execution_count": 545,
   "metadata": {},
   "outputs": [],
   "source": [
    "df.to_csv('../data/processed/df.csv')\n",
    "dfd.to_csv('../data/processed/dfd.csv')"
   ]
  },
  {
   "cell_type": "code",
   "execution_count": null,
   "metadata": {},
   "outputs": [],
   "source": []
  },
  {
   "cell_type": "code",
   "execution_count": null,
   "metadata": {},
   "outputs": [],
   "source": []
  },
  {
   "cell_type": "code",
   "execution_count": null,
   "metadata": {},
   "outputs": [],
   "source": []
  },
  {
   "cell_type": "code",
   "execution_count": null,
   "metadata": {},
   "outputs": [],
   "source": []
  }
 ],
 "metadata": {
  "kernelspec": {
   "display_name": "Python [conda env:ml_env]",
   "language": "python",
   "name": "conda-env-ml_env-py"
  },
  "language_info": {
   "codemirror_mode": {
    "name": "ipython",
    "version": 3
   },
   "file_extension": ".py",
   "mimetype": "text/x-python",
   "name": "python",
   "nbconvert_exporter": "python",
   "pygments_lexer": "ipython3",
   "version": "3.7.7"
  }
 },
 "nbformat": 4,
 "nbformat_minor": 4
}
