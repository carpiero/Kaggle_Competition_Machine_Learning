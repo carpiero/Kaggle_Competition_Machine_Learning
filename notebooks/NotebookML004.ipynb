{
 "cells": [
  {
   "cell_type": "markdown",
   "metadata": {},
   "source": [
    "<img src=\"../images/diamond.png\" alt=\"Drawing\" style=\"width: 200px;\"/>\n",
    "\n",
    "# **Diamond Datasheet** \n",
    "## **NotebookML 004**\n",
    "\n",
    "***\n",
    "\n",
    "## Machine Learning Model auto-sklearn\n",
    "\n",
    "***"
   ]
  },
  {
   "cell_type": "code",
   "execution_count": 23,
   "metadata": {},
   "outputs": [
    {
     "ename": "ModuleNotFoundError",
     "evalue": "No module named 'autosklearn'",
     "output_type": "error",
     "traceback": [
      "\u001b[0;31m---------------------------------------------------------------------------\u001b[0m",
      "\u001b[0;31mModuleNotFoundError\u001b[0m                       Traceback (most recent call last)",
      "\u001b[0;32m<ipython-input-23-104acaaa4090>\u001b[0m in \u001b[0;36m<module>\u001b[0;34m\u001b[0m\n\u001b[1;32m      1\u001b[0m \u001b[0;32mfrom\u001b[0m \u001b[0msklearn\u001b[0m\u001b[0;34m.\u001b[0m\u001b[0mmodel_selection\u001b[0m \u001b[0;32mimport\u001b[0m \u001b[0mcross_val_score\u001b[0m\u001b[0;34m,\u001b[0m \u001b[0mtrain_test_split\u001b[0m\u001b[0;34m,\u001b[0m \u001b[0mRandomizedSearchCV\u001b[0m \u001b[0;34m,\u001b[0m \u001b[0mGridSearchCV\u001b[0m\u001b[0;34m\u001b[0m\u001b[0;34m\u001b[0m\u001b[0m\n\u001b[1;32m      2\u001b[0m \u001b[0;32mfrom\u001b[0m \u001b[0msklearn\u001b[0m\u001b[0;34m.\u001b[0m\u001b[0mmetrics\u001b[0m \u001b[0;32mimport\u001b[0m \u001b[0mr2_score\u001b[0m\u001b[0;34m,\u001b[0m \u001b[0mmean_squared_error\u001b[0m\u001b[0;34m\u001b[0m\u001b[0;34m\u001b[0m\u001b[0m\n\u001b[0;32m----> 3\u001b[0;31m \u001b[0;32mimport\u001b[0m \u001b[0mautosklearn\u001b[0m\u001b[0;34m.\u001b[0m\u001b[0mregression\u001b[0m\u001b[0;34m\u001b[0m\u001b[0;34m\u001b[0m\u001b[0m\n\u001b[0m\u001b[1;32m      4\u001b[0m \u001b[0;32mimport\u001b[0m \u001b[0mpandas\u001b[0m \u001b[0;32mas\u001b[0m \u001b[0mpd\u001b[0m\u001b[0;34m\u001b[0m\u001b[0;34m\u001b[0m\u001b[0m\n\u001b[1;32m      5\u001b[0m \u001b[0;32mimport\u001b[0m \u001b[0mnumpy\u001b[0m \u001b[0;32mas\u001b[0m \u001b[0mnp\u001b[0m\u001b[0;34m\u001b[0m\u001b[0;34m\u001b[0m\u001b[0m\n",
      "\u001b[0;31mModuleNotFoundError\u001b[0m: No module named 'autosklearn'"
     ]
    }
   ],
   "source": [
    "from sklearn.model_selection import cross_val_score, train_test_split, RandomizedSearchCV , GridSearchCV\n",
    "from sklearn.metrics import r2_score, mean_squared_error\n",
    "import autosklearn.regression\n",
    "import pandas as pd\n",
    "import numpy as np\n",
    "from tpot import TPOTRegressor\n",
    "\n",
    "\n",
    "X=pd.read_csv('../data/processed/X.csv')\n",
    "Y=pd.read_csv('../data/processed/Y.csv')\n",
    "X_predict=pd.read_csv('../data/processed/X_predict.csv')\n",
    "df_predict=pd.read_csv('../data/processed/df_predict.csv')"
   ]
  },
  {
   "cell_type": "code",
   "execution_count": 20,
   "metadata": {},
   "outputs": [
    {
     "name": "stdout",
     "output_type": "stream",
     "text": [
      "(26756, 11)\n",
      "(6851, 11)\n",
      "(6690, 11)\n",
      "\n",
      "\n"
     ]
    }
   ],
   "source": [
    "X_train, X_test, Y_train, Y_test = train_test_split(X,Y, train_size=0.83)\n",
    "    \n",
    "X_train, X_validation, Y_train, Y_validation = train_test_split(X_train,Y_train, train_size=0.80)\n",
    "\n",
    "print(X_train.shape)\n",
    "print(X_test.shape)\n",
    "print(f'{X_validation.shape}\\n\\n')"
   ]
  },
  {
   "cell_type": "code",
   "execution_count": 22,
   "metadata": {},
   "outputs": [
    {
     "ename": "NameError",
     "evalue": "name 'autosklearn' is not defined",
     "output_type": "error",
     "traceback": [
      "\u001b[0;31m---------------------------------------------------------------------------\u001b[0m",
      "\u001b[0;31mNameError\u001b[0m                                 Traceback (most recent call last)",
      "\u001b[0;32m<ipython-input-22-b4318ebfa42b>\u001b[0m in \u001b[0;36m<module>\u001b[0;34m\u001b[0m\n\u001b[0;32m----> 1\u001b[0;31m automl = autosklearn.regression.AutoSklearnRegressor(\n\u001b[0m\u001b[1;32m      2\u001b[0m     \u001b[0mtime_left_for_this_task\u001b[0m\u001b[0;34m=\u001b[0m\u001b[0;36m120\u001b[0m\u001b[0;34m,\u001b[0m\u001b[0;34m\u001b[0m\u001b[0;34m\u001b[0m\u001b[0m\n\u001b[1;32m      3\u001b[0m     per_run_time_limit=30)\n\u001b[1;32m      4\u001b[0m \u001b[0;34m\u001b[0m\u001b[0m\n\u001b[1;32m      5\u001b[0m \u001b[0mautoml\u001b[0m\u001b[0;34m.\u001b[0m\u001b[0mfit\u001b[0m\u001b[0;34m(\u001b[0m\u001b[0mX_train\u001b[0m\u001b[0;34m,\u001b[0m \u001b[0mY_train\u001b[0m\u001b[0;34m)\u001b[0m\u001b[0;34m\u001b[0m\u001b[0;34m\u001b[0m\u001b[0m\n",
      "\u001b[0;31mNameError\u001b[0m: name 'autosklearn' is not defined"
     ]
    }
   ],
   "source": [
    "automl = autosklearn.regression.AutoSklearnRegressor(\n",
    "    time_left_for_this_task=120,\n",
    "    per_run_time_limit=30)\n",
    "\n",
    "automl.fit(X_train, Y_train)"
   ]
  },
  {
   "cell_type": "code",
   "execution_count": 12,
   "metadata": {},
   "outputs": [
    {
     "name": "stdout",
     "output_type": "stream",
     "text": [
      " RMSE train = 395.0999235259842\n",
      " RMSE test = 542.4346359694784\n",
      " RMSE validation = 517.0234305771182\n",
      "\n",
      "\n",
      " RMSE proxy = 74.58528770541143\n",
      "\n",
      "\n"
     ]
    }
   ],
   "source": [
    "predictions_train = automl.predict(X_train)\n",
    "predictions_test = automl.predict(X_test)\n",
    "predictions_validation = automl.predict(X_validation)\n",
    "\n",
    "\n",
    "strain=(mean_squared_error(Y_train, predictions_train,squared=False))\n",
    "stest=(mean_squared_error(Y_test, predictions_test,squared=False))\n",
    "svalidation=(mean_squared_error(Y_validation, predictions_validation,squared=False))\n",
    "\n",
    "proxy=(strain/(stest/2 + svalidation/2))*100\n",
    "\n",
    "print(f' RMSE train = {(mean_squared_error(Y_train, predictions_train,squared=False))}')\n",
    "print(f' RMSE test = {(mean_squared_error(Y_test, predictions_test,squared=False))}')\n",
    "print(f' RMSE validation = {(mean_squared_error(Y_validation, predictions_validation,squared=False))}\\n\\n')\n",
    "print(f' RMSE proxy = {proxy}\\n\\n')"
   ]
  },
  {
   "cell_type": "code",
   "execution_count": 16,
   "metadata": {},
   "outputs": [
    {
     "name": "stderr",
     "output_type": "stream",
     "text": [
      "/home/carpiero/miniconda3/envs/ml_env/lib/python3.7/site-packages/ipykernel_launcher.py:2: DataConversionWarning: A column-vector y was passed when a 1d array was expected. Please change the shape of y to (n_samples,), for example using ravel().\n",
      "  \n"
     ]
    },
    {
     "name": "stdout",
     "output_type": "stream",
     "text": [
      " RMSE train = 394.55649990893704\n",
      " RMSE test = 541.4197751118885\n",
      " RMSE validation = 515.8386305558495\n",
      "\n",
      "\n",
      " RMSE proxy = 74.63766621174226\n",
      "\n",
      "\n"
     ]
    }
   ],
   "source": [
    "\n",
    "model = ExtraTreesRegressor(bootstrap=False, max_features=0.8, min_samples_leaf=1, min_samples_split=16, n_estimators=100)\n",
    "model.fit(X_train, Y_train)\n",
    "\n",
    "predictions_train = model.predict(X_train)\n",
    "predictions_test = model.predict(X_test)\n",
    "predictions_validation = model.predict(X_validation)\n",
    "\n",
    "\n",
    "strain=(mean_squared_error(Y_train, predictions_train,squared=False))\n",
    "stest=(mean_squared_error(Y_test, predictions_test,squared=False))\n",
    "svalidation=(mean_squared_error(Y_validation, predictions_validation,squared=False))\n",
    "\n",
    "proxy=(strain/(stest/2 + svalidation/2))*100\n",
    "\n",
    "print(f' RMSE train = {(mean_squared_error(Y_train, predictions_train,squared=False))}')\n",
    "print(f' RMSE test = {(mean_squared_error(Y_test, predictions_test,squared=False))}')\n",
    "print(f' RMSE validation = {(mean_squared_error(Y_validation, predictions_validation,squared=False))}\\n\\n')\n",
    "print(f' RMSE proxy = {proxy}\\n\\n')"
   ]
  },
  {
   "cell_type": "code",
   "execution_count": null,
   "metadata": {},
   "outputs": [],
   "source": []
  },
  {
   "cell_type": "code",
   "execution_count": null,
   "metadata": {},
   "outputs": [],
   "source": []
  }
 ],
 "metadata": {
  "kernelspec": {
   "display_name": "Python [conda env:ml_env]",
   "language": "python",
   "name": "conda-env-ml_env-py"
  },
  "language_info": {
   "codemirror_mode": {
    "name": "ipython",
    "version": 3
   },
   "file_extension": ".py",
   "mimetype": "text/x-python",
   "name": "python",
   "nbconvert_exporter": "python",
   "pygments_lexer": "ipython3",
   "version": "3.7.7"
  }
 },
 "nbformat": 4,
 "nbformat_minor": 4
}
